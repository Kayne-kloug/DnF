{
 "cells": [
  {
   "cell_type": "code",
   "execution_count": 24,
   "metadata": {},
   "outputs": [],
   "source": [
    "import pandas as pd\n",
    "import requests\n",
    "\n",
    "import numpy as np\n",
    "import matplotlib.pyplot as plt\n",
    "import seaborn as sns\n",
    "\n",
    "from tqdm import tqdm"
   ]
  },
  {
   "cell_type": "markdown",
   "metadata": {},
   "source": [
    "# 유저 데이터 불러오기"
   ]
  },
  {
   "cell_type": "markdown",
   "metadata": {},
   "source": [
    "### 유저 아바타 데이터"
   ]
  },
  {
   "cell_type": "code",
   "execution_count": 25,
   "metadata": {},
   "outputs": [
    {
     "name": "stderr",
     "output_type": "stream",
     "text": [
      "C:\\Users\\Administrator\\AppData\\Local\\Temp\\ipykernel_7068\\2718127190.py:1: DtypeWarning: Columns (124,125,219,220) have mixed types. Specify dtype option on import or set low_memory=False.\n",
      "  data1 = pd.read_csv(\"output1.csv\")\n",
      "C:\\Users\\Administrator\\AppData\\Local\\Temp\\ipykernel_7068\\2718127190.py:3: DtypeWarning: Columns (124,125,148,149,219,220) have mixed types. Specify dtype option on import or set low_memory=False.\n",
      "  data3 = pd.read_csv(\"output3.csv\")\n"
     ]
    }
   ],
   "source": [
    "data1 = pd.read_csv(\"output1.csv\")\n",
    "data2 = pd.read_csv(\"output2.csv\")\n",
    "data3 = pd.read_csv(\"output3.csv\")\n",
    "\n",
    "data = pd.concat([data1,data2,data3], ignore_index=True)\n",
    "\n",
    "del data1, data2, data3"
   ]
  },
  {
   "cell_type": "code",
   "execution_count": 26,
   "metadata": {},
   "outputs": [
    {
     "data": {
      "text/plain": [
       "90600"
      ]
     },
     "execution_count": 26,
     "metadata": {},
     "output_type": "execute_result"
    }
   ],
   "source": [
    "len(data)"
   ]
  },
  {
   "cell_type": "markdown",
   "metadata": {},
   "source": [
    "### 유저 데이터(명성 순)"
   ]
  },
  {
   "cell_type": "code",
   "execution_count": 27,
   "metadata": {},
   "outputs": [],
   "source": [
    "user1 = pd.read_csv(\"user1.csv\")\n",
    "user2 =pd.read_csv(\"user2.csv\")\n",
    "user3 =pd.read_csv(\"user3.csv\")\n",
    "\n",
    "user = pd.concat([user1,user2,user3],ignore_index=True)\n",
    "del user1,user2,user3"
   ]
  },
  {
   "cell_type": "code",
   "execution_count": 28,
   "metadata": {},
   "outputs": [
    {
     "data": {
      "text/plain": [
       "90600"
      ]
     },
     "execution_count": 28,
     "metadata": {},
     "output_type": "execute_result"
    }
   ],
   "source": [
    "len(user)"
   ]
  },
  {
   "cell_type": "markdown",
   "metadata": {},
   "source": [
    "# 전처리"
   ]
  },
  {
   "cell_type": "markdown",
   "metadata": {},
   "source": [
    "### 필요한 컬럼 추출"
   ]
  },
  {
   "cell_type": "code",
   "execution_count": 29,
   "metadata": {},
   "outputs": [
    {
     "data": {
      "text/html": [
       "<div>\n",
       "<style scoped>\n",
       "    .dataframe tbody tr th:only-of-type {\n",
       "        vertical-align: middle;\n",
       "    }\n",
       "\n",
       "    .dataframe tbody tr th {\n",
       "        vertical-align: top;\n",
       "    }\n",
       "\n",
       "    .dataframe thead th {\n",
       "        text-align: right;\n",
       "    }\n",
       "</style>\n",
       "<table border=\"1\" class=\"dataframe\">\n",
       "  <thead>\n",
       "    <tr style=\"text-align: right;\">\n",
       "      <th></th>\n",
       "      <th>characterId</th>\n",
       "      <th>characterName</th>\n",
       "      <th>jobId</th>\n",
       "      <th>jobName</th>\n",
       "      <th>HEADGEAR__avatar_slotId</th>\n",
       "      <th>HEADGEAR__avatar_slotName</th>\n",
       "      <th>HEADGEAR__avatar_itemId</th>\n",
       "      <th>HEADGEAR__avatar_itemName</th>\n",
       "      <th>HEADGEAR__avatar_clone_itemId</th>\n",
       "      <th>HEADGEAR__avatar_clone_itemName</th>\n",
       "      <th>...</th>\n",
       "      <th>WEAPON__avatar_itemId</th>\n",
       "      <th>WEAPON__avatar_itemName</th>\n",
       "      <th>WEAPON__avatar_clone_itemId</th>\n",
       "      <th>WEAPON__avatar_clone_itemName</th>\n",
       "      <th>AURA_SKIN__avatar_slotId</th>\n",
       "      <th>AURA_SKIN__avatar_slotName</th>\n",
       "      <th>AURA_SKIN__avatar_itemId</th>\n",
       "      <th>AURA_SKIN__avatar_itemName</th>\n",
       "      <th>AURA_SKIN__avatar_clone_itemId</th>\n",
       "      <th>AURA_SKIN__avatar_clone_itemName</th>\n",
       "    </tr>\n",
       "  </thead>\n",
       "  <tbody>\n",
       "    <tr>\n",
       "      <th>0</th>\n",
       "      <td>150a23219a59e086e36db59028c06a50</td>\n",
       "      <td>헤롱카테</td>\n",
       "      <td>3909d0b188e9c95311399f776e331da5</td>\n",
       "      <td>마법사(여)</td>\n",
       "      <td>HEADGEAR</td>\n",
       "      <td>모자 아바타</td>\n",
       "      <td>aebd9700b2de7be3fc909f89f8cfffce</td>\n",
       "      <td>레어 모자 클론 아바타</td>\n",
       "      <td>14d18062b175b136d7ef6f1db407f58d</td>\n",
       "      <td>던파스쿨 고양이 머리띠[A타입]</td>\n",
       "      <td>...</td>\n",
       "      <td>e16f404ee01406d159987f41abd99118</td>\n",
       "      <td>레어 무기 클론 아바타[40Lv]</td>\n",
       "      <td>e5f9d8f370765a3496f0b3ef189a0e7f</td>\n",
       "      <td>포식의 욕망</td>\n",
       "      <td>AURA_SKIN</td>\n",
       "      <td>오라 스킨 아바타</td>\n",
       "      <td>d1bb79f2380a3375cb7a473246053ffa</td>\n",
       "      <td>★미쿠와 함께★</td>\n",
       "      <td>NaN</td>\n",
       "      <td>NaN</td>\n",
       "    </tr>\n",
       "    <tr>\n",
       "      <th>1</th>\n",
       "      <td>0daa8c49cae531262f966dd637008e30</td>\n",
       "      <td>민트크림소스</td>\n",
       "      <td>3909d0b188e9c95311399f776e331da5</td>\n",
       "      <td>마법사(여)</td>\n",
       "      <td>HEADGEAR</td>\n",
       "      <td>모자 아바타</td>\n",
       "      <td>d73b5d96d17c84e54ff2a999658a4845</td>\n",
       "      <td>레어 모자 클론 아바타</td>\n",
       "      <td>9b676223df861e8932d01fa8be03dd6a</td>\n",
       "      <td>아라드 해변 리본 모자[C타입]</td>\n",
       "      <td>...</td>\n",
       "      <td>6f664071d276072fdc25371252816989</td>\n",
       "      <td>레어 무기 클론 아바타[75Lv]</td>\n",
       "      <td>f742d25f8e25513de703149cbd432e65</td>\n",
       "      <td>엘프 여왕의 정령</td>\n",
       "      <td>AURA_SKIN</td>\n",
       "      <td>오라 스킨 아바타</td>\n",
       "      <td>4754847cc0c85ffbcc6bd108e9207f6c</td>\n",
       "      <td>모험단 모션 오라 아바타</td>\n",
       "      <td>2fd6865377f6563035def5de26f489b7</td>\n",
       "      <td>해방된 요기 오라</td>\n",
       "    </tr>\n",
       "    <tr>\n",
       "      <th>2</th>\n",
       "      <td>103e5c925e8a698e89abd4d68cce1d0e</td>\n",
       "      <td>스팅거타이거</td>\n",
       "      <td>afdf3b989339de478e85b614d274d1ef</td>\n",
       "      <td>거너(남)</td>\n",
       "      <td>HEADGEAR</td>\n",
       "      <td>모자 아바타</td>\n",
       "      <td>80c6a6b7b5c1ab32bb401dfadf76ace8</td>\n",
       "      <td>레어 모자 클론 아바타</td>\n",
       "      <td>89f6c4947ec18a4b0aab705b0e93b3a1</td>\n",
       "      <td>진 메카닉의 헤드폰[B타입]</td>\n",
       "      <td>...</td>\n",
       "      <td>dd013289916783dddc5a90f378682e40</td>\n",
       "      <td>레어 무기 클론 아바타[80Lv]</td>\n",
       "      <td>d58731378b57cdcd957614255173424a</td>\n",
       "      <td>던전앤파이터 클래식 캐논</td>\n",
       "      <td>AURA_SKIN</td>\n",
       "      <td>오라 스킨 아바타</td>\n",
       "      <td>3baabfc239dd420d0b6673c7b1426391</td>\n",
       "      <td>푸른빛 홀로그램</td>\n",
       "      <td>NaN</td>\n",
       "      <td>NaN</td>\n",
       "    </tr>\n",
       "    <tr>\n",
       "      <th>3</th>\n",
       "      <td>3ba38c77f2868f34d910e362d0f4cae1</td>\n",
       "      <td>프라디지</td>\n",
       "      <td>41f1cdc2ff58bb5fdc287be0db2a8df3</td>\n",
       "      <td>귀검사(남)</td>\n",
       "      <td>HEADGEAR</td>\n",
       "      <td>모자 아바타</td>\n",
       "      <td>3bd48b7a41985ad02bd07ec91dcf04a8</td>\n",
       "      <td>레어 모자 클론 아바타</td>\n",
       "      <td>995900bb5ded1b28e387a0e709572fae</td>\n",
       "      <td>부러진 악마의 블랙 혼</td>\n",
       "      <td>...</td>\n",
       "      <td>7b0532818737be0b0e6f1e2c4042cf60</td>\n",
       "      <td>레어 무기 클론 아바타[75Lv]</td>\n",
       "      <td>a6f732dc2f3fa8ef24a420cca2ca5aa2</td>\n",
       "      <td>명도 후구도쿠</td>\n",
       "      <td>AURA_SKIN</td>\n",
       "      <td>오라 스킨 아바타</td>\n",
       "      <td>025ff1f20ce27272539704aedb878ac1</td>\n",
       "      <td>연옥의 불길</td>\n",
       "      <td>NaN</td>\n",
       "      <td>NaN</td>\n",
       "    </tr>\n",
       "    <tr>\n",
       "      <th>4</th>\n",
       "      <td>79a62ecc85e602ae7f13b79b766aa2ee</td>\n",
       "      <td>금요일야근</td>\n",
       "      <td>0c1b401bb09241570d364420b3ba3fd7</td>\n",
       "      <td>프리스트(여)</td>\n",
       "      <td>HEADGEAR</td>\n",
       "      <td>모자 아바타</td>\n",
       "      <td>4073653019b52f859d27c96265c0b0a3</td>\n",
       "      <td>레어 모자 클론 아바타</td>\n",
       "      <td>NaN</td>\n",
       "      <td>NaN</td>\n",
       "      <td>...</td>\n",
       "      <td>f99c56e62fa39e93ec0f1fe793ccf05c</td>\n",
       "      <td>레어 무기 클론 아바타[45Lv]</td>\n",
       "      <td>6723b14653bc97f521e990439b3bad77</td>\n",
       "      <td>이면 1활 삼뢰의 포진</td>\n",
       "      <td>AURA_SKIN</td>\n",
       "      <td>오라 스킨 아바타</td>\n",
       "      <td>f99513274bbef4290a1379c223933338</td>\n",
       "      <td>조화가 무너진 기억</td>\n",
       "      <td>NaN</td>\n",
       "      <td>NaN</td>\n",
       "    </tr>\n",
       "    <tr>\n",
       "      <th>...</th>\n",
       "      <td>...</td>\n",
       "      <td>...</td>\n",
       "      <td>...</td>\n",
       "      <td>...</td>\n",
       "      <td>...</td>\n",
       "      <td>...</td>\n",
       "      <td>...</td>\n",
       "      <td>...</td>\n",
       "      <td>...</td>\n",
       "      <td>...</td>\n",
       "      <td>...</td>\n",
       "      <td>...</td>\n",
       "      <td>...</td>\n",
       "      <td>...</td>\n",
       "      <td>...</td>\n",
       "      <td>...</td>\n",
       "      <td>...</td>\n",
       "      <td>...</td>\n",
       "      <td>...</td>\n",
       "      <td>...</td>\n",
       "      <td>...</td>\n",
       "    </tr>\n",
       "    <tr>\n",
       "      <th>90595</th>\n",
       "      <td>5c37706a64742ce164d02b06456ec3d9</td>\n",
       "      <td>윤아에용</td>\n",
       "      <td>a7a059ebe9e6054c0644b40ef316d6e9</td>\n",
       "      <td>격투가(여)</td>\n",
       "      <td>HEADGEAR</td>\n",
       "      <td>모자 아바타</td>\n",
       "      <td>b8c1f046fe4fe0677f19195385d19b04</td>\n",
       "      <td>레어 모자 클론 아바타</td>\n",
       "      <td>53d334dc1641cd3f4605908bcaa89960</td>\n",
       "      <td>진 스트라이커의 거친 후드[A타입]</td>\n",
       "      <td>...</td>\n",
       "      <td>5c94117f7b5b2232b776011cfa42579e</td>\n",
       "      <td>무기 클론 아바타</td>\n",
       "      <td>NaN</td>\n",
       "      <td>NaN</td>\n",
       "      <td>NaN</td>\n",
       "      <td>NaN</td>\n",
       "      <td>NaN</td>\n",
       "      <td>NaN</td>\n",
       "      <td>NaN</td>\n",
       "      <td>NaN</td>\n",
       "    </tr>\n",
       "    <tr>\n",
       "      <th>90596</th>\n",
       "      <td>030f2b2ee126aec10bd0108c13b493c6</td>\n",
       "      <td>잿빛의시프</td>\n",
       "      <td>41f1cdc2ff58bb5fdc287be0db2a8df3</td>\n",
       "      <td>귀검사(남)</td>\n",
       "      <td>HEADGEAR</td>\n",
       "      <td>모자 아바타</td>\n",
       "      <td>3bd48b7a41985ad02bd07ec91dcf04a8</td>\n",
       "      <td>레어 모자 클론 아바타</td>\n",
       "      <td>711ee1f368e0e83f29d33f2b06bd4994</td>\n",
       "      <td>야생의 사파리 사모예드의 탈[A타입]</td>\n",
       "      <td>...</td>\n",
       "      <td>ccde39545f0f69b26e9f6b23f41751a0</td>\n",
       "      <td>레어 무기 클론 아바타[70Lv]</td>\n",
       "      <td>NaN</td>\n",
       "      <td>NaN</td>\n",
       "      <td>AURA_SKIN</td>\n",
       "      <td>오라 스킨 아바타</td>\n",
       "      <td>f99513274bbef4290a1379c223933338</td>\n",
       "      <td>조화가 무너진 기억</td>\n",
       "      <td>NaN</td>\n",
       "      <td>NaN</td>\n",
       "    </tr>\n",
       "    <tr>\n",
       "      <th>90597</th>\n",
       "      <td>c51246ee43ee7645995bdf8f2ee1a26f</td>\n",
       "      <td>저주거미</td>\n",
       "      <td>3909d0b188e9c95311399f776e331da5</td>\n",
       "      <td>마법사(여)</td>\n",
       "      <td>HEADGEAR</td>\n",
       "      <td>모자 아바타</td>\n",
       "      <td>92d9839ad426f31e9de3508d001f84ca</td>\n",
       "      <td>레어 모자 클론 아바타</td>\n",
       "      <td>72747b638f523948042eb783d4704bc2</td>\n",
       "      <td>아사미야 아테나의 모자[E타입]</td>\n",
       "      <td>...</td>\n",
       "      <td>e16f404ee01406d159987f41abd99118</td>\n",
       "      <td>레어 무기 클론 아바타[40Lv]</td>\n",
       "      <td>0a67f9043419e9684ca9693a2735cd6f</td>\n",
       "      <td>샤이닝 크리스탈 비트</td>\n",
       "      <td>AURA_SKIN</td>\n",
       "      <td>오라 스킨 아바타</td>\n",
       "      <td>f99513274bbef4290a1379c223933338</td>\n",
       "      <td>조화가 무너진 기억</td>\n",
       "      <td>NaN</td>\n",
       "      <td>NaN</td>\n",
       "    </tr>\n",
       "    <tr>\n",
       "      <th>90598</th>\n",
       "      <td>9c068b798696f994d39b14a0840abb10</td>\n",
       "      <td>찌뮤</td>\n",
       "      <td>b9cb48777665de22c006fabaf9a560b3</td>\n",
       "      <td>아처</td>\n",
       "      <td>HEADGEAR</td>\n",
       "      <td>모자 아바타</td>\n",
       "      <td>2defdc2422ff3c61f5ac1af583e79459</td>\n",
       "      <td>레어 모자 클론 아바타</td>\n",
       "      <td>c5e50a3ea8f71aed447cb461a585c034</td>\n",
       "      <td>차원의 별자리 리본 베레모[E타입]</td>\n",
       "      <td>...</td>\n",
       "      <td>f17318c539c39d6b6505462c13acc733</td>\n",
       "      <td>레어 무기 클론 아바타[60Lv]</td>\n",
       "      <td>NaN</td>\n",
       "      <td>NaN</td>\n",
       "      <td>AURA_SKIN</td>\n",
       "      <td>오라 스킨 아바타</td>\n",
       "      <td>f99513274bbef4290a1379c223933338</td>\n",
       "      <td>조화가 무너진 기억</td>\n",
       "      <td>NaN</td>\n",
       "      <td>NaN</td>\n",
       "    </tr>\n",
       "    <tr>\n",
       "      <th>90599</th>\n",
       "      <td>cf4ac67a4cacec7f53a12b5115b48887</td>\n",
       "      <td>찬가망둥이</td>\n",
       "      <td>0c1b401bb09241570d364420b3ba3fd7</td>\n",
       "      <td>프리스트(여)</td>\n",
       "      <td>HEADGEAR</td>\n",
       "      <td>모자 아바타</td>\n",
       "      <td>4073653019b52f859d27c96265c0b0a3</td>\n",
       "      <td>레어 모자 클론 아바타</td>\n",
       "      <td>5c1ce6ce3322ef6051135ccac6eca7e1</td>\n",
       "      <td>황금상 대두 아바타</td>\n",
       "      <td>...</td>\n",
       "      <td>67c9b1b3d2605e8b50a58775ef0f05db</td>\n",
       "      <td>무기 클론 아바타</td>\n",
       "      <td>d7686c7644da98c18e4aeab47634fd1f</td>\n",
       "      <td>디멘션 아라드 여프리스트의 무기</td>\n",
       "      <td>AURA_SKIN</td>\n",
       "      <td>오라 스킨 아바타</td>\n",
       "      <td>f99513274bbef4290a1379c223933338</td>\n",
       "      <td>조화가 무너진 기억</td>\n",
       "      <td>NaN</td>\n",
       "      <td>NaN</td>\n",
       "    </tr>\n",
       "  </tbody>\n",
       "</table>\n",
       "<p>90600 rows × 76 columns</p>\n",
       "</div>"
      ],
      "text/plain": [
       "                            characterId characterName  \\\n",
       "0      150a23219a59e086e36db59028c06a50          헤롱카테   \n",
       "1      0daa8c49cae531262f966dd637008e30        민트크림소스   \n",
       "2      103e5c925e8a698e89abd4d68cce1d0e        스팅거타이거   \n",
       "3      3ba38c77f2868f34d910e362d0f4cae1          프라디지   \n",
       "4      79a62ecc85e602ae7f13b79b766aa2ee         금요일야근   \n",
       "...                                 ...           ...   \n",
       "90595  5c37706a64742ce164d02b06456ec3d9          윤아에용   \n",
       "90596  030f2b2ee126aec10bd0108c13b493c6         잿빛의시프   \n",
       "90597  c51246ee43ee7645995bdf8f2ee1a26f          저주거미   \n",
       "90598  9c068b798696f994d39b14a0840abb10            찌뮤   \n",
       "90599  cf4ac67a4cacec7f53a12b5115b48887         찬가망둥이   \n",
       "\n",
       "                                  jobId  jobName HEADGEAR__avatar_slotId  \\\n",
       "0      3909d0b188e9c95311399f776e331da5   마법사(여)                HEADGEAR   \n",
       "1      3909d0b188e9c95311399f776e331da5   마법사(여)                HEADGEAR   \n",
       "2      afdf3b989339de478e85b614d274d1ef    거너(남)                HEADGEAR   \n",
       "3      41f1cdc2ff58bb5fdc287be0db2a8df3   귀검사(남)                HEADGEAR   \n",
       "4      0c1b401bb09241570d364420b3ba3fd7  프리스트(여)                HEADGEAR   \n",
       "...                                 ...      ...                     ...   \n",
       "90595  a7a059ebe9e6054c0644b40ef316d6e9   격투가(여)                HEADGEAR   \n",
       "90596  41f1cdc2ff58bb5fdc287be0db2a8df3   귀검사(남)                HEADGEAR   \n",
       "90597  3909d0b188e9c95311399f776e331da5   마법사(여)                HEADGEAR   \n",
       "90598  b9cb48777665de22c006fabaf9a560b3       아처                HEADGEAR   \n",
       "90599  0c1b401bb09241570d364420b3ba3fd7  프리스트(여)                HEADGEAR   \n",
       "\n",
       "      HEADGEAR__avatar_slotName           HEADGEAR__avatar_itemId  \\\n",
       "0                        모자 아바타  aebd9700b2de7be3fc909f89f8cfffce   \n",
       "1                        모자 아바타  d73b5d96d17c84e54ff2a999658a4845   \n",
       "2                        모자 아바타  80c6a6b7b5c1ab32bb401dfadf76ace8   \n",
       "3                        모자 아바타  3bd48b7a41985ad02bd07ec91dcf04a8   \n",
       "4                        모자 아바타  4073653019b52f859d27c96265c0b0a3   \n",
       "...                         ...                               ...   \n",
       "90595                    모자 아바타  b8c1f046fe4fe0677f19195385d19b04   \n",
       "90596                    모자 아바타  3bd48b7a41985ad02bd07ec91dcf04a8   \n",
       "90597                    모자 아바타  92d9839ad426f31e9de3508d001f84ca   \n",
       "90598                    모자 아바타  2defdc2422ff3c61f5ac1af583e79459   \n",
       "90599                    모자 아바타  4073653019b52f859d27c96265c0b0a3   \n",
       "\n",
       "      HEADGEAR__avatar_itemName     HEADGEAR__avatar_clone_itemId  \\\n",
       "0                  레어 모자 클론 아바타  14d18062b175b136d7ef6f1db407f58d   \n",
       "1                  레어 모자 클론 아바타  9b676223df861e8932d01fa8be03dd6a   \n",
       "2                  레어 모자 클론 아바타  89f6c4947ec18a4b0aab705b0e93b3a1   \n",
       "3                  레어 모자 클론 아바타  995900bb5ded1b28e387a0e709572fae   \n",
       "4                  레어 모자 클론 아바타                               NaN   \n",
       "...                         ...                               ...   \n",
       "90595              레어 모자 클론 아바타  53d334dc1641cd3f4605908bcaa89960   \n",
       "90596              레어 모자 클론 아바타  711ee1f368e0e83f29d33f2b06bd4994   \n",
       "90597              레어 모자 클론 아바타  72747b638f523948042eb783d4704bc2   \n",
       "90598              레어 모자 클론 아바타  c5e50a3ea8f71aed447cb461a585c034   \n",
       "90599              레어 모자 클론 아바타  5c1ce6ce3322ef6051135ccac6eca7e1   \n",
       "\n",
       "      HEADGEAR__avatar_clone_itemName  ...             WEAPON__avatar_itemId  \\\n",
       "0                   던파스쿨 고양이 머리띠[A타입]  ...  e16f404ee01406d159987f41abd99118   \n",
       "1                   아라드 해변 리본 모자[C타입]  ...  6f664071d276072fdc25371252816989   \n",
       "2                     진 메카닉의 헤드폰[B타입]  ...  dd013289916783dddc5a90f378682e40   \n",
       "3                        부러진 악마의 블랙 혼  ...  7b0532818737be0b0e6f1e2c4042cf60   \n",
       "4                                 NaN  ...  f99c56e62fa39e93ec0f1fe793ccf05c   \n",
       "...                               ...  ...                               ...   \n",
       "90595             진 스트라이커의 거친 후드[A타입]  ...  5c94117f7b5b2232b776011cfa42579e   \n",
       "90596            야생의 사파리 사모예드의 탈[A타입]  ...  ccde39545f0f69b26e9f6b23f41751a0   \n",
       "90597               아사미야 아테나의 모자[E타입]  ...  e16f404ee01406d159987f41abd99118   \n",
       "90598             차원의 별자리 리본 베레모[E타입]  ...  f17318c539c39d6b6505462c13acc733   \n",
       "90599                      황금상 대두 아바타  ...  67c9b1b3d2605e8b50a58775ef0f05db   \n",
       "\n",
       "      WEAPON__avatar_itemName       WEAPON__avatar_clone_itemId  \\\n",
       "0          레어 무기 클론 아바타[40Lv]  e5f9d8f370765a3496f0b3ef189a0e7f   \n",
       "1          레어 무기 클론 아바타[75Lv]  f742d25f8e25513de703149cbd432e65   \n",
       "2          레어 무기 클론 아바타[80Lv]  d58731378b57cdcd957614255173424a   \n",
       "3          레어 무기 클론 아바타[75Lv]  a6f732dc2f3fa8ef24a420cca2ca5aa2   \n",
       "4          레어 무기 클론 아바타[45Lv]  6723b14653bc97f521e990439b3bad77   \n",
       "...                       ...                               ...   \n",
       "90595               무기 클론 아바타                               NaN   \n",
       "90596      레어 무기 클론 아바타[70Lv]                               NaN   \n",
       "90597      레어 무기 클론 아바타[40Lv]  0a67f9043419e9684ca9693a2735cd6f   \n",
       "90598      레어 무기 클론 아바타[60Lv]                               NaN   \n",
       "90599               무기 클론 아바타  d7686c7644da98c18e4aeab47634fd1f   \n",
       "\n",
       "      WEAPON__avatar_clone_itemName AURA_SKIN__avatar_slotId  \\\n",
       "0                            포식의 욕망                AURA_SKIN   \n",
       "1                         엘프 여왕의 정령                AURA_SKIN   \n",
       "2                     던전앤파이터 클래식 캐논                AURA_SKIN   \n",
       "3                           명도 후구도쿠                AURA_SKIN   \n",
       "4                      이면 1활 삼뢰의 포진                AURA_SKIN   \n",
       "...                             ...                      ...   \n",
       "90595                           NaN                      NaN   \n",
       "90596                           NaN                AURA_SKIN   \n",
       "90597                   샤이닝 크리스탈 비트                AURA_SKIN   \n",
       "90598                           NaN                AURA_SKIN   \n",
       "90599             디멘션 아라드 여프리스트의 무기                AURA_SKIN   \n",
       "\n",
       "      AURA_SKIN__avatar_slotName          AURA_SKIN__avatar_itemId  \\\n",
       "0                      오라 스킨 아바타  d1bb79f2380a3375cb7a473246053ffa   \n",
       "1                      오라 스킨 아바타  4754847cc0c85ffbcc6bd108e9207f6c   \n",
       "2                      오라 스킨 아바타  3baabfc239dd420d0b6673c7b1426391   \n",
       "3                      오라 스킨 아바타  025ff1f20ce27272539704aedb878ac1   \n",
       "4                      오라 스킨 아바타  f99513274bbef4290a1379c223933338   \n",
       "...                          ...                               ...   \n",
       "90595                        NaN                               NaN   \n",
       "90596                  오라 스킨 아바타  f99513274bbef4290a1379c223933338   \n",
       "90597                  오라 스킨 아바타  f99513274bbef4290a1379c223933338   \n",
       "90598                  오라 스킨 아바타  f99513274bbef4290a1379c223933338   \n",
       "90599                  오라 스킨 아바타  f99513274bbef4290a1379c223933338   \n",
       "\n",
       "      AURA_SKIN__avatar_itemName    AURA_SKIN__avatar_clone_itemId  \\\n",
       "0                       ★미쿠와 함께★                               NaN   \n",
       "1                  모험단 모션 오라 아바타  2fd6865377f6563035def5de26f489b7   \n",
       "2                       푸른빛 홀로그램                               NaN   \n",
       "3                         연옥의 불길                               NaN   \n",
       "4                     조화가 무너진 기억                               NaN   \n",
       "...                          ...                               ...   \n",
       "90595                        NaN                               NaN   \n",
       "90596                 조화가 무너진 기억                               NaN   \n",
       "90597                 조화가 무너진 기억                               NaN   \n",
       "90598                 조화가 무너진 기억                               NaN   \n",
       "90599                 조화가 무너진 기억                               NaN   \n",
       "\n",
       "      AURA_SKIN__avatar_clone_itemName  \n",
       "0                                  NaN  \n",
       "1                            해방된 요기 오라  \n",
       "2                                  NaN  \n",
       "3                                  NaN  \n",
       "4                                  NaN  \n",
       "...                                ...  \n",
       "90595                              NaN  \n",
       "90596                              NaN  \n",
       "90597                              NaN  \n",
       "90598                              NaN  \n",
       "90599                              NaN  \n",
       "\n",
       "[90600 rows x 76 columns]"
      ]
     },
     "execution_count": 29,
     "metadata": {},
     "output_type": "execute_result"
    }
   ],
   "source": [
    "data = data[['characterId',\n",
    "'characterName',\n",
    "'jobId',\n",
    "'jobName',\n",
    "\n",
    "'HEADGEAR__avatar_slotId',\n",
    "'HEADGEAR__avatar_slotName',\n",
    "'HEADGEAR__avatar_itemId',\n",
    "'HEADGEAR__avatar_itemName',\n",
    "'HEADGEAR__avatar_clone_itemId',\n",
    "'HEADGEAR__avatar_clone_itemName',\n",
    "\n",
    "'HAIR__avatar_slotId',\n",
    "'HAIR__avatar_slotName',\n",
    "'HAIR__avatar_itemId',\n",
    "'HAIR__avatar_itemName',\n",
    "'HAIR__avatar_clone_itemId',\n",
    "'HAIR__avatar_clone_itemName',\n",
    "\n",
    "'FACE__avatar_slotId',\n",
    "'FACE__avatar_slotName',\n",
    "'FACE__avatar_itemId',\n",
    "'FACE__avatar_itemName',\n",
    "'FACE__avatar_clone_itemId',\n",
    "'FACE__avatar_clone_itemName',\n",
    "\n",
    "'JACKET__avatar_slotId',\n",
    "'JACKET__avatar_slotName',\n",
    "'JACKET__avatar_itemId',\n",
    "'JACKET__avatar_itemName',\n",
    "'JACKET__avatar_clone_itemId',\n",
    "'JACKET__avatar_clone_itemName',\n",
    "\n",
    "'PANTS__avatar_slotId',\n",
    "'PANTS__avatar_slotName',\n",
    "'PANTS__avatar_itemId',\n",
    "'PANTS__avatar_itemName',\n",
    "'PANTS__avatar_clone_itemId',\n",
    "'PANTS__avatar_clone_itemName',\n",
    "\n",
    "'SHOES__avatar_slotId',\n",
    "'SHOES__avatar_slotName',\n",
    "'SHOES__avatar_itemId',\n",
    "'SHOES__avatar_itemName',\n",
    "'SHOES__avatar_clone_itemId',\n",
    "'SHOES__avatar_clone_itemName',\n",
    "\n",
    "'BREAST__avatar_slotId',\n",
    "'BREAST__avatar_slotName',\n",
    "'BREAST__avatar_itemId',\n",
    "'BREAST__avatar_itemName',\n",
    "'BREAST__avatar_clone_itemId',\n",
    "'BREAST__avatar_clone_itemName',\n",
    "\n",
    "'WAIST__avatar_slotId',\n",
    "'WAIST__avatar_slotName',\n",
    "'WAIST__avatar_itemId',\n",
    "'WAIST__avatar_itemName',\n",
    "'WAIST__avatar_clone_itemId',\n",
    "'WAIST__avatar_clone_itemName',\n",
    "\n",
    "'SKIN__avatar_slotId',\n",
    "'SKIN__avatar_slotName',\n",
    "'SKIN__avatar_itemId',\n",
    "'SKIN__avatar_itemName',\n",
    "'SKIN__avatar_clone_itemId',\n",
    "'SKIN__avatar_clone_itemName',\n",
    "\n",
    "'AURORA__avatar_slotId',\n",
    "'AURORA__avatar_slotName',\n",
    "'AURORA__avatar_itemId',\n",
    "'AURORA__avatar_itemName',\n",
    "'AURORA__avatar_clone_itemId',\n",
    "'AURORA__avatar_clone_itemName',\n",
    "\n",
    "'WEAPON__avatar_slotId',\n",
    "'WEAPON__avatar_slotName',\n",
    "'WEAPON__avatar_itemId',\n",
    "'WEAPON__avatar_itemName',\n",
    "'WEAPON__avatar_clone_itemId',\n",
    "'WEAPON__avatar_clone_itemName',\n",
    "\n",
    "'AURA_SKIN__avatar_slotId',\n",
    "'AURA_SKIN__avatar_slotName',\n",
    "'AURA_SKIN__avatar_itemId',\n",
    "'AURA_SKIN__avatar_itemName',\n",
    "'AURA_SKIN__avatar_clone_itemId',\n",
    "'AURA_SKIN__avatar_clone_itemName']]\n",
    "\n",
    "data"
   ]
  },
  {
   "cell_type": "code",
   "execution_count": 30,
   "metadata": {},
   "outputs": [
    {
     "data": {
      "text/html": [
       "<div>\n",
       "<style scoped>\n",
       "    .dataframe tbody tr th:only-of-type {\n",
       "        vertical-align: middle;\n",
       "    }\n",
       "\n",
       "    .dataframe tbody tr th {\n",
       "        vertical-align: top;\n",
       "    }\n",
       "\n",
       "    .dataframe thead th {\n",
       "        text-align: right;\n",
       "    }\n",
       "</style>\n",
       "<table border=\"1\" class=\"dataframe\">\n",
       "  <thead>\n",
       "    <tr style=\"text-align: right;\">\n",
       "      <th></th>\n",
       "      <th>serverId</th>\n",
       "      <th>characterId</th>\n",
       "      <th>characterName</th>\n",
       "      <th>fame</th>\n",
       "    </tr>\n",
       "  </thead>\n",
       "  <tbody>\n",
       "    <tr>\n",
       "      <th>0</th>\n",
       "      <td>anton</td>\n",
       "      <td>150a23219a59e086e36db59028c06a50</td>\n",
       "      <td>헤롱카테</td>\n",
       "      <td>66993</td>\n",
       "    </tr>\n",
       "    <tr>\n",
       "      <th>1</th>\n",
       "      <td>hilder</td>\n",
       "      <td>0daa8c49cae531262f966dd637008e30</td>\n",
       "      <td>민트크림소스</td>\n",
       "      <td>66787</td>\n",
       "    </tr>\n",
       "    <tr>\n",
       "      <th>2</th>\n",
       "      <td>anton</td>\n",
       "      <td>103e5c925e8a698e89abd4d68cce1d0e</td>\n",
       "      <td>스팅거타이거</td>\n",
       "      <td>66702</td>\n",
       "    </tr>\n",
       "    <tr>\n",
       "      <th>3</th>\n",
       "      <td>prey</td>\n",
       "      <td>3ba38c77f2868f34d910e362d0f4cae1</td>\n",
       "      <td>프라디지</td>\n",
       "      <td>66666</td>\n",
       "    </tr>\n",
       "    <tr>\n",
       "      <th>4</th>\n",
       "      <td>diregie</td>\n",
       "      <td>79a62ecc85e602ae7f13b79b766aa2ee</td>\n",
       "      <td>금요일야근</td>\n",
       "      <td>66660</td>\n",
       "    </tr>\n",
       "    <tr>\n",
       "      <th>...</th>\n",
       "      <td>...</td>\n",
       "      <td>...</td>\n",
       "      <td>...</td>\n",
       "      <td>...</td>\n",
       "    </tr>\n",
       "    <tr>\n",
       "      <th>90595</th>\n",
       "      <td>hilder</td>\n",
       "      <td>5c37706a64742ce164d02b06456ec3d9</td>\n",
       "      <td>윤아에용</td>\n",
       "      <td>60468</td>\n",
       "    </tr>\n",
       "    <tr>\n",
       "      <th>90596</th>\n",
       "      <td>cain</td>\n",
       "      <td>030f2b2ee126aec10bd0108c13b493c6</td>\n",
       "      <td>잿빛의시프</td>\n",
       "      <td>60468</td>\n",
       "    </tr>\n",
       "    <tr>\n",
       "      <th>90597</th>\n",
       "      <td>prey</td>\n",
       "      <td>c51246ee43ee7645995bdf8f2ee1a26f</td>\n",
       "      <td>저주거미</td>\n",
       "      <td>60468</td>\n",
       "    </tr>\n",
       "    <tr>\n",
       "      <th>90598</th>\n",
       "      <td>prey</td>\n",
       "      <td>9c068b798696f994d39b14a0840abb10</td>\n",
       "      <td>찌뮤</td>\n",
       "      <td>60468</td>\n",
       "    </tr>\n",
       "    <tr>\n",
       "      <th>90599</th>\n",
       "      <td>cain</td>\n",
       "      <td>cf4ac67a4cacec7f53a12b5115b48887</td>\n",
       "      <td>찬가망둥이</td>\n",
       "      <td>60468</td>\n",
       "    </tr>\n",
       "  </tbody>\n",
       "</table>\n",
       "<p>90600 rows × 4 columns</p>\n",
       "</div>"
      ],
      "text/plain": [
       "      serverId                       characterId characterName   fame\n",
       "0        anton  150a23219a59e086e36db59028c06a50          헤롱카테  66993\n",
       "1       hilder  0daa8c49cae531262f966dd637008e30        민트크림소스  66787\n",
       "2        anton  103e5c925e8a698e89abd4d68cce1d0e        스팅거타이거  66702\n",
       "3         prey  3ba38c77f2868f34d910e362d0f4cae1          프라디지  66666\n",
       "4      diregie  79a62ecc85e602ae7f13b79b766aa2ee         금요일야근  66660\n",
       "...        ...                               ...           ...    ...\n",
       "90595   hilder  5c37706a64742ce164d02b06456ec3d9          윤아에용  60468\n",
       "90596     cain  030f2b2ee126aec10bd0108c13b493c6         잿빛의시프  60468\n",
       "90597     prey  c51246ee43ee7645995bdf8f2ee1a26f          저주거미  60468\n",
       "90598     prey  9c068b798696f994d39b14a0840abb10            찌뮤  60468\n",
       "90599     cain  cf4ac67a4cacec7f53a12b5115b48887         찬가망둥이  60468\n",
       "\n",
       "[90600 rows x 4 columns]"
      ]
     },
     "execution_count": 30,
     "metadata": {},
     "output_type": "execute_result"
    }
   ],
   "source": [
    "user = user[['serverId','characterId','characterName','fame']]\n",
    "user"
   ]
  },
  {
   "cell_type": "code",
   "execution_count": 31,
   "metadata": {},
   "outputs": [],
   "source": [
    "df = pd.concat([data,user[['serverId','fame']]], axis=1)"
   ]
  },
  {
   "cell_type": "code",
   "execution_count": 32,
   "metadata": {},
   "outputs": [
    {
     "data": {
      "text/html": [
       "<div>\n",
       "<style scoped>\n",
       "    .dataframe tbody tr th:only-of-type {\n",
       "        vertical-align: middle;\n",
       "    }\n",
       "\n",
       "    .dataframe tbody tr th {\n",
       "        vertical-align: top;\n",
       "    }\n",
       "\n",
       "    .dataframe thead th {\n",
       "        text-align: right;\n",
       "    }\n",
       "</style>\n",
       "<table border=\"1\" class=\"dataframe\">\n",
       "  <thead>\n",
       "    <tr style=\"text-align: right;\">\n",
       "      <th></th>\n",
       "      <th>characterId</th>\n",
       "      <th>characterName</th>\n",
       "      <th>jobId</th>\n",
       "      <th>jobName</th>\n",
       "      <th>HEADGEAR__avatar_slotId</th>\n",
       "      <th>HEADGEAR__avatar_slotName</th>\n",
       "      <th>HEADGEAR__avatar_itemId</th>\n",
       "      <th>HEADGEAR__avatar_itemName</th>\n",
       "      <th>HEADGEAR__avatar_clone_itemId</th>\n",
       "      <th>HEADGEAR__avatar_clone_itemName</th>\n",
       "      <th>...</th>\n",
       "      <th>WEAPON__avatar_clone_itemId</th>\n",
       "      <th>WEAPON__avatar_clone_itemName</th>\n",
       "      <th>AURA_SKIN__avatar_slotId</th>\n",
       "      <th>AURA_SKIN__avatar_slotName</th>\n",
       "      <th>AURA_SKIN__avatar_itemId</th>\n",
       "      <th>AURA_SKIN__avatar_itemName</th>\n",
       "      <th>AURA_SKIN__avatar_clone_itemId</th>\n",
       "      <th>AURA_SKIN__avatar_clone_itemName</th>\n",
       "      <th>serverId</th>\n",
       "      <th>fame</th>\n",
       "    </tr>\n",
       "  </thead>\n",
       "  <tbody>\n",
       "    <tr>\n",
       "      <th>0</th>\n",
       "      <td>150a23219a59e086e36db59028c06a50</td>\n",
       "      <td>헤롱카테</td>\n",
       "      <td>3909d0b188e9c95311399f776e331da5</td>\n",
       "      <td>마법사(여)</td>\n",
       "      <td>HEADGEAR</td>\n",
       "      <td>모자 아바타</td>\n",
       "      <td>aebd9700b2de7be3fc909f89f8cfffce</td>\n",
       "      <td>레어 모자 클론 아바타</td>\n",
       "      <td>14d18062b175b136d7ef6f1db407f58d</td>\n",
       "      <td>던파스쿨 고양이 머리띠[A타입]</td>\n",
       "      <td>...</td>\n",
       "      <td>e5f9d8f370765a3496f0b3ef189a0e7f</td>\n",
       "      <td>포식의 욕망</td>\n",
       "      <td>AURA_SKIN</td>\n",
       "      <td>오라 스킨 아바타</td>\n",
       "      <td>d1bb79f2380a3375cb7a473246053ffa</td>\n",
       "      <td>★미쿠와 함께★</td>\n",
       "      <td>NaN</td>\n",
       "      <td>NaN</td>\n",
       "      <td>anton</td>\n",
       "      <td>66993</td>\n",
       "    </tr>\n",
       "    <tr>\n",
       "      <th>1</th>\n",
       "      <td>0daa8c49cae531262f966dd637008e30</td>\n",
       "      <td>민트크림소스</td>\n",
       "      <td>3909d0b188e9c95311399f776e331da5</td>\n",
       "      <td>마법사(여)</td>\n",
       "      <td>HEADGEAR</td>\n",
       "      <td>모자 아바타</td>\n",
       "      <td>d73b5d96d17c84e54ff2a999658a4845</td>\n",
       "      <td>레어 모자 클론 아바타</td>\n",
       "      <td>9b676223df861e8932d01fa8be03dd6a</td>\n",
       "      <td>아라드 해변 리본 모자[C타입]</td>\n",
       "      <td>...</td>\n",
       "      <td>f742d25f8e25513de703149cbd432e65</td>\n",
       "      <td>엘프 여왕의 정령</td>\n",
       "      <td>AURA_SKIN</td>\n",
       "      <td>오라 스킨 아바타</td>\n",
       "      <td>4754847cc0c85ffbcc6bd108e9207f6c</td>\n",
       "      <td>모험단 모션 오라 아바타</td>\n",
       "      <td>2fd6865377f6563035def5de26f489b7</td>\n",
       "      <td>해방된 요기 오라</td>\n",
       "      <td>hilder</td>\n",
       "      <td>66787</td>\n",
       "    </tr>\n",
       "    <tr>\n",
       "      <th>2</th>\n",
       "      <td>103e5c925e8a698e89abd4d68cce1d0e</td>\n",
       "      <td>스팅거타이거</td>\n",
       "      <td>afdf3b989339de478e85b614d274d1ef</td>\n",
       "      <td>거너(남)</td>\n",
       "      <td>HEADGEAR</td>\n",
       "      <td>모자 아바타</td>\n",
       "      <td>80c6a6b7b5c1ab32bb401dfadf76ace8</td>\n",
       "      <td>레어 모자 클론 아바타</td>\n",
       "      <td>89f6c4947ec18a4b0aab705b0e93b3a1</td>\n",
       "      <td>진 메카닉의 헤드폰[B타입]</td>\n",
       "      <td>...</td>\n",
       "      <td>d58731378b57cdcd957614255173424a</td>\n",
       "      <td>던전앤파이터 클래식 캐논</td>\n",
       "      <td>AURA_SKIN</td>\n",
       "      <td>오라 스킨 아바타</td>\n",
       "      <td>3baabfc239dd420d0b6673c7b1426391</td>\n",
       "      <td>푸른빛 홀로그램</td>\n",
       "      <td>NaN</td>\n",
       "      <td>NaN</td>\n",
       "      <td>anton</td>\n",
       "      <td>66702</td>\n",
       "    </tr>\n",
       "    <tr>\n",
       "      <th>3</th>\n",
       "      <td>3ba38c77f2868f34d910e362d0f4cae1</td>\n",
       "      <td>프라디지</td>\n",
       "      <td>41f1cdc2ff58bb5fdc287be0db2a8df3</td>\n",
       "      <td>귀검사(남)</td>\n",
       "      <td>HEADGEAR</td>\n",
       "      <td>모자 아바타</td>\n",
       "      <td>3bd48b7a41985ad02bd07ec91dcf04a8</td>\n",
       "      <td>레어 모자 클론 아바타</td>\n",
       "      <td>995900bb5ded1b28e387a0e709572fae</td>\n",
       "      <td>부러진 악마의 블랙 혼</td>\n",
       "      <td>...</td>\n",
       "      <td>a6f732dc2f3fa8ef24a420cca2ca5aa2</td>\n",
       "      <td>명도 후구도쿠</td>\n",
       "      <td>AURA_SKIN</td>\n",
       "      <td>오라 스킨 아바타</td>\n",
       "      <td>025ff1f20ce27272539704aedb878ac1</td>\n",
       "      <td>연옥의 불길</td>\n",
       "      <td>NaN</td>\n",
       "      <td>NaN</td>\n",
       "      <td>prey</td>\n",
       "      <td>66666</td>\n",
       "    </tr>\n",
       "    <tr>\n",
       "      <th>4</th>\n",
       "      <td>79a62ecc85e602ae7f13b79b766aa2ee</td>\n",
       "      <td>금요일야근</td>\n",
       "      <td>0c1b401bb09241570d364420b3ba3fd7</td>\n",
       "      <td>프리스트(여)</td>\n",
       "      <td>HEADGEAR</td>\n",
       "      <td>모자 아바타</td>\n",
       "      <td>4073653019b52f859d27c96265c0b0a3</td>\n",
       "      <td>레어 모자 클론 아바타</td>\n",
       "      <td>NaN</td>\n",
       "      <td>NaN</td>\n",
       "      <td>...</td>\n",
       "      <td>6723b14653bc97f521e990439b3bad77</td>\n",
       "      <td>이면 1활 삼뢰의 포진</td>\n",
       "      <td>AURA_SKIN</td>\n",
       "      <td>오라 스킨 아바타</td>\n",
       "      <td>f99513274bbef4290a1379c223933338</td>\n",
       "      <td>조화가 무너진 기억</td>\n",
       "      <td>NaN</td>\n",
       "      <td>NaN</td>\n",
       "      <td>diregie</td>\n",
       "      <td>66660</td>\n",
       "    </tr>\n",
       "    <tr>\n",
       "      <th>...</th>\n",
       "      <td>...</td>\n",
       "      <td>...</td>\n",
       "      <td>...</td>\n",
       "      <td>...</td>\n",
       "      <td>...</td>\n",
       "      <td>...</td>\n",
       "      <td>...</td>\n",
       "      <td>...</td>\n",
       "      <td>...</td>\n",
       "      <td>...</td>\n",
       "      <td>...</td>\n",
       "      <td>...</td>\n",
       "      <td>...</td>\n",
       "      <td>...</td>\n",
       "      <td>...</td>\n",
       "      <td>...</td>\n",
       "      <td>...</td>\n",
       "      <td>...</td>\n",
       "      <td>...</td>\n",
       "      <td>...</td>\n",
       "      <td>...</td>\n",
       "    </tr>\n",
       "    <tr>\n",
       "      <th>90595</th>\n",
       "      <td>5c37706a64742ce164d02b06456ec3d9</td>\n",
       "      <td>윤아에용</td>\n",
       "      <td>a7a059ebe9e6054c0644b40ef316d6e9</td>\n",
       "      <td>격투가(여)</td>\n",
       "      <td>HEADGEAR</td>\n",
       "      <td>모자 아바타</td>\n",
       "      <td>b8c1f046fe4fe0677f19195385d19b04</td>\n",
       "      <td>레어 모자 클론 아바타</td>\n",
       "      <td>53d334dc1641cd3f4605908bcaa89960</td>\n",
       "      <td>진 스트라이커의 거친 후드[A타입]</td>\n",
       "      <td>...</td>\n",
       "      <td>NaN</td>\n",
       "      <td>NaN</td>\n",
       "      <td>NaN</td>\n",
       "      <td>NaN</td>\n",
       "      <td>NaN</td>\n",
       "      <td>NaN</td>\n",
       "      <td>NaN</td>\n",
       "      <td>NaN</td>\n",
       "      <td>hilder</td>\n",
       "      <td>60468</td>\n",
       "    </tr>\n",
       "    <tr>\n",
       "      <th>90596</th>\n",
       "      <td>030f2b2ee126aec10bd0108c13b493c6</td>\n",
       "      <td>잿빛의시프</td>\n",
       "      <td>41f1cdc2ff58bb5fdc287be0db2a8df3</td>\n",
       "      <td>귀검사(남)</td>\n",
       "      <td>HEADGEAR</td>\n",
       "      <td>모자 아바타</td>\n",
       "      <td>3bd48b7a41985ad02bd07ec91dcf04a8</td>\n",
       "      <td>레어 모자 클론 아바타</td>\n",
       "      <td>711ee1f368e0e83f29d33f2b06bd4994</td>\n",
       "      <td>야생의 사파리 사모예드의 탈[A타입]</td>\n",
       "      <td>...</td>\n",
       "      <td>NaN</td>\n",
       "      <td>NaN</td>\n",
       "      <td>AURA_SKIN</td>\n",
       "      <td>오라 스킨 아바타</td>\n",
       "      <td>f99513274bbef4290a1379c223933338</td>\n",
       "      <td>조화가 무너진 기억</td>\n",
       "      <td>NaN</td>\n",
       "      <td>NaN</td>\n",
       "      <td>cain</td>\n",
       "      <td>60468</td>\n",
       "    </tr>\n",
       "    <tr>\n",
       "      <th>90597</th>\n",
       "      <td>c51246ee43ee7645995bdf8f2ee1a26f</td>\n",
       "      <td>저주거미</td>\n",
       "      <td>3909d0b188e9c95311399f776e331da5</td>\n",
       "      <td>마법사(여)</td>\n",
       "      <td>HEADGEAR</td>\n",
       "      <td>모자 아바타</td>\n",
       "      <td>92d9839ad426f31e9de3508d001f84ca</td>\n",
       "      <td>레어 모자 클론 아바타</td>\n",
       "      <td>72747b638f523948042eb783d4704bc2</td>\n",
       "      <td>아사미야 아테나의 모자[E타입]</td>\n",
       "      <td>...</td>\n",
       "      <td>0a67f9043419e9684ca9693a2735cd6f</td>\n",
       "      <td>샤이닝 크리스탈 비트</td>\n",
       "      <td>AURA_SKIN</td>\n",
       "      <td>오라 스킨 아바타</td>\n",
       "      <td>f99513274bbef4290a1379c223933338</td>\n",
       "      <td>조화가 무너진 기억</td>\n",
       "      <td>NaN</td>\n",
       "      <td>NaN</td>\n",
       "      <td>prey</td>\n",
       "      <td>60468</td>\n",
       "    </tr>\n",
       "    <tr>\n",
       "      <th>90598</th>\n",
       "      <td>9c068b798696f994d39b14a0840abb10</td>\n",
       "      <td>찌뮤</td>\n",
       "      <td>b9cb48777665de22c006fabaf9a560b3</td>\n",
       "      <td>아처</td>\n",
       "      <td>HEADGEAR</td>\n",
       "      <td>모자 아바타</td>\n",
       "      <td>2defdc2422ff3c61f5ac1af583e79459</td>\n",
       "      <td>레어 모자 클론 아바타</td>\n",
       "      <td>c5e50a3ea8f71aed447cb461a585c034</td>\n",
       "      <td>차원의 별자리 리본 베레모[E타입]</td>\n",
       "      <td>...</td>\n",
       "      <td>NaN</td>\n",
       "      <td>NaN</td>\n",
       "      <td>AURA_SKIN</td>\n",
       "      <td>오라 스킨 아바타</td>\n",
       "      <td>f99513274bbef4290a1379c223933338</td>\n",
       "      <td>조화가 무너진 기억</td>\n",
       "      <td>NaN</td>\n",
       "      <td>NaN</td>\n",
       "      <td>prey</td>\n",
       "      <td>60468</td>\n",
       "    </tr>\n",
       "    <tr>\n",
       "      <th>90599</th>\n",
       "      <td>cf4ac67a4cacec7f53a12b5115b48887</td>\n",
       "      <td>찬가망둥이</td>\n",
       "      <td>0c1b401bb09241570d364420b3ba3fd7</td>\n",
       "      <td>프리스트(여)</td>\n",
       "      <td>HEADGEAR</td>\n",
       "      <td>모자 아바타</td>\n",
       "      <td>4073653019b52f859d27c96265c0b0a3</td>\n",
       "      <td>레어 모자 클론 아바타</td>\n",
       "      <td>5c1ce6ce3322ef6051135ccac6eca7e1</td>\n",
       "      <td>황금상 대두 아바타</td>\n",
       "      <td>...</td>\n",
       "      <td>d7686c7644da98c18e4aeab47634fd1f</td>\n",
       "      <td>디멘션 아라드 여프리스트의 무기</td>\n",
       "      <td>AURA_SKIN</td>\n",
       "      <td>오라 스킨 아바타</td>\n",
       "      <td>f99513274bbef4290a1379c223933338</td>\n",
       "      <td>조화가 무너진 기억</td>\n",
       "      <td>NaN</td>\n",
       "      <td>NaN</td>\n",
       "      <td>cain</td>\n",
       "      <td>60468</td>\n",
       "    </tr>\n",
       "  </tbody>\n",
       "</table>\n",
       "<p>90600 rows × 78 columns</p>\n",
       "</div>"
      ],
      "text/plain": [
       "                            characterId characterName  \\\n",
       "0      150a23219a59e086e36db59028c06a50          헤롱카테   \n",
       "1      0daa8c49cae531262f966dd637008e30        민트크림소스   \n",
       "2      103e5c925e8a698e89abd4d68cce1d0e        스팅거타이거   \n",
       "3      3ba38c77f2868f34d910e362d0f4cae1          프라디지   \n",
       "4      79a62ecc85e602ae7f13b79b766aa2ee         금요일야근   \n",
       "...                                 ...           ...   \n",
       "90595  5c37706a64742ce164d02b06456ec3d9          윤아에용   \n",
       "90596  030f2b2ee126aec10bd0108c13b493c6         잿빛의시프   \n",
       "90597  c51246ee43ee7645995bdf8f2ee1a26f          저주거미   \n",
       "90598  9c068b798696f994d39b14a0840abb10            찌뮤   \n",
       "90599  cf4ac67a4cacec7f53a12b5115b48887         찬가망둥이   \n",
       "\n",
       "                                  jobId  jobName HEADGEAR__avatar_slotId  \\\n",
       "0      3909d0b188e9c95311399f776e331da5   마법사(여)                HEADGEAR   \n",
       "1      3909d0b188e9c95311399f776e331da5   마법사(여)                HEADGEAR   \n",
       "2      afdf3b989339de478e85b614d274d1ef    거너(남)                HEADGEAR   \n",
       "3      41f1cdc2ff58bb5fdc287be0db2a8df3   귀검사(남)                HEADGEAR   \n",
       "4      0c1b401bb09241570d364420b3ba3fd7  프리스트(여)                HEADGEAR   \n",
       "...                                 ...      ...                     ...   \n",
       "90595  a7a059ebe9e6054c0644b40ef316d6e9   격투가(여)                HEADGEAR   \n",
       "90596  41f1cdc2ff58bb5fdc287be0db2a8df3   귀검사(남)                HEADGEAR   \n",
       "90597  3909d0b188e9c95311399f776e331da5   마법사(여)                HEADGEAR   \n",
       "90598  b9cb48777665de22c006fabaf9a560b3       아처                HEADGEAR   \n",
       "90599  0c1b401bb09241570d364420b3ba3fd7  프리스트(여)                HEADGEAR   \n",
       "\n",
       "      HEADGEAR__avatar_slotName           HEADGEAR__avatar_itemId  \\\n",
       "0                        모자 아바타  aebd9700b2de7be3fc909f89f8cfffce   \n",
       "1                        모자 아바타  d73b5d96d17c84e54ff2a999658a4845   \n",
       "2                        모자 아바타  80c6a6b7b5c1ab32bb401dfadf76ace8   \n",
       "3                        모자 아바타  3bd48b7a41985ad02bd07ec91dcf04a8   \n",
       "4                        모자 아바타  4073653019b52f859d27c96265c0b0a3   \n",
       "...                         ...                               ...   \n",
       "90595                    모자 아바타  b8c1f046fe4fe0677f19195385d19b04   \n",
       "90596                    모자 아바타  3bd48b7a41985ad02bd07ec91dcf04a8   \n",
       "90597                    모자 아바타  92d9839ad426f31e9de3508d001f84ca   \n",
       "90598                    모자 아바타  2defdc2422ff3c61f5ac1af583e79459   \n",
       "90599                    모자 아바타  4073653019b52f859d27c96265c0b0a3   \n",
       "\n",
       "      HEADGEAR__avatar_itemName     HEADGEAR__avatar_clone_itemId  \\\n",
       "0                  레어 모자 클론 아바타  14d18062b175b136d7ef6f1db407f58d   \n",
       "1                  레어 모자 클론 아바타  9b676223df861e8932d01fa8be03dd6a   \n",
       "2                  레어 모자 클론 아바타  89f6c4947ec18a4b0aab705b0e93b3a1   \n",
       "3                  레어 모자 클론 아바타  995900bb5ded1b28e387a0e709572fae   \n",
       "4                  레어 모자 클론 아바타                               NaN   \n",
       "...                         ...                               ...   \n",
       "90595              레어 모자 클론 아바타  53d334dc1641cd3f4605908bcaa89960   \n",
       "90596              레어 모자 클론 아바타  711ee1f368e0e83f29d33f2b06bd4994   \n",
       "90597              레어 모자 클론 아바타  72747b638f523948042eb783d4704bc2   \n",
       "90598              레어 모자 클론 아바타  c5e50a3ea8f71aed447cb461a585c034   \n",
       "90599              레어 모자 클론 아바타  5c1ce6ce3322ef6051135ccac6eca7e1   \n",
       "\n",
       "      HEADGEAR__avatar_clone_itemName  ...       WEAPON__avatar_clone_itemId  \\\n",
       "0                   던파스쿨 고양이 머리띠[A타입]  ...  e5f9d8f370765a3496f0b3ef189a0e7f   \n",
       "1                   아라드 해변 리본 모자[C타입]  ...  f742d25f8e25513de703149cbd432e65   \n",
       "2                     진 메카닉의 헤드폰[B타입]  ...  d58731378b57cdcd957614255173424a   \n",
       "3                        부러진 악마의 블랙 혼  ...  a6f732dc2f3fa8ef24a420cca2ca5aa2   \n",
       "4                                 NaN  ...  6723b14653bc97f521e990439b3bad77   \n",
       "...                               ...  ...                               ...   \n",
       "90595             진 스트라이커의 거친 후드[A타입]  ...                               NaN   \n",
       "90596            야생의 사파리 사모예드의 탈[A타입]  ...                               NaN   \n",
       "90597               아사미야 아테나의 모자[E타입]  ...  0a67f9043419e9684ca9693a2735cd6f   \n",
       "90598             차원의 별자리 리본 베레모[E타입]  ...                               NaN   \n",
       "90599                      황금상 대두 아바타  ...  d7686c7644da98c18e4aeab47634fd1f   \n",
       "\n",
       "      WEAPON__avatar_clone_itemName AURA_SKIN__avatar_slotId  \\\n",
       "0                            포식의 욕망                AURA_SKIN   \n",
       "1                         엘프 여왕의 정령                AURA_SKIN   \n",
       "2                     던전앤파이터 클래식 캐논                AURA_SKIN   \n",
       "3                           명도 후구도쿠                AURA_SKIN   \n",
       "4                      이면 1활 삼뢰의 포진                AURA_SKIN   \n",
       "...                             ...                      ...   \n",
       "90595                           NaN                      NaN   \n",
       "90596                           NaN                AURA_SKIN   \n",
       "90597                   샤이닝 크리스탈 비트                AURA_SKIN   \n",
       "90598                           NaN                AURA_SKIN   \n",
       "90599             디멘션 아라드 여프리스트의 무기                AURA_SKIN   \n",
       "\n",
       "      AURA_SKIN__avatar_slotName          AURA_SKIN__avatar_itemId  \\\n",
       "0                      오라 스킨 아바타  d1bb79f2380a3375cb7a473246053ffa   \n",
       "1                      오라 스킨 아바타  4754847cc0c85ffbcc6bd108e9207f6c   \n",
       "2                      오라 스킨 아바타  3baabfc239dd420d0b6673c7b1426391   \n",
       "3                      오라 스킨 아바타  025ff1f20ce27272539704aedb878ac1   \n",
       "4                      오라 스킨 아바타  f99513274bbef4290a1379c223933338   \n",
       "...                          ...                               ...   \n",
       "90595                        NaN                               NaN   \n",
       "90596                  오라 스킨 아바타  f99513274bbef4290a1379c223933338   \n",
       "90597                  오라 스킨 아바타  f99513274bbef4290a1379c223933338   \n",
       "90598                  오라 스킨 아바타  f99513274bbef4290a1379c223933338   \n",
       "90599                  오라 스킨 아바타  f99513274bbef4290a1379c223933338   \n",
       "\n",
       "      AURA_SKIN__avatar_itemName    AURA_SKIN__avatar_clone_itemId  \\\n",
       "0                       ★미쿠와 함께★                               NaN   \n",
       "1                  모험단 모션 오라 아바타  2fd6865377f6563035def5de26f489b7   \n",
       "2                       푸른빛 홀로그램                               NaN   \n",
       "3                         연옥의 불길                               NaN   \n",
       "4                     조화가 무너진 기억                               NaN   \n",
       "...                          ...                               ...   \n",
       "90595                        NaN                               NaN   \n",
       "90596                 조화가 무너진 기억                               NaN   \n",
       "90597                 조화가 무너진 기억                               NaN   \n",
       "90598                 조화가 무너진 기억                               NaN   \n",
       "90599                 조화가 무너진 기억                               NaN   \n",
       "\n",
       "      AURA_SKIN__avatar_clone_itemName serverId   fame  \n",
       "0                                  NaN    anton  66993  \n",
       "1                            해방된 요기 오라   hilder  66787  \n",
       "2                                  NaN    anton  66702  \n",
       "3                                  NaN     prey  66666  \n",
       "4                                  NaN  diregie  66660  \n",
       "...                                ...      ...    ...  \n",
       "90595                              NaN   hilder  60468  \n",
       "90596                              NaN     cain  60468  \n",
       "90597                              NaN     prey  60468  \n",
       "90598                              NaN     prey  60468  \n",
       "90599                              NaN     cain  60468  \n",
       "\n",
       "[90600 rows x 78 columns]"
      ]
     },
     "execution_count": 32,
     "metadata": {},
     "output_type": "execute_result"
    }
   ],
   "source": [
    "df"
   ]
  },
  {
   "cell_type": "code",
   "execution_count": 33,
   "metadata": {},
   "outputs": [
    {
     "data": {
      "text/plain": [
       "Index(['characterId', 'characterName', 'jobId', 'jobName',\n",
       "       'HEADGEAR__avatar_slotId', 'HEADGEAR__avatar_slotName',\n",
       "       'HEADGEAR__avatar_itemId', 'HEADGEAR__avatar_itemName',\n",
       "       'HEADGEAR__avatar_clone_itemId', 'HEADGEAR__avatar_clone_itemName',\n",
       "       'HAIR__avatar_slotId', 'HAIR__avatar_slotName', 'HAIR__avatar_itemId',\n",
       "       'HAIR__avatar_itemName', 'HAIR__avatar_clone_itemId',\n",
       "       'HAIR__avatar_clone_itemName', 'FACE__avatar_slotId',\n",
       "       'FACE__avatar_slotName', 'FACE__avatar_itemId', 'FACE__avatar_itemName',\n",
       "       'FACE__avatar_clone_itemId', 'FACE__avatar_clone_itemName',\n",
       "       'JACKET__avatar_slotId', 'JACKET__avatar_slotName',\n",
       "       'JACKET__avatar_itemId', 'JACKET__avatar_itemName',\n",
       "       'JACKET__avatar_clone_itemId', 'JACKET__avatar_clone_itemName',\n",
       "       'PANTS__avatar_slotId', 'PANTS__avatar_slotName',\n",
       "       'PANTS__avatar_itemId', 'PANTS__avatar_itemName',\n",
       "       'PANTS__avatar_clone_itemId', 'PANTS__avatar_clone_itemName',\n",
       "       'SHOES__avatar_slotId', 'SHOES__avatar_slotName',\n",
       "       'SHOES__avatar_itemId', 'SHOES__avatar_itemName',\n",
       "       'SHOES__avatar_clone_itemId', 'SHOES__avatar_clone_itemName',\n",
       "       'BREAST__avatar_slotId', 'BREAST__avatar_slotName',\n",
       "       'BREAST__avatar_itemId', 'BREAST__avatar_itemName',\n",
       "       'BREAST__avatar_clone_itemId', 'BREAST__avatar_clone_itemName',\n",
       "       'WAIST__avatar_slotId', 'WAIST__avatar_slotName',\n",
       "       'WAIST__avatar_itemId', 'WAIST__avatar_itemName',\n",
       "       'WAIST__avatar_clone_itemId', 'WAIST__avatar_clone_itemName',\n",
       "       'SKIN__avatar_slotId', 'SKIN__avatar_slotName', 'SKIN__avatar_itemId',\n",
       "       'SKIN__avatar_itemName', 'SKIN__avatar_clone_itemId',\n",
       "       'SKIN__avatar_clone_itemName', 'AURORA__avatar_slotId',\n",
       "       'AURORA__avatar_slotName', 'AURORA__avatar_itemId',\n",
       "       'AURORA__avatar_itemName', 'AURORA__avatar_clone_itemId',\n",
       "       'AURORA__avatar_clone_itemName', 'WEAPON__avatar_slotId',\n",
       "       'WEAPON__avatar_slotName', 'WEAPON__avatar_itemId',\n",
       "       'WEAPON__avatar_itemName', 'WEAPON__avatar_clone_itemId',\n",
       "       'WEAPON__avatar_clone_itemName', 'AURA_SKIN__avatar_slotId',\n",
       "       'AURA_SKIN__avatar_slotName', 'AURA_SKIN__avatar_itemId',\n",
       "       'AURA_SKIN__avatar_itemName', 'AURA_SKIN__avatar_clone_itemId',\n",
       "       'AURA_SKIN__avatar_clone_itemName', 'serverId', 'fame'],\n",
       "      dtype='object')"
      ]
     },
     "execution_count": 33,
     "metadata": {},
     "output_type": "execute_result"
    }
   ],
   "source": [
    "df.columns"
   ]
  },
  {
   "cell_type": "code",
   "execution_count": 34,
   "metadata": {},
   "outputs": [],
   "source": [
    "del user, data"
   ]
  },
  {
   "cell_type": "markdown",
   "metadata": {},
   "source": [
    "### 캐릭터 정보(캐릭터ID, 캐릭터 이름) 결측 데이터 확인 후 제거"
   ]
  },
  {
   "cell_type": "code",
   "execution_count": 35,
   "metadata": {},
   "outputs": [
    {
     "data": {
      "text/plain": [
       "0"
      ]
     },
     "execution_count": 35,
     "metadata": {},
     "output_type": "execute_result"
    }
   ],
   "source": [
    "df['serverId'].isnull().sum()"
   ]
  },
  {
   "cell_type": "code",
   "execution_count": 36,
   "metadata": {},
   "outputs": [
    {
     "data": {
      "text/plain": [
       "2"
      ]
     },
     "execution_count": 36,
     "metadata": {},
     "output_type": "execute_result"
    }
   ],
   "source": [
    "df['characterId'].isnull().sum()"
   ]
  },
  {
   "cell_type": "code",
   "execution_count": 37,
   "metadata": {},
   "outputs": [
    {
     "data": {
      "text/plain": [
       "2"
      ]
     },
     "execution_count": 37,
     "metadata": {},
     "output_type": "execute_result"
    }
   ],
   "source": [
    "df['characterName'].isnull().sum()"
   ]
  },
  {
   "cell_type": "code",
   "execution_count": 38,
   "metadata": {},
   "outputs": [
    {
     "name": "stdout",
     "output_type": "stream",
     "text": [
      "20141\n",
      "78245\n"
     ]
    }
   ],
   "source": [
    "for x,y  in enumerate(df['characterId'].isnull()):\n",
    "    if y:\n",
    "        print(x)"
   ]
  },
  {
   "cell_type": "code",
   "execution_count": 39,
   "metadata": {},
   "outputs": [
    {
     "data": {
      "text/plain": [
       "characterId                           NaN\n",
       "characterName                         NaN\n",
       "jobId                                 NaN\n",
       "jobName                               NaN\n",
       "HEADGEAR__avatar_slotId               NaN\n",
       "                                    ...  \n",
       "AURA_SKIN__avatar_itemName            NaN\n",
       "AURA_SKIN__avatar_clone_itemId        NaN\n",
       "AURA_SKIN__avatar_clone_itemName      NaN\n",
       "serverId                             cain\n",
       "fame                                61963\n",
       "Name: 20141, Length: 78, dtype: object"
      ]
     },
     "execution_count": 39,
     "metadata": {},
     "output_type": "execute_result"
    }
   ],
   "source": [
    "df.iloc[20141,]"
   ]
  },
  {
   "cell_type": "code",
   "execution_count": 40,
   "metadata": {},
   "outputs": [
    {
     "data": {
      "text/plain": [
       "characterId                             NaN\n",
       "characterName                           NaN\n",
       "jobId                                   NaN\n",
       "jobName                                 NaN\n",
       "HEADGEAR__avatar_slotId                 NaN\n",
       "                                     ...   \n",
       "AURA_SKIN__avatar_itemName              NaN\n",
       "AURA_SKIN__avatar_clone_itemId          NaN\n",
       "AURA_SKIN__avatar_clone_itemName        NaN\n",
       "serverId                            diregie\n",
       "fame                                  60619\n",
       "Name: 78245, Length: 78, dtype: object"
      ]
     },
     "execution_count": 40,
     "metadata": {},
     "output_type": "execute_result"
    }
   ],
   "source": [
    "df.iloc[78245,]"
   ]
  },
  {
   "cell_type": "code",
   "execution_count": 41,
   "metadata": {},
   "outputs": [],
   "source": [
    "# 2건 삭제\n",
    "df.drop([20141,78245], axis=0, inplace=True)"
   ]
  },
  {
   "cell_type": "markdown",
   "metadata": {},
   "source": [
    "###  캐릭터 중복 데이터 삭제"
   ]
  },
  {
   "cell_type": "code",
   "execution_count": 42,
   "metadata": {},
   "outputs": [
    {
     "data": {
      "text/plain": [
       "9056"
      ]
     },
     "execution_count": 42,
     "metadata": {},
     "output_type": "execute_result"
    }
   ],
   "source": [
    "df.duplicated(['characterId']).sum()"
   ]
  },
  {
   "cell_type": "code",
   "execution_count": 43,
   "metadata": {},
   "outputs": [
    {
     "data": {
      "text/plain": [
       "9009"
      ]
     },
     "execution_count": 43,
     "metadata": {},
     "output_type": "execute_result"
    }
   ],
   "source": [
    "df.duplicated(['characterId', 'serverId']).sum()"
   ]
  },
  {
   "cell_type": "code",
   "execution_count": 44,
   "metadata": {},
   "outputs": [
    {
     "data": {
      "text/plain": [
       "9004"
      ]
     },
     "execution_count": 44,
     "metadata": {},
     "output_type": "execute_result"
    }
   ],
   "source": [
    "df.duplicated().sum()"
   ]
  },
  {
   "cell_type": "code",
   "execution_count": 45,
   "metadata": {},
   "outputs": [],
   "source": [
    "user_avatar_table = df.drop_duplicates(subset = ['characterId', 'serverId'] , keep = 'first' ,ignore_index = True)"
   ]
  },
  {
   "cell_type": "code",
   "execution_count": 46,
   "metadata": {},
   "outputs": [],
   "source": [
    "# for i,col in enumerate(data.columns):\n",
    "#     if str(data.loc[60382, col])==str(data.loc[60419,col]):\n",
    "#         #print('c')\n",
    "#         pass\n",
    "#     else:\n",
    "#         print(col)"
   ]
  },
  {
   "cell_type": "code",
   "execution_count": 47,
   "metadata": {},
   "outputs": [
    {
     "name": "stderr",
     "output_type": "stream",
     "text": [
      "100%|██████████| 90598/90598 [00:00<00:00, 3057108.70it/s]"
     ]
    },
    {
     "name": "stdout",
     "output_type": "stream",
     "text": [
      "37117\n",
      "41865\n",
      "57255\n",
      "60418\n",
      "68846\n"
     ]
    },
    {
     "name": "stderr",
     "output_type": "stream",
     "text": [
      "\n"
     ]
    }
   ],
   "source": [
    "temp_a = list(df.duplicated(['characterId', 'serverId']))\n",
    "temp_b = list(df.duplicated())\n",
    "n=0\n",
    "dup_list=[]\n",
    "for i in tqdm(range(len(df))):\n",
    "    if temp_a[i] == temp_b[i]:\n",
    "        n+=1\n",
    "    else:\n",
    "        # print(temp_a[i])\n",
    "        # print(temp_b[i])\n",
    "        print(i)\n",
    "        dup_list.append(i)"
   ]
  },
  {
   "cell_type": "code",
   "execution_count": 48,
   "metadata": {},
   "outputs": [],
   "source": [
    "# for i,idx in enumerate(dup_list):\n",
    "#     print(user[user['characterId']==user.loc[idx,'characterId']])\n",
    "#     print('\\n')\n"
   ]
  },
  {
   "cell_type": "code",
   "execution_count": 49,
   "metadata": {},
   "outputs": [
    {
     "data": {
      "text/html": [
       "<div>\n",
       "<style scoped>\n",
       "    .dataframe tbody tr th:only-of-type {\n",
       "        vertical-align: middle;\n",
       "    }\n",
       "\n",
       "    .dataframe tbody tr th {\n",
       "        vertical-align: top;\n",
       "    }\n",
       "\n",
       "    .dataframe thead th {\n",
       "        text-align: right;\n",
       "    }\n",
       "</style>\n",
       "<table border=\"1\" class=\"dataframe\">\n",
       "  <thead>\n",
       "    <tr style=\"text-align: right;\">\n",
       "      <th></th>\n",
       "      <th>characterId</th>\n",
       "      <th>characterName</th>\n",
       "      <th>jobId</th>\n",
       "      <th>jobName</th>\n",
       "      <th>HEADGEAR__avatar_slotId</th>\n",
       "      <th>HEADGEAR__avatar_slotName</th>\n",
       "      <th>HEADGEAR__avatar_itemId</th>\n",
       "      <th>HEADGEAR__avatar_itemName</th>\n",
       "      <th>HEADGEAR__avatar_clone_itemId</th>\n",
       "      <th>HEADGEAR__avatar_clone_itemName</th>\n",
       "      <th>...</th>\n",
       "      <th>WEAPON__avatar_clone_itemId</th>\n",
       "      <th>WEAPON__avatar_clone_itemName</th>\n",
       "      <th>AURA_SKIN__avatar_slotId</th>\n",
       "      <th>AURA_SKIN__avatar_slotName</th>\n",
       "      <th>AURA_SKIN__avatar_itemId</th>\n",
       "      <th>AURA_SKIN__avatar_itemName</th>\n",
       "      <th>AURA_SKIN__avatar_clone_itemId</th>\n",
       "      <th>AURA_SKIN__avatar_clone_itemName</th>\n",
       "      <th>serverId</th>\n",
       "      <th>fame</th>\n",
       "    </tr>\n",
       "  </thead>\n",
       "  <tbody>\n",
       "    <tr>\n",
       "      <th>37117</th>\n",
       "      <td>bf6c221e6fcfa253c8b024829f813d8c</td>\n",
       "      <td>데지리아</td>\n",
       "      <td>3909d0b188e9c95311399f776e331da5</td>\n",
       "      <td>마법사(여)</td>\n",
       "      <td>HEADGEAR</td>\n",
       "      <td>모자 아바타</td>\n",
       "      <td>d73b5d96d17c84e54ff2a999658a4845</td>\n",
       "      <td>레어 모자 클론 아바타</td>\n",
       "      <td>8c630ed4dc4373a253142bc17fc5a60c</td>\n",
       "      <td>흰색 레이스밴드</td>\n",
       "      <td>...</td>\n",
       "      <td>NaN</td>\n",
       "      <td>NaN</td>\n",
       "      <td>AURA_SKIN</td>\n",
       "      <td>오라 스킨 아바타</td>\n",
       "      <td>f99513274bbef4290a1379c223933338</td>\n",
       "      <td>조화가 무너진 기억</td>\n",
       "      <td>NaN</td>\n",
       "      <td>NaN</td>\n",
       "      <td>prey</td>\n",
       "      <td>61362</td>\n",
       "    </tr>\n",
       "  </tbody>\n",
       "</table>\n",
       "<p>1 rows × 78 columns</p>\n",
       "</div>"
      ],
      "text/plain": [
       "                            characterId characterName  \\\n",
       "37117  bf6c221e6fcfa253c8b024829f813d8c          데지리아   \n",
       "\n",
       "                                  jobId jobName HEADGEAR__avatar_slotId  \\\n",
       "37117  3909d0b188e9c95311399f776e331da5  마법사(여)                HEADGEAR   \n",
       "\n",
       "      HEADGEAR__avatar_slotName           HEADGEAR__avatar_itemId  \\\n",
       "37117                    모자 아바타  d73b5d96d17c84e54ff2a999658a4845   \n",
       "\n",
       "      HEADGEAR__avatar_itemName     HEADGEAR__avatar_clone_itemId  \\\n",
       "37117              레어 모자 클론 아바타  8c630ed4dc4373a253142bc17fc5a60c   \n",
       "\n",
       "      HEADGEAR__avatar_clone_itemName  ... WEAPON__avatar_clone_itemId  \\\n",
       "37117                        흰색 레이스밴드  ...                         NaN   \n",
       "\n",
       "      WEAPON__avatar_clone_itemName AURA_SKIN__avatar_slotId  \\\n",
       "37117                           NaN                AURA_SKIN   \n",
       "\n",
       "      AURA_SKIN__avatar_slotName          AURA_SKIN__avatar_itemId  \\\n",
       "37117                  오라 스킨 아바타  f99513274bbef4290a1379c223933338   \n",
       "\n",
       "      AURA_SKIN__avatar_itemName AURA_SKIN__avatar_clone_itemId  \\\n",
       "37117                 조화가 무너진 기억                            NaN   \n",
       "\n",
       "      AURA_SKIN__avatar_clone_itemName serverId   fame  \n",
       "37117                              NaN     prey  61362  \n",
       "\n",
       "[1 rows x 78 columns]"
      ]
     },
     "execution_count": 49,
     "metadata": {},
     "output_type": "execute_result"
    }
   ],
   "source": [
    "df[df['characterId']==df.loc[37117,'characterId']]"
   ]
  },
  {
   "cell_type": "code",
   "execution_count": 50,
   "metadata": {},
   "outputs": [
    {
     "name": "stdout",
     "output_type": "stream",
     "text": [
      "0\n",
      "1\n",
      "2\n",
      "3\n",
      "4\n"
     ]
    },
    {
     "data": {
      "text/html": [
       "<div>\n",
       "<style scoped>\n",
       "    .dataframe tbody tr th:only-of-type {\n",
       "        vertical-align: middle;\n",
       "    }\n",
       "\n",
       "    .dataframe tbody tr th {\n",
       "        vertical-align: top;\n",
       "    }\n",
       "\n",
       "    .dataframe thead th {\n",
       "        text-align: right;\n",
       "    }\n",
       "</style>\n",
       "<table border=\"1\" class=\"dataframe\">\n",
       "  <thead>\n",
       "    <tr style=\"text-align: right;\">\n",
       "      <th></th>\n",
       "      <th>characterId</th>\n",
       "      <th>characterName</th>\n",
       "      <th>jobId</th>\n",
       "      <th>jobName</th>\n",
       "      <th>HEADGEAR__avatar_slotId</th>\n",
       "      <th>HEADGEAR__avatar_slotName</th>\n",
       "      <th>HEADGEAR__avatar_itemId</th>\n",
       "      <th>HEADGEAR__avatar_itemName</th>\n",
       "      <th>HEADGEAR__avatar_clone_itemId</th>\n",
       "      <th>HEADGEAR__avatar_clone_itemName</th>\n",
       "      <th>...</th>\n",
       "      <th>WEAPON__avatar_clone_itemId</th>\n",
       "      <th>WEAPON__avatar_clone_itemName</th>\n",
       "      <th>AURA_SKIN__avatar_slotId</th>\n",
       "      <th>AURA_SKIN__avatar_slotName</th>\n",
       "      <th>AURA_SKIN__avatar_itemId</th>\n",
       "      <th>AURA_SKIN__avatar_itemName</th>\n",
       "      <th>AURA_SKIN__avatar_clone_itemId</th>\n",
       "      <th>AURA_SKIN__avatar_clone_itemName</th>\n",
       "      <th>serverId</th>\n",
       "      <th>fame</th>\n",
       "    </tr>\n",
       "  </thead>\n",
       "  <tbody>\n",
       "    <tr>\n",
       "      <th>37117</th>\n",
       "      <td>bf6c221e6fcfa253c8b024829f813d8c</td>\n",
       "      <td>데지리아</td>\n",
       "      <td>3909d0b188e9c95311399f776e331da5</td>\n",
       "      <td>마법사(여)</td>\n",
       "      <td>HEADGEAR</td>\n",
       "      <td>모자 아바타</td>\n",
       "      <td>d73b5d96d17c84e54ff2a999658a4845</td>\n",
       "      <td>레어 모자 클론 아바타</td>\n",
       "      <td>8c630ed4dc4373a253142bc17fc5a60c</td>\n",
       "      <td>흰색 레이스밴드</td>\n",
       "      <td>...</td>\n",
       "      <td>NaN</td>\n",
       "      <td>NaN</td>\n",
       "      <td>AURA_SKIN</td>\n",
       "      <td>오라 스킨 아바타</td>\n",
       "      <td>f99513274bbef4290a1379c223933338</td>\n",
       "      <td>조화가 무너진 기억</td>\n",
       "      <td>NaN</td>\n",
       "      <td>NaN</td>\n",
       "      <td>prey</td>\n",
       "      <td>61362</td>\n",
       "    </tr>\n",
       "    <tr>\n",
       "      <th>41865</th>\n",
       "      <td>73bf0f29e2707639bea4af8a952b00bb</td>\n",
       "      <td>세계빛</td>\n",
       "      <td>1645c45aabb008c98406b3a16447040d</td>\n",
       "      <td>귀검사(여)</td>\n",
       "      <td>HEADGEAR</td>\n",
       "      <td>모자 아바타</td>\n",
       "      <td>c90044ec63bf1520c5bc4a9385ff466d</td>\n",
       "      <td>레어 모자 클론 아바타</td>\n",
       "      <td>52b27e8aa4ab8e95a5c6882d8f7d28df</td>\n",
       "      <td>벤데타의 인장[D타입]</td>\n",
       "      <td>...</td>\n",
       "      <td>NaN</td>\n",
       "      <td>NaN</td>\n",
       "      <td>AURA_SKIN</td>\n",
       "      <td>오라 스킨 아바타</td>\n",
       "      <td>f99513274bbef4290a1379c223933338</td>\n",
       "      <td>조화가 무너진 기억</td>\n",
       "      <td>NaN</td>\n",
       "      <td>NaN</td>\n",
       "      <td>casillas</td>\n",
       "      <td>61242</td>\n",
       "    </tr>\n",
       "    <tr>\n",
       "      <th>57255</th>\n",
       "      <td>7474b9adde22c77399042ca9d5d5a526</td>\n",
       "      <td>겨울나기장인</td>\n",
       "      <td>b9cb48777665de22c006fabaf9a560b3</td>\n",
       "      <td>아처</td>\n",
       "      <td>HEADGEAR</td>\n",
       "      <td>모자 아바타</td>\n",
       "      <td>2defdc2422ff3c61f5ac1af583e79459</td>\n",
       "      <td>레어 모자 클론 아바타</td>\n",
       "      <td>a734fa2b5c95c6135197fb93ed694d78</td>\n",
       "      <td>18주년 기념 머리띠</td>\n",
       "      <td>...</td>\n",
       "      <td>95efa7c12ebfbc9c5fe32541a280e600</td>\n",
       "      <td>메탈 컴파운드 보우</td>\n",
       "      <td>AURA_SKIN</td>\n",
       "      <td>오라 스킨 아바타</td>\n",
       "      <td>f99513274bbef4290a1379c223933338</td>\n",
       "      <td>조화가 무너진 기억</td>\n",
       "      <td>NaN</td>\n",
       "      <td>NaN</td>\n",
       "      <td>prey</td>\n",
       "      <td>60937</td>\n",
       "    </tr>\n",
       "    <tr>\n",
       "      <th>60381</th>\n",
       "      <td>a69b6691f3b70dc425bd120e148dfffb</td>\n",
       "      <td>멍꿀맨</td>\n",
       "      <td>afdf3b989339de478e85b614d274d1ef</td>\n",
       "      <td>거너(남)</td>\n",
       "      <td>HEADGEAR</td>\n",
       "      <td>모자 아바타</td>\n",
       "      <td>80c6a6b7b5c1ab32bb401dfadf76ace8</td>\n",
       "      <td>레어 모자 클론 아바타</td>\n",
       "      <td>c97f79143ff94e5f8599b7d9870200d6</td>\n",
       "      <td>서핑 아라드 투명 아바타 모자</td>\n",
       "      <td>...</td>\n",
       "      <td>NaN</td>\n",
       "      <td>NaN</td>\n",
       "      <td>AURA_SKIN</td>\n",
       "      <td>오라 스킨 아바타</td>\n",
       "      <td>f99513274bbef4290a1379c223933338</td>\n",
       "      <td>조화가 무너진 기억</td>\n",
       "      <td>NaN</td>\n",
       "      <td>NaN</td>\n",
       "      <td>cain</td>\n",
       "      <td>60885</td>\n",
       "    </tr>\n",
       "    <tr>\n",
       "      <th>60418</th>\n",
       "      <td>a69b6691f3b70dc425bd120e148dfffb</td>\n",
       "      <td>멍꿀맨</td>\n",
       "      <td>afdf3b989339de478e85b614d274d1ef</td>\n",
       "      <td>거너(남)</td>\n",
       "      <td>HEADGEAR</td>\n",
       "      <td>모자 아바타</td>\n",
       "      <td>80c6a6b7b5c1ab32bb401dfadf76ace8</td>\n",
       "      <td>레어 모자 클론 아바타</td>\n",
       "      <td>c97f79143ff94e5f8599b7d9870200d6</td>\n",
       "      <td>서핑 아라드 투명 아바타 모자</td>\n",
       "      <td>...</td>\n",
       "      <td>NaN</td>\n",
       "      <td>NaN</td>\n",
       "      <td>AURA_SKIN</td>\n",
       "      <td>오라 스킨 아바타</td>\n",
       "      <td>f99513274bbef4290a1379c223933338</td>\n",
       "      <td>조화가 무너진 기억</td>\n",
       "      <td>NaN</td>\n",
       "      <td>NaN</td>\n",
       "      <td>cain</td>\n",
       "      <td>60885</td>\n",
       "    </tr>\n",
       "    <tr>\n",
       "      <th>68846</th>\n",
       "      <td>2db8b9075c4a768308fc84a047e5a1b0</td>\n",
       "      <td>점핑점핑런쳐</td>\n",
       "      <td>afdf3b989339de478e85b614d274d1ef</td>\n",
       "      <td>거너(남)</td>\n",
       "      <td>HEADGEAR</td>\n",
       "      <td>모자 아바타</td>\n",
       "      <td>695ccbcb5d12c80a6cb922e66ebf98b3</td>\n",
       "      <td>레어 모자 클론 아바타</td>\n",
       "      <td>f57d8423af0669eec18afb2cf5180325</td>\n",
       "      <td>8비트 가면 [남거너]</td>\n",
       "      <td>...</td>\n",
       "      <td>914d01a39e014a505c4e1a2065efd0ad</td>\n",
       "      <td>서브웨폰 레일건</td>\n",
       "      <td>AURA_SKIN</td>\n",
       "      <td>오라 스킨 아바타</td>\n",
       "      <td>f99513274bbef4290a1379c223933338</td>\n",
       "      <td>조화가 무너진 기억</td>\n",
       "      <td>NaN</td>\n",
       "      <td>NaN</td>\n",
       "      <td>prey</td>\n",
       "      <td>60754</td>\n",
       "    </tr>\n",
       "  </tbody>\n",
       "</table>\n",
       "<p>6 rows × 78 columns</p>\n",
       "</div>"
      ],
      "text/plain": [
       "                            characterId characterName  \\\n",
       "37117  bf6c221e6fcfa253c8b024829f813d8c          데지리아   \n",
       "41865  73bf0f29e2707639bea4af8a952b00bb           세계빛   \n",
       "57255  7474b9adde22c77399042ca9d5d5a526        겨울나기장인   \n",
       "60381  a69b6691f3b70dc425bd120e148dfffb           멍꿀맨   \n",
       "60418  a69b6691f3b70dc425bd120e148dfffb           멍꿀맨   \n",
       "68846  2db8b9075c4a768308fc84a047e5a1b0        점핑점핑런쳐   \n",
       "\n",
       "                                  jobId jobName HEADGEAR__avatar_slotId  \\\n",
       "37117  3909d0b188e9c95311399f776e331da5  마법사(여)                HEADGEAR   \n",
       "41865  1645c45aabb008c98406b3a16447040d  귀검사(여)                HEADGEAR   \n",
       "57255  b9cb48777665de22c006fabaf9a560b3      아처                HEADGEAR   \n",
       "60381  afdf3b989339de478e85b614d274d1ef   거너(남)                HEADGEAR   \n",
       "60418  afdf3b989339de478e85b614d274d1ef   거너(남)                HEADGEAR   \n",
       "68846  afdf3b989339de478e85b614d274d1ef   거너(남)                HEADGEAR   \n",
       "\n",
       "      HEADGEAR__avatar_slotName           HEADGEAR__avatar_itemId  \\\n",
       "37117                    모자 아바타  d73b5d96d17c84e54ff2a999658a4845   \n",
       "41865                    모자 아바타  c90044ec63bf1520c5bc4a9385ff466d   \n",
       "57255                    모자 아바타  2defdc2422ff3c61f5ac1af583e79459   \n",
       "60381                    모자 아바타  80c6a6b7b5c1ab32bb401dfadf76ace8   \n",
       "60418                    모자 아바타  80c6a6b7b5c1ab32bb401dfadf76ace8   \n",
       "68846                    모자 아바타  695ccbcb5d12c80a6cb922e66ebf98b3   \n",
       "\n",
       "      HEADGEAR__avatar_itemName     HEADGEAR__avatar_clone_itemId  \\\n",
       "37117              레어 모자 클론 아바타  8c630ed4dc4373a253142bc17fc5a60c   \n",
       "41865              레어 모자 클론 아바타  52b27e8aa4ab8e95a5c6882d8f7d28df   \n",
       "57255              레어 모자 클론 아바타  a734fa2b5c95c6135197fb93ed694d78   \n",
       "60381              레어 모자 클론 아바타  c97f79143ff94e5f8599b7d9870200d6   \n",
       "60418              레어 모자 클론 아바타  c97f79143ff94e5f8599b7d9870200d6   \n",
       "68846              레어 모자 클론 아바타  f57d8423af0669eec18afb2cf5180325   \n",
       "\n",
       "      HEADGEAR__avatar_clone_itemName  ...       WEAPON__avatar_clone_itemId  \\\n",
       "37117                        흰색 레이스밴드  ...                               NaN   \n",
       "41865                    벤데타의 인장[D타입]  ...                               NaN   \n",
       "57255                     18주년 기념 머리띠  ...  95efa7c12ebfbc9c5fe32541a280e600   \n",
       "60381                서핑 아라드 투명 아바타 모자  ...                               NaN   \n",
       "60418                서핑 아라드 투명 아바타 모자  ...                               NaN   \n",
       "68846                    8비트 가면 [남거너]  ...  914d01a39e014a505c4e1a2065efd0ad   \n",
       "\n",
       "      WEAPON__avatar_clone_itemName AURA_SKIN__avatar_slotId  \\\n",
       "37117                           NaN                AURA_SKIN   \n",
       "41865                           NaN                AURA_SKIN   \n",
       "57255                    메탈 컴파운드 보우                AURA_SKIN   \n",
       "60381                           NaN                AURA_SKIN   \n",
       "60418                           NaN                AURA_SKIN   \n",
       "68846                      서브웨폰 레일건                AURA_SKIN   \n",
       "\n",
       "      AURA_SKIN__avatar_slotName          AURA_SKIN__avatar_itemId  \\\n",
       "37117                  오라 스킨 아바타  f99513274bbef4290a1379c223933338   \n",
       "41865                  오라 스킨 아바타  f99513274bbef4290a1379c223933338   \n",
       "57255                  오라 스킨 아바타  f99513274bbef4290a1379c223933338   \n",
       "60381                  오라 스킨 아바타  f99513274bbef4290a1379c223933338   \n",
       "60418                  오라 스킨 아바타  f99513274bbef4290a1379c223933338   \n",
       "68846                  오라 스킨 아바타  f99513274bbef4290a1379c223933338   \n",
       "\n",
       "      AURA_SKIN__avatar_itemName AURA_SKIN__avatar_clone_itemId  \\\n",
       "37117                 조화가 무너진 기억                            NaN   \n",
       "41865                 조화가 무너진 기억                            NaN   \n",
       "57255                 조화가 무너진 기억                            NaN   \n",
       "60381                 조화가 무너진 기억                            NaN   \n",
       "60418                 조화가 무너진 기억                            NaN   \n",
       "68846                 조화가 무너진 기억                            NaN   \n",
       "\n",
       "      AURA_SKIN__avatar_clone_itemName  serverId   fame  \n",
       "37117                              NaN      prey  61362  \n",
       "41865                              NaN  casillas  61242  \n",
       "57255                              NaN      prey  60937  \n",
       "60381                              NaN      cain  60885  \n",
       "60418                              NaN      cain  60885  \n",
       "68846                              NaN      prey  60754  \n",
       "\n",
       "[6 rows x 78 columns]"
      ]
     },
     "execution_count": 50,
     "metadata": {},
     "output_type": "execute_result"
    }
   ],
   "source": [
    "temp = pd.DataFrame()\n",
    "for i,idx in enumerate(dup_list):\n",
    "    print(i)\n",
    "    #print(df[df['characterId']==df.loc[idx,'characterId']])\n",
    "    temp=pd.concat([temp,(df[df['characterId']==df.loc[idx,'characterId']])])\n",
    "temp"
   ]
  },
  {
   "cell_type": "markdown",
   "metadata": {},
   "source": [
    "### 유저들이 사용하는 외형 아바타(avatar_clone_itemId)만 추출\n",
    "아바타 외형을 클로닝 하지 않았을 경우 착용 중인 아바타(avatar_itemId)로 추출"
   ]
  },
  {
   "cell_type": "code",
   "execution_count": 51,
   "metadata": {},
   "outputs": [],
   "source": [
    "parts = ['HEADGEAR__avatar',\n",
    "'HAIR__avatar',\n",
    "'FACE__avatar',\n",
    "'JACKET__avatar',\n",
    "'PANTS__avatar',\n",
    "'SHOES__avatar',\n",
    "'BREAST__avatar',\n",
    "'WAIST__avatar',\n",
    "'SKIN__avatar',\n",
    "'AURORA__avatar',\n",
    "'WEAPON__avatar',\n",
    "'AURA_SKIN__avatar']"
   ]
  },
  {
   "cell_type": "code",
   "execution_count": 52,
   "metadata": {},
   "outputs": [],
   "source": [
    "\n",
    "user_avatar_table = user_avatar_table.astype('str')\n",
    "user_avatar_table = user_avatar_table.astype({'fame':'int'})\n"
   ]
  },
  {
   "cell_type": "code",
   "execution_count": 53,
   "metadata": {},
   "outputs": [
    {
     "name": "stdout",
     "output_type": "stream",
     "text": [
      "HEADGEAR__avatar\n"
     ]
    },
    {
     "name": "stderr",
     "output_type": "stream",
     "text": [
      "100%|██████████| 81589/81589 [00:04<00:00, 16404.15it/s]\n"
     ]
    },
    {
     "name": "stdout",
     "output_type": "stream",
     "text": [
      "150\n",
      "HAIR__avatar\n"
     ]
    },
    {
     "name": "stderr",
     "output_type": "stream",
     "text": [
      "100%|██████████| 81589/81589 [00:04<00:00, 17810.55it/s]\n"
     ]
    },
    {
     "name": "stdout",
     "output_type": "stream",
     "text": [
      "165\n",
      "FACE__avatar\n"
     ]
    },
    {
     "name": "stderr",
     "output_type": "stream",
     "text": [
      "100%|██████████| 81589/81589 [00:07<00:00, 11018.67it/s]\n"
     ]
    },
    {
     "name": "stdout",
     "output_type": "stream",
     "text": [
      "175\n",
      "JACKET__avatar\n"
     ]
    },
    {
     "name": "stderr",
     "output_type": "stream",
     "text": [
      "100%|██████████| 81589/81589 [00:02<00:00, 30866.69it/s]\n"
     ]
    },
    {
     "name": "stdout",
     "output_type": "stream",
     "text": [
      "130\n",
      "PANTS__avatar\n"
     ]
    },
    {
     "name": "stderr",
     "output_type": "stream",
     "text": [
      "100%|██████████| 81589/81589 [00:03<00:00, 21549.64it/s]\n"
     ]
    },
    {
     "name": "stdout",
     "output_type": "stream",
     "text": [
      "135\n",
      "SHOES__avatar\n"
     ]
    },
    {
     "name": "stderr",
     "output_type": "stream",
     "text": [
      "100%|██████████| 81589/81589 [00:03<00:00, 24303.94it/s]\n"
     ]
    },
    {
     "name": "stdout",
     "output_type": "stream",
     "text": [
      "156\n",
      "BREAST__avatar\n"
     ]
    },
    {
     "name": "stderr",
     "output_type": "stream",
     "text": [
      "100%|██████████| 81589/81589 [00:07<00:00, 10526.28it/s]\n"
     ]
    },
    {
     "name": "stdout",
     "output_type": "stream",
     "text": [
      "180\n",
      "WAIST__avatar\n"
     ]
    },
    {
     "name": "stderr",
     "output_type": "stream",
     "text": [
      "100%|██████████| 81589/81589 [00:09<00:00, 8495.64it/s]\n"
     ]
    },
    {
     "name": "stdout",
     "output_type": "stream",
     "text": [
      "168\n",
      "SKIN__avatar\n"
     ]
    },
    {
     "name": "stderr",
     "output_type": "stream",
     "text": [
      "100%|██████████| 81589/81589 [00:27<00:00, 2981.82it/s]\n"
     ]
    },
    {
     "name": "stdout",
     "output_type": "stream",
     "text": [
      "271\n",
      "AURORA__avatar\n"
     ]
    },
    {
     "name": "stderr",
     "output_type": "stream",
     "text": [
      "100%|██████████| 81589/81589 [00:25<00:00, 3176.25it/s]\n"
     ]
    },
    {
     "name": "stdout",
     "output_type": "stream",
     "text": [
      "7\n",
      "WEAPON__avatar\n"
     ]
    },
    {
     "name": "stderr",
     "output_type": "stream",
     "text": [
      "100%|██████████| 81589/81589 [00:07<00:00, 11296.47it/s]\n"
     ]
    },
    {
     "name": "stdout",
     "output_type": "stream",
     "text": [
      "283\n",
      "AURA_SKIN__avatar\n"
     ]
    },
    {
     "name": "stderr",
     "output_type": "stream",
     "text": [
      "100%|██████████| 81589/81589 [00:25<00:00, 3236.47it/s]\n"
     ]
    },
    {
     "name": "stdout",
     "output_type": "stream",
     "text": [
      "21760\n"
     ]
    },
    {
     "data": {
      "text/html": [
       "<div>\n",
       "<style scoped>\n",
       "    .dataframe tbody tr th:only-of-type {\n",
       "        vertical-align: middle;\n",
       "    }\n",
       "\n",
       "    .dataframe tbody tr th {\n",
       "        vertical-align: top;\n",
       "    }\n",
       "\n",
       "    .dataframe thead th {\n",
       "        text-align: right;\n",
       "    }\n",
       "</style>\n",
       "<table border=\"1\" class=\"dataframe\">\n",
       "  <thead>\n",
       "    <tr style=\"text-align: right;\">\n",
       "      <th></th>\n",
       "      <th>characterId</th>\n",
       "      <th>characterName</th>\n",
       "      <th>jobId</th>\n",
       "      <th>jobName</th>\n",
       "      <th>HEADGEAR__avatar_slotId</th>\n",
       "      <th>HEADGEAR__avatar_slotName</th>\n",
       "      <th>HEADGEAR__avatar_itemId</th>\n",
       "      <th>HEADGEAR__avatar_itemName</th>\n",
       "      <th>HEADGEAR__avatar_clone_itemId</th>\n",
       "      <th>HEADGEAR__avatar_clone_itemName</th>\n",
       "      <th>...</th>\n",
       "      <th>WEAPON__avatar_clone_itemId</th>\n",
       "      <th>WEAPON__avatar_clone_itemName</th>\n",
       "      <th>AURA_SKIN__avatar_slotId</th>\n",
       "      <th>AURA_SKIN__avatar_slotName</th>\n",
       "      <th>AURA_SKIN__avatar_itemId</th>\n",
       "      <th>AURA_SKIN__avatar_itemName</th>\n",
       "      <th>AURA_SKIN__avatar_clone_itemId</th>\n",
       "      <th>AURA_SKIN__avatar_clone_itemName</th>\n",
       "      <th>serverId</th>\n",
       "      <th>fame</th>\n",
       "    </tr>\n",
       "  </thead>\n",
       "  <tbody>\n",
       "    <tr>\n",
       "      <th>0</th>\n",
       "      <td>150a23219a59e086e36db59028c06a50</td>\n",
       "      <td>헤롱카테</td>\n",
       "      <td>3909d0b188e9c95311399f776e331da5</td>\n",
       "      <td>마법사(여)</td>\n",
       "      <td>HEADGEAR</td>\n",
       "      <td>모자 아바타</td>\n",
       "      <td>aebd9700b2de7be3fc909f89f8cfffce</td>\n",
       "      <td>레어 모자 클론 아바타</td>\n",
       "      <td>14d18062b175b136d7ef6f1db407f58d</td>\n",
       "      <td>던파스쿨 고양이 머리띠[A타입]</td>\n",
       "      <td>...</td>\n",
       "      <td>e5f9d8f370765a3496f0b3ef189a0e7f</td>\n",
       "      <td>포식의 욕망</td>\n",
       "      <td>AURA_SKIN</td>\n",
       "      <td>오라 스킨 아바타</td>\n",
       "      <td>d1bb79f2380a3375cb7a473246053ffa</td>\n",
       "      <td>★미쿠와 함께★</td>\n",
       "      <td>nan</td>\n",
       "      <td>★미쿠와 함께★</td>\n",
       "      <td>anton</td>\n",
       "      <td>66993</td>\n",
       "    </tr>\n",
       "    <tr>\n",
       "      <th>1</th>\n",
       "      <td>0daa8c49cae531262f966dd637008e30</td>\n",
       "      <td>민트크림소스</td>\n",
       "      <td>3909d0b188e9c95311399f776e331da5</td>\n",
       "      <td>마법사(여)</td>\n",
       "      <td>HEADGEAR</td>\n",
       "      <td>모자 아바타</td>\n",
       "      <td>d73b5d96d17c84e54ff2a999658a4845</td>\n",
       "      <td>레어 모자 클론 아바타</td>\n",
       "      <td>9b676223df861e8932d01fa8be03dd6a</td>\n",
       "      <td>아라드 해변 리본 모자[C타입]</td>\n",
       "      <td>...</td>\n",
       "      <td>f742d25f8e25513de703149cbd432e65</td>\n",
       "      <td>엘프 여왕의 정령</td>\n",
       "      <td>AURA_SKIN</td>\n",
       "      <td>오라 스킨 아바타</td>\n",
       "      <td>4754847cc0c85ffbcc6bd108e9207f6c</td>\n",
       "      <td>모험단 모션 오라 아바타</td>\n",
       "      <td>2fd6865377f6563035def5de26f489b7</td>\n",
       "      <td>해방된 요기 오라</td>\n",
       "      <td>hilder</td>\n",
       "      <td>66787</td>\n",
       "    </tr>\n",
       "    <tr>\n",
       "      <th>2</th>\n",
       "      <td>103e5c925e8a698e89abd4d68cce1d0e</td>\n",
       "      <td>스팅거타이거</td>\n",
       "      <td>afdf3b989339de478e85b614d274d1ef</td>\n",
       "      <td>거너(남)</td>\n",
       "      <td>HEADGEAR</td>\n",
       "      <td>모자 아바타</td>\n",
       "      <td>80c6a6b7b5c1ab32bb401dfadf76ace8</td>\n",
       "      <td>레어 모자 클론 아바타</td>\n",
       "      <td>89f6c4947ec18a4b0aab705b0e93b3a1</td>\n",
       "      <td>진 메카닉의 헤드폰[B타입]</td>\n",
       "      <td>...</td>\n",
       "      <td>d58731378b57cdcd957614255173424a</td>\n",
       "      <td>던전앤파이터 클래식 캐논</td>\n",
       "      <td>AURA_SKIN</td>\n",
       "      <td>오라 스킨 아바타</td>\n",
       "      <td>3baabfc239dd420d0b6673c7b1426391</td>\n",
       "      <td>푸른빛 홀로그램</td>\n",
       "      <td>nan</td>\n",
       "      <td>푸른빛 홀로그램</td>\n",
       "      <td>anton</td>\n",
       "      <td>66702</td>\n",
       "    </tr>\n",
       "    <tr>\n",
       "      <th>3</th>\n",
       "      <td>3ba38c77f2868f34d910e362d0f4cae1</td>\n",
       "      <td>프라디지</td>\n",
       "      <td>41f1cdc2ff58bb5fdc287be0db2a8df3</td>\n",
       "      <td>귀검사(남)</td>\n",
       "      <td>HEADGEAR</td>\n",
       "      <td>모자 아바타</td>\n",
       "      <td>3bd48b7a41985ad02bd07ec91dcf04a8</td>\n",
       "      <td>레어 모자 클론 아바타</td>\n",
       "      <td>995900bb5ded1b28e387a0e709572fae</td>\n",
       "      <td>부러진 악마의 블랙 혼</td>\n",
       "      <td>...</td>\n",
       "      <td>a6f732dc2f3fa8ef24a420cca2ca5aa2</td>\n",
       "      <td>명도 후구도쿠</td>\n",
       "      <td>AURA_SKIN</td>\n",
       "      <td>오라 스킨 아바타</td>\n",
       "      <td>025ff1f20ce27272539704aedb878ac1</td>\n",
       "      <td>연옥의 불길</td>\n",
       "      <td>nan</td>\n",
       "      <td>연옥의 불길</td>\n",
       "      <td>prey</td>\n",
       "      <td>66666</td>\n",
       "    </tr>\n",
       "    <tr>\n",
       "      <th>4</th>\n",
       "      <td>79a62ecc85e602ae7f13b79b766aa2ee</td>\n",
       "      <td>금요일야근</td>\n",
       "      <td>0c1b401bb09241570d364420b3ba3fd7</td>\n",
       "      <td>프리스트(여)</td>\n",
       "      <td>HEADGEAR</td>\n",
       "      <td>모자 아바타</td>\n",
       "      <td>4073653019b52f859d27c96265c0b0a3</td>\n",
       "      <td>레어 모자 클론 아바타</td>\n",
       "      <td>nan</td>\n",
       "      <td>레어 모자 클론 아바타</td>\n",
       "      <td>...</td>\n",
       "      <td>6723b14653bc97f521e990439b3bad77</td>\n",
       "      <td>이면 1활 삼뢰의 포진</td>\n",
       "      <td>AURA_SKIN</td>\n",
       "      <td>오라 스킨 아바타</td>\n",
       "      <td>f99513274bbef4290a1379c223933338</td>\n",
       "      <td>조화가 무너진 기억</td>\n",
       "      <td>nan</td>\n",
       "      <td>조화가 무너진 기억</td>\n",
       "      <td>diregie</td>\n",
       "      <td>66660</td>\n",
       "    </tr>\n",
       "    <tr>\n",
       "      <th>...</th>\n",
       "      <td>...</td>\n",
       "      <td>...</td>\n",
       "      <td>...</td>\n",
       "      <td>...</td>\n",
       "      <td>...</td>\n",
       "      <td>...</td>\n",
       "      <td>...</td>\n",
       "      <td>...</td>\n",
       "      <td>...</td>\n",
       "      <td>...</td>\n",
       "      <td>...</td>\n",
       "      <td>...</td>\n",
       "      <td>...</td>\n",
       "      <td>...</td>\n",
       "      <td>...</td>\n",
       "      <td>...</td>\n",
       "      <td>...</td>\n",
       "      <td>...</td>\n",
       "      <td>...</td>\n",
       "      <td>...</td>\n",
       "      <td>...</td>\n",
       "    </tr>\n",
       "    <tr>\n",
       "      <th>81584</th>\n",
       "      <td>5c37706a64742ce164d02b06456ec3d9</td>\n",
       "      <td>윤아에용</td>\n",
       "      <td>a7a059ebe9e6054c0644b40ef316d6e9</td>\n",
       "      <td>격투가(여)</td>\n",
       "      <td>HEADGEAR</td>\n",
       "      <td>모자 아바타</td>\n",
       "      <td>b8c1f046fe4fe0677f19195385d19b04</td>\n",
       "      <td>레어 모자 클론 아바타</td>\n",
       "      <td>53d334dc1641cd3f4605908bcaa89960</td>\n",
       "      <td>진 스트라이커의 거친 후드[A타입]</td>\n",
       "      <td>...</td>\n",
       "      <td>nan</td>\n",
       "      <td>무기 클론 아바타</td>\n",
       "      <td>nan</td>\n",
       "      <td>nan</td>\n",
       "      <td>nan</td>\n",
       "      <td>nan</td>\n",
       "      <td>nan</td>\n",
       "      <td>nan</td>\n",
       "      <td>hilder</td>\n",
       "      <td>60468</td>\n",
       "    </tr>\n",
       "    <tr>\n",
       "      <th>81585</th>\n",
       "      <td>030f2b2ee126aec10bd0108c13b493c6</td>\n",
       "      <td>잿빛의시프</td>\n",
       "      <td>41f1cdc2ff58bb5fdc287be0db2a8df3</td>\n",
       "      <td>귀검사(남)</td>\n",
       "      <td>HEADGEAR</td>\n",
       "      <td>모자 아바타</td>\n",
       "      <td>3bd48b7a41985ad02bd07ec91dcf04a8</td>\n",
       "      <td>레어 모자 클론 아바타</td>\n",
       "      <td>711ee1f368e0e83f29d33f2b06bd4994</td>\n",
       "      <td>야생의 사파리 사모예드의 탈[A타입]</td>\n",
       "      <td>...</td>\n",
       "      <td>nan</td>\n",
       "      <td>레어 무기 클론 아바타[70Lv]</td>\n",
       "      <td>AURA_SKIN</td>\n",
       "      <td>오라 스킨 아바타</td>\n",
       "      <td>f99513274bbef4290a1379c223933338</td>\n",
       "      <td>조화가 무너진 기억</td>\n",
       "      <td>nan</td>\n",
       "      <td>조화가 무너진 기억</td>\n",
       "      <td>cain</td>\n",
       "      <td>60468</td>\n",
       "    </tr>\n",
       "    <tr>\n",
       "      <th>81586</th>\n",
       "      <td>c51246ee43ee7645995bdf8f2ee1a26f</td>\n",
       "      <td>저주거미</td>\n",
       "      <td>3909d0b188e9c95311399f776e331da5</td>\n",
       "      <td>마법사(여)</td>\n",
       "      <td>HEADGEAR</td>\n",
       "      <td>모자 아바타</td>\n",
       "      <td>92d9839ad426f31e9de3508d001f84ca</td>\n",
       "      <td>레어 모자 클론 아바타</td>\n",
       "      <td>72747b638f523948042eb783d4704bc2</td>\n",
       "      <td>아사미야 아테나의 모자[E타입]</td>\n",
       "      <td>...</td>\n",
       "      <td>0a67f9043419e9684ca9693a2735cd6f</td>\n",
       "      <td>샤이닝 크리스탈 비트</td>\n",
       "      <td>AURA_SKIN</td>\n",
       "      <td>오라 스킨 아바타</td>\n",
       "      <td>f99513274bbef4290a1379c223933338</td>\n",
       "      <td>조화가 무너진 기억</td>\n",
       "      <td>nan</td>\n",
       "      <td>조화가 무너진 기억</td>\n",
       "      <td>prey</td>\n",
       "      <td>60468</td>\n",
       "    </tr>\n",
       "    <tr>\n",
       "      <th>81587</th>\n",
       "      <td>9c068b798696f994d39b14a0840abb10</td>\n",
       "      <td>찌뮤</td>\n",
       "      <td>b9cb48777665de22c006fabaf9a560b3</td>\n",
       "      <td>아처</td>\n",
       "      <td>HEADGEAR</td>\n",
       "      <td>모자 아바타</td>\n",
       "      <td>2defdc2422ff3c61f5ac1af583e79459</td>\n",
       "      <td>레어 모자 클론 아바타</td>\n",
       "      <td>c5e50a3ea8f71aed447cb461a585c034</td>\n",
       "      <td>차원의 별자리 리본 베레모[E타입]</td>\n",
       "      <td>...</td>\n",
       "      <td>nan</td>\n",
       "      <td>레어 무기 클론 아바타[60Lv]</td>\n",
       "      <td>AURA_SKIN</td>\n",
       "      <td>오라 스킨 아바타</td>\n",
       "      <td>f99513274bbef4290a1379c223933338</td>\n",
       "      <td>조화가 무너진 기억</td>\n",
       "      <td>nan</td>\n",
       "      <td>조화가 무너진 기억</td>\n",
       "      <td>prey</td>\n",
       "      <td>60468</td>\n",
       "    </tr>\n",
       "    <tr>\n",
       "      <th>81588</th>\n",
       "      <td>cf4ac67a4cacec7f53a12b5115b48887</td>\n",
       "      <td>찬가망둥이</td>\n",
       "      <td>0c1b401bb09241570d364420b3ba3fd7</td>\n",
       "      <td>프리스트(여)</td>\n",
       "      <td>HEADGEAR</td>\n",
       "      <td>모자 아바타</td>\n",
       "      <td>4073653019b52f859d27c96265c0b0a3</td>\n",
       "      <td>레어 모자 클론 아바타</td>\n",
       "      <td>5c1ce6ce3322ef6051135ccac6eca7e1</td>\n",
       "      <td>황금상 대두 아바타</td>\n",
       "      <td>...</td>\n",
       "      <td>d7686c7644da98c18e4aeab47634fd1f</td>\n",
       "      <td>디멘션 아라드 여프리스트의 무기</td>\n",
       "      <td>AURA_SKIN</td>\n",
       "      <td>오라 스킨 아바타</td>\n",
       "      <td>f99513274bbef4290a1379c223933338</td>\n",
       "      <td>조화가 무너진 기억</td>\n",
       "      <td>nan</td>\n",
       "      <td>조화가 무너진 기억</td>\n",
       "      <td>cain</td>\n",
       "      <td>60468</td>\n",
       "    </tr>\n",
       "  </tbody>\n",
       "</table>\n",
       "<p>81589 rows × 78 columns</p>\n",
       "</div>"
      ],
      "text/plain": [
       "                            characterId characterName  \\\n",
       "0      150a23219a59e086e36db59028c06a50          헤롱카테   \n",
       "1      0daa8c49cae531262f966dd637008e30        민트크림소스   \n",
       "2      103e5c925e8a698e89abd4d68cce1d0e        스팅거타이거   \n",
       "3      3ba38c77f2868f34d910e362d0f4cae1          프라디지   \n",
       "4      79a62ecc85e602ae7f13b79b766aa2ee         금요일야근   \n",
       "...                                 ...           ...   \n",
       "81584  5c37706a64742ce164d02b06456ec3d9          윤아에용   \n",
       "81585  030f2b2ee126aec10bd0108c13b493c6         잿빛의시프   \n",
       "81586  c51246ee43ee7645995bdf8f2ee1a26f          저주거미   \n",
       "81587  9c068b798696f994d39b14a0840abb10            찌뮤   \n",
       "81588  cf4ac67a4cacec7f53a12b5115b48887         찬가망둥이   \n",
       "\n",
       "                                  jobId  jobName HEADGEAR__avatar_slotId  \\\n",
       "0      3909d0b188e9c95311399f776e331da5   마법사(여)                HEADGEAR   \n",
       "1      3909d0b188e9c95311399f776e331da5   마법사(여)                HEADGEAR   \n",
       "2      afdf3b989339de478e85b614d274d1ef    거너(남)                HEADGEAR   \n",
       "3      41f1cdc2ff58bb5fdc287be0db2a8df3   귀검사(남)                HEADGEAR   \n",
       "4      0c1b401bb09241570d364420b3ba3fd7  프리스트(여)                HEADGEAR   \n",
       "...                                 ...      ...                     ...   \n",
       "81584  a7a059ebe9e6054c0644b40ef316d6e9   격투가(여)                HEADGEAR   \n",
       "81585  41f1cdc2ff58bb5fdc287be0db2a8df3   귀검사(남)                HEADGEAR   \n",
       "81586  3909d0b188e9c95311399f776e331da5   마법사(여)                HEADGEAR   \n",
       "81587  b9cb48777665de22c006fabaf9a560b3       아처                HEADGEAR   \n",
       "81588  0c1b401bb09241570d364420b3ba3fd7  프리스트(여)                HEADGEAR   \n",
       "\n",
       "      HEADGEAR__avatar_slotName           HEADGEAR__avatar_itemId  \\\n",
       "0                        모자 아바타  aebd9700b2de7be3fc909f89f8cfffce   \n",
       "1                        모자 아바타  d73b5d96d17c84e54ff2a999658a4845   \n",
       "2                        모자 아바타  80c6a6b7b5c1ab32bb401dfadf76ace8   \n",
       "3                        모자 아바타  3bd48b7a41985ad02bd07ec91dcf04a8   \n",
       "4                        모자 아바타  4073653019b52f859d27c96265c0b0a3   \n",
       "...                         ...                               ...   \n",
       "81584                    모자 아바타  b8c1f046fe4fe0677f19195385d19b04   \n",
       "81585                    모자 아바타  3bd48b7a41985ad02bd07ec91dcf04a8   \n",
       "81586                    모자 아바타  92d9839ad426f31e9de3508d001f84ca   \n",
       "81587                    모자 아바타  2defdc2422ff3c61f5ac1af583e79459   \n",
       "81588                    모자 아바타  4073653019b52f859d27c96265c0b0a3   \n",
       "\n",
       "      HEADGEAR__avatar_itemName     HEADGEAR__avatar_clone_itemId  \\\n",
       "0                  레어 모자 클론 아바타  14d18062b175b136d7ef6f1db407f58d   \n",
       "1                  레어 모자 클론 아바타  9b676223df861e8932d01fa8be03dd6a   \n",
       "2                  레어 모자 클론 아바타  89f6c4947ec18a4b0aab705b0e93b3a1   \n",
       "3                  레어 모자 클론 아바타  995900bb5ded1b28e387a0e709572fae   \n",
       "4                  레어 모자 클론 아바타                               nan   \n",
       "...                         ...                               ...   \n",
       "81584              레어 모자 클론 아바타  53d334dc1641cd3f4605908bcaa89960   \n",
       "81585              레어 모자 클론 아바타  711ee1f368e0e83f29d33f2b06bd4994   \n",
       "81586              레어 모자 클론 아바타  72747b638f523948042eb783d4704bc2   \n",
       "81587              레어 모자 클론 아바타  c5e50a3ea8f71aed447cb461a585c034   \n",
       "81588              레어 모자 클론 아바타  5c1ce6ce3322ef6051135ccac6eca7e1   \n",
       "\n",
       "      HEADGEAR__avatar_clone_itemName  ...       WEAPON__avatar_clone_itemId  \\\n",
       "0                   던파스쿨 고양이 머리띠[A타입]  ...  e5f9d8f370765a3496f0b3ef189a0e7f   \n",
       "1                   아라드 해변 리본 모자[C타입]  ...  f742d25f8e25513de703149cbd432e65   \n",
       "2                     진 메카닉의 헤드폰[B타입]  ...  d58731378b57cdcd957614255173424a   \n",
       "3                        부러진 악마의 블랙 혼  ...  a6f732dc2f3fa8ef24a420cca2ca5aa2   \n",
       "4                        레어 모자 클론 아바타  ...  6723b14653bc97f521e990439b3bad77   \n",
       "...                               ...  ...                               ...   \n",
       "81584             진 스트라이커의 거친 후드[A타입]  ...                               nan   \n",
       "81585            야생의 사파리 사모예드의 탈[A타입]  ...                               nan   \n",
       "81586               아사미야 아테나의 모자[E타입]  ...  0a67f9043419e9684ca9693a2735cd6f   \n",
       "81587             차원의 별자리 리본 베레모[E타입]  ...                               nan   \n",
       "81588                      황금상 대두 아바타  ...  d7686c7644da98c18e4aeab47634fd1f   \n",
       "\n",
       "      WEAPON__avatar_clone_itemName AURA_SKIN__avatar_slotId  \\\n",
       "0                            포식의 욕망                AURA_SKIN   \n",
       "1                         엘프 여왕의 정령                AURA_SKIN   \n",
       "2                     던전앤파이터 클래식 캐논                AURA_SKIN   \n",
       "3                           명도 후구도쿠                AURA_SKIN   \n",
       "4                      이면 1활 삼뢰의 포진                AURA_SKIN   \n",
       "...                             ...                      ...   \n",
       "81584                     무기 클론 아바타                      nan   \n",
       "81585            레어 무기 클론 아바타[70Lv]                AURA_SKIN   \n",
       "81586                   샤이닝 크리스탈 비트                AURA_SKIN   \n",
       "81587            레어 무기 클론 아바타[60Lv]                AURA_SKIN   \n",
       "81588             디멘션 아라드 여프리스트의 무기                AURA_SKIN   \n",
       "\n",
       "      AURA_SKIN__avatar_slotName          AURA_SKIN__avatar_itemId  \\\n",
       "0                      오라 스킨 아바타  d1bb79f2380a3375cb7a473246053ffa   \n",
       "1                      오라 스킨 아바타  4754847cc0c85ffbcc6bd108e9207f6c   \n",
       "2                      오라 스킨 아바타  3baabfc239dd420d0b6673c7b1426391   \n",
       "3                      오라 스킨 아바타  025ff1f20ce27272539704aedb878ac1   \n",
       "4                      오라 스킨 아바타  f99513274bbef4290a1379c223933338   \n",
       "...                          ...                               ...   \n",
       "81584                        nan                               nan   \n",
       "81585                  오라 스킨 아바타  f99513274bbef4290a1379c223933338   \n",
       "81586                  오라 스킨 아바타  f99513274bbef4290a1379c223933338   \n",
       "81587                  오라 스킨 아바타  f99513274bbef4290a1379c223933338   \n",
       "81588                  오라 스킨 아바타  f99513274bbef4290a1379c223933338   \n",
       "\n",
       "      AURA_SKIN__avatar_itemName    AURA_SKIN__avatar_clone_itemId  \\\n",
       "0                       ★미쿠와 함께★                               nan   \n",
       "1                  모험단 모션 오라 아바타  2fd6865377f6563035def5de26f489b7   \n",
       "2                       푸른빛 홀로그램                               nan   \n",
       "3                         연옥의 불길                               nan   \n",
       "4                     조화가 무너진 기억                               nan   \n",
       "...                          ...                               ...   \n",
       "81584                        nan                               nan   \n",
       "81585                 조화가 무너진 기억                               nan   \n",
       "81586                 조화가 무너진 기억                               nan   \n",
       "81587                 조화가 무너진 기억                               nan   \n",
       "81588                 조화가 무너진 기억                               nan   \n",
       "\n",
       "      AURA_SKIN__avatar_clone_itemName serverId   fame  \n",
       "0                             ★미쿠와 함께★    anton  66993  \n",
       "1                            해방된 요기 오라   hilder  66787  \n",
       "2                             푸른빛 홀로그램    anton  66702  \n",
       "3                               연옥의 불길     prey  66666  \n",
       "4                           조화가 무너진 기억  diregie  66660  \n",
       "...                                ...      ...    ...  \n",
       "81584                              nan   hilder  60468  \n",
       "81585                       조화가 무너진 기억     cain  60468  \n",
       "81586                       조화가 무너진 기억     prey  60468  \n",
       "81587                       조화가 무너진 기억     prey  60468  \n",
       "81588                       조화가 무너진 기억     cain  60468  \n",
       "\n",
       "[81589 rows x 78 columns]"
      ]
     },
     "execution_count": 53,
     "metadata": {},
     "output_type": "execute_result"
    }
   ],
   "source": [
    "for n,part in enumerate(parts):\n",
    "    print(part)\n",
    "    c=0\n",
    "    for i in tqdm(range(len(user_avatar_table))):\n",
    "        try:\n",
    "            \n",
    "            if user_avatar_table.loc[i,part+'_clone_itemName']=='nan':\n",
    "                if user_avatar_table.loc[i,part+'_itemName']=='nan':\n",
    "                    c+=1\n",
    "                else:\n",
    "                    user_avatar_table.loc[i,part+'_clone_itemName'] = user_avatar_table.loc[i,part+'_itemName']\n",
    "                    user_avatar_table.loc[i,part+'_clone_itemId'] = user_avatar_table.loc[i,part+'_itemId']\n",
    "            \n",
    "        except KeyError:\n",
    "            #print(i)\n",
    "            pass\n",
    "    print(c)\n",
    "user_avatar_table"
   ]
  },
  {
   "cell_type": "code",
   "execution_count": 31,
   "metadata": {},
   "outputs": [
    {
     "data": {
      "text/html": [
       "<div>\n",
       "<style scoped>\n",
       "    .dataframe tbody tr th:only-of-type {\n",
       "        vertical-align: middle;\n",
       "    }\n",
       "\n",
       "    .dataframe tbody tr th {\n",
       "        vertical-align: top;\n",
       "    }\n",
       "\n",
       "    .dataframe thead th {\n",
       "        text-align: right;\n",
       "    }\n",
       "</style>\n",
       "<table border=\"1\" class=\"dataframe\">\n",
       "  <thead>\n",
       "    <tr style=\"text-align: right;\">\n",
       "      <th></th>\n",
       "      <th>HEADGEAR__avatar_clone_itemName</th>\n",
       "      <th>HAIR__avatar_clone_itemName</th>\n",
       "      <th>FACE__avatar_clone_itemName</th>\n",
       "      <th>JACKET__avatar_clone_itemName</th>\n",
       "      <th>PANTS__avatar_clone_itemName</th>\n",
       "      <th>SHOES__avatar_clone_itemName</th>\n",
       "      <th>BREAST__avatar_clone_itemName</th>\n",
       "      <th>WAIST__avatar_clone_itemName</th>\n",
       "      <th>SKIN__avatar_clone_itemName</th>\n",
       "      <th>AURORA__avatar_clone_itemName</th>\n",
       "      <th>WEAPON__avatar_clone_itemName</th>\n",
       "      <th>AURA_SKIN__avatar_clone_itemName</th>\n",
       "    </tr>\n",
       "  </thead>\n",
       "  <tbody>\n",
       "    <tr>\n",
       "      <th>0</th>\n",
       "      <td>던파스쿨 고양이 머리띠[A타입]</td>\n",
       "      <td>헤카테의 웨이브 롱 트윈테일[B타입]</td>\n",
       "      <td>여우분장[A타입]</td>\n",
       "      <td>검은색 레이스셔츠</td>\n",
       "      <td>검은색 물결무늬스커트</td>\n",
       "      <td>검은색 통굽구두</td>\n",
       "      <td>짙푸른 리본타이</td>\n",
       "      <td>흰색 레이스리본</td>\n",
       "      <td>살굿빛 피부</td>\n",
       "      <td>삼신기의 불꽃</td>\n",
       "      <td>포식의 욕망</td>\n",
       "      <td>★미쿠와 함께★</td>\n",
       "    </tr>\n",
       "    <tr>\n",
       "      <th>1</th>\n",
       "      <td>아라드 해변 리본 모자[C타입]</td>\n",
       "      <td>원탁의 기사 비비안의 골드 헤어[A타입]</td>\n",
       "      <td>여명의 천신 술 장식 귀걸이와 눈 화장</td>\n",
       "      <td>레이스 튜브탑[B타입]</td>\n",
       "      <td>삼각 수영복[B타입]</td>\n",
       "      <td>해상 열차 바캉스 큐빅 발찌[A타입]</td>\n",
       "      <td>레어 목가슴 클론 아바타</td>\n",
       "      <td>서핑 아라드 투명 아바타 허리</td>\n",
       "      <td>워터밤 페스타 순백의 피부[D타입]</td>\n",
       "      <td>아라드 로얄 패스 오라</td>\n",
       "      <td>엘프 여왕의 정령</td>\n",
       "      <td>해방된 요기 오라</td>\n",
       "    </tr>\n",
       "    <tr>\n",
       "      <th>2</th>\n",
       "      <td>진 메카닉의 헤드폰[B타입]</td>\n",
       "      <td>이니셜반다나[C타입]</td>\n",
       "      <td>보호 마스크[B타입]</td>\n",
       "      <td>디스트로이어의 가죽장식 상의[D타입]</td>\n",
       "      <td>엑스마키나의 카고바지[A타입]</td>\n",
       "      <td>엑스마키나의 가죽워커[A타입]</td>\n",
       "      <td>정비공 리모콘[A타입]</td>\n",
       "      <td>진 런처의 포켓 워 벨트[A타입]</td>\n",
       "      <td>블래스터 우윳빛 피부[D타입]</td>\n",
       "      <td>삼신기의 불꽃</td>\n",
       "      <td>던전앤파이터 클래식 캐논</td>\n",
       "      <td>푸른빛 홀로그램</td>\n",
       "    </tr>\n",
       "    <tr>\n",
       "      <th>3</th>\n",
       "      <td>부러진 악마의 블랙 혼</td>\n",
       "      <td>올림푸스 제우스의 사자머리[C타입]</td>\n",
       "      <td>광전사의 안광</td>\n",
       "      <td>아라드 해변의 타투[C타입]</td>\n",
       "      <td>검도 도복 하의[C타입]</td>\n",
       "      <td>맨발</td>\n",
       "      <td>레어 목가슴 클론 아바타</td>\n",
       "      <td>헬벤터의 사자갈퀴 벨트[B타입]</td>\n",
       "      <td>백옥 피부</td>\n",
       "      <td>삼신기의 불꽃</td>\n",
       "      <td>명도 후구도쿠</td>\n",
       "      <td>연옥의 불길</td>\n",
       "    </tr>\n",
       "    <tr>\n",
       "      <th>4</th>\n",
       "      <td>레어 모자 클론 아바타</td>\n",
       "      <td>용의 전사 실버 웨이브헤어[D타입]</td>\n",
       "      <td>성안의 미카엘라 경건하게 감은 눈</td>\n",
       "      <td>원탁의 기사 케이의 블랙 갑옷 상의[B타입]</td>\n",
       "      <td>신세이어의 숏 팬츠[A타입]</td>\n",
       "      <td>캐주얼룩 스니커즈[A타입]</td>\n",
       "      <td>레어 목가슴 클론 아바타</td>\n",
       "      <td>워터밤 페스타 하트 페인팅[시크릿]</td>\n",
       "      <td>초원의 영혼 순백 피부[D타입]</td>\n",
       "      <td>삼신기의 불꽃</td>\n",
       "      <td>이면 1활 삼뢰의 포진</td>\n",
       "      <td>조화가 무너진 기억</td>\n",
       "    </tr>\n",
       "    <tr>\n",
       "      <th>...</th>\n",
       "      <td>...</td>\n",
       "      <td>...</td>\n",
       "      <td>...</td>\n",
       "      <td>...</td>\n",
       "      <td>...</td>\n",
       "      <td>...</td>\n",
       "      <td>...</td>\n",
       "      <td>...</td>\n",
       "      <td>...</td>\n",
       "      <td>...</td>\n",
       "      <td>...</td>\n",
       "      <td>...</td>\n",
       "    </tr>\n",
       "    <tr>\n",
       "      <th>81584</th>\n",
       "      <td>진 스트라이커의 거친 후드[A타입]</td>\n",
       "      <td>진 스트라이커의 한쪽 넘김 단발[A타입]</td>\n",
       "      <td>진 스트라이커의 반창고[A타입]</td>\n",
       "      <td>진 스트라이커의 봉황 무늬 도복[A타입]</td>\n",
       "      <td>진 스트라이커의 박서 팬츠[A타입]</td>\n",
       "      <td>진 스트라이커의 발 보호대[A타입]</td>\n",
       "      <td>진 스트라이커의 훈련 흔적[A타입]</td>\n",
       "      <td>진 스트라이커의 복싱 로프[A타입]</td>\n",
       "      <td>배틀슈트 잿빛 피부[A타입]</td>\n",
       "      <td>어워즈 패셔니스타</td>\n",
       "      <td>무기 클론 아바타</td>\n",
       "      <td>nan</td>\n",
       "    </tr>\n",
       "    <tr>\n",
       "      <th>81585</th>\n",
       "      <td>야생의 사파리 사모예드의 탈[A타입]</td>\n",
       "      <td>레어 머리 클론 아바타</td>\n",
       "      <td>뉴트로 버츄얼 디바이스</td>\n",
       "      <td>야생의 사파리 사모예드의 슈트[A타입]</td>\n",
       "      <td>레어 하의 클론 아바타</td>\n",
       "      <td>야생의 사파리 사모예드의 슈즈[A타입]</td>\n",
       "      <td>새 학기 사파리 호랑이의 스카프[C타입]</td>\n",
       "      <td>킹덤 고양이의 고양이 꼬리[A타입]</td>\n",
       "      <td>다크로드의 살굿빛 피부[D타입]</td>\n",
       "      <td>삼신기의 불꽃</td>\n",
       "      <td>레어 무기 클론 아바타[70Lv]</td>\n",
       "      <td>조화가 무너진 기억</td>\n",
       "    </tr>\n",
       "    <tr>\n",
       "      <th>81586</th>\n",
       "      <td>아사미야 아테나의 모자[E타입]</td>\n",
       "      <td>아사미야 아테나의 헤어[E타입]</td>\n",
       "      <td>아사미야 아테나의 얼굴[E타입]</td>\n",
       "      <td>아사미야 아테나의 상의[E타입]</td>\n",
       "      <td>아사미야 아테나의 하의[E타입]</td>\n",
       "      <td>아사미야 아테나의 신발[E타입]</td>\n",
       "      <td>아사미야 아테나의 넥[E타입]</td>\n",
       "      <td>아사미야 아테나의 벨트[E타입]</td>\n",
       "      <td>진 인챈트리스의 살굿빛 피부[A타입]</td>\n",
       "      <td>어워즈 패셔니스타</td>\n",
       "      <td>샤이닝 크리스탈 비트</td>\n",
       "      <td>조화가 무너진 기억</td>\n",
       "    </tr>\n",
       "    <tr>\n",
       "      <th>81587</th>\n",
       "      <td>차원의 별자리 리본 베레모[E타입]</td>\n",
       "      <td>차원의 별자리 양갈래 웨이브 헤어[E타입]</td>\n",
       "      <td>레어 얼굴 클론 아바타</td>\n",
       "      <td>차원의 별자리 별 장식 미니 원피스[E타입]</td>\n",
       "      <td>차원의 별자리 보석 타이즈[E타입]</td>\n",
       "      <td>워터밤 페스타 빅 사이즈 발찌[A타입]</td>\n",
       "      <td>차원의 별자리 별빛 케이프[E타입]</td>\n",
       "      <td>차원의 별자리 빅 리본[E타입]</td>\n",
       "      <td>헤드라이너의 상앗빛 피부[A타입]</td>\n",
       "      <td>아라드 로얄 패스 오라</td>\n",
       "      <td>레어 무기 클론 아바타[60Lv]</td>\n",
       "      <td>조화가 무너진 기억</td>\n",
       "    </tr>\n",
       "    <tr>\n",
       "      <th>81588</th>\n",
       "      <td>황금상 대두 아바타</td>\n",
       "      <td>미카엘라의 고결한 머리카락[D타입]</td>\n",
       "      <td>고딕 스모키 메이크업[D타입]</td>\n",
       "      <td>새 학기 사파리 담비의 상의[A타입]</td>\n",
       "      <td>신세이어의 숏 팬츠[A타입]</td>\n",
       "      <td>사뿐사뿐 청룡의 근두운 [여프리스트]</td>\n",
       "      <td>진 미스트리스의 날개[D타입]</td>\n",
       "      <td>고딕 메쉬 리본[A타입]</td>\n",
       "      <td>아라드 패스 해군 제독의 여프리스트 피부</td>\n",
       "      <td>어워즈 패셔니스타</td>\n",
       "      <td>디멘션 아라드 여프리스트의 무기</td>\n",
       "      <td>조화가 무너진 기억</td>\n",
       "    </tr>\n",
       "  </tbody>\n",
       "</table>\n",
       "<p>81589 rows × 12 columns</p>\n",
       "</div>"
      ],
      "text/plain": [
       "      HEADGEAR__avatar_clone_itemName HAIR__avatar_clone_itemName  \\\n",
       "0                   던파스쿨 고양이 머리띠[A타입]        헤카테의 웨이브 롱 트윈테일[B타입]   \n",
       "1                   아라드 해변 리본 모자[C타입]      원탁의 기사 비비안의 골드 헤어[A타입]   \n",
       "2                     진 메카닉의 헤드폰[B타입]                 이니셜반다나[C타입]   \n",
       "3                        부러진 악마의 블랙 혼         올림푸스 제우스의 사자머리[C타입]   \n",
       "4                        레어 모자 클론 아바타         용의 전사 실버 웨이브헤어[D타입]   \n",
       "...                               ...                         ...   \n",
       "81584             진 스트라이커의 거친 후드[A타입]      진 스트라이커의 한쪽 넘김 단발[A타입]   \n",
       "81585            야생의 사파리 사모예드의 탈[A타입]                레어 머리 클론 아바타   \n",
       "81586               아사미야 아테나의 모자[E타입]           아사미야 아테나의 헤어[E타입]   \n",
       "81587             차원의 별자리 리본 베레모[E타입]     차원의 별자리 양갈래 웨이브 헤어[E타입]   \n",
       "81588                      황금상 대두 아바타         미카엘라의 고결한 머리카락[D타입]   \n",
       "\n",
       "      FACE__avatar_clone_itemName JACKET__avatar_clone_itemName  \\\n",
       "0                       여우분장[A타입]                     검은색 레이스셔츠   \n",
       "1           여명의 천신 술 장식 귀걸이와 눈 화장                  레이스 튜브탑[B타입]   \n",
       "2                     보호 마스크[B타입]          디스트로이어의 가죽장식 상의[D타입]   \n",
       "3                         광전사의 안광               아라드 해변의 타투[C타입]   \n",
       "4              성안의 미카엘라 경건하게 감은 눈      원탁의 기사 케이의 블랙 갑옷 상의[B타입]   \n",
       "...                           ...                           ...   \n",
       "81584           진 스트라이커의 반창고[A타입]        진 스트라이커의 봉황 무늬 도복[A타입]   \n",
       "81585                뉴트로 버츄얼 디바이스         야생의 사파리 사모예드의 슈트[A타입]   \n",
       "81586           아사미야 아테나의 얼굴[E타입]             아사미야 아테나의 상의[E타입]   \n",
       "81587                레어 얼굴 클론 아바타      차원의 별자리 별 장식 미니 원피스[E타입]   \n",
       "81588            고딕 스모키 메이크업[D타입]          새 학기 사파리 담비의 상의[A타입]   \n",
       "\n",
       "      PANTS__avatar_clone_itemName SHOES__avatar_clone_itemName  \\\n",
       "0                      검은색 물결무늬스커트                     검은색 통굽구두   \n",
       "1                      삼각 수영복[B타입]         해상 열차 바캉스 큐빅 발찌[A타입]   \n",
       "2                 엑스마키나의 카고바지[A타입]             엑스마키나의 가죽워커[A타입]   \n",
       "3                    검도 도복 하의[C타입]                           맨발   \n",
       "4                  신세이어의 숏 팬츠[A타입]               캐주얼룩 스니커즈[A타입]   \n",
       "...                            ...                          ...   \n",
       "81584          진 스트라이커의 박서 팬츠[A타입]          진 스트라이커의 발 보호대[A타입]   \n",
       "81585                 레어 하의 클론 아바타        야생의 사파리 사모예드의 슈즈[A타입]   \n",
       "81586            아사미야 아테나의 하의[E타입]            아사미야 아테나의 신발[E타입]   \n",
       "81587          차원의 별자리 보석 타이즈[E타입]        워터밤 페스타 빅 사이즈 발찌[A타입]   \n",
       "81588              신세이어의 숏 팬츠[A타입]         사뿐사뿐 청룡의 근두운 [여프리스트]   \n",
       "\n",
       "      BREAST__avatar_clone_itemName WAIST__avatar_clone_itemName  \\\n",
       "0                          짙푸른 리본타이                     흰색 레이스리본   \n",
       "1                     레어 목가슴 클론 아바타             서핑 아라드 투명 아바타 허리   \n",
       "2                      정비공 리모콘[A타입]           진 런처의 포켓 워 벨트[A타입]   \n",
       "3                     레어 목가슴 클론 아바타            헬벤터의 사자갈퀴 벨트[B타입]   \n",
       "4                     레어 목가슴 클론 아바타          워터밤 페스타 하트 페인팅[시크릿]   \n",
       "...                             ...                          ...   \n",
       "81584           진 스트라이커의 훈련 흔적[A타입]          진 스트라이커의 복싱 로프[A타입]   \n",
       "81585        새 학기 사파리 호랑이의 스카프[C타입]          킹덤 고양이의 고양이 꼬리[A타입]   \n",
       "81586              아사미야 아테나의 넥[E타입]            아사미야 아테나의 벨트[E타입]   \n",
       "81587           차원의 별자리 별빛 케이프[E타입]            차원의 별자리 빅 리본[E타입]   \n",
       "81588              진 미스트리스의 날개[D타입]                고딕 메쉬 리본[A타입]   \n",
       "\n",
       "      SKIN__avatar_clone_itemName AURORA__avatar_clone_itemName  \\\n",
       "0                          살굿빛 피부                       삼신기의 불꽃   \n",
       "1             워터밤 페스타 순백의 피부[D타입]                  아라드 로얄 패스 오라   \n",
       "2                블래스터 우윳빛 피부[D타입]                       삼신기의 불꽃   \n",
       "3                           백옥 피부                       삼신기의 불꽃   \n",
       "4               초원의 영혼 순백 피부[D타입]                       삼신기의 불꽃   \n",
       "...                           ...                           ...   \n",
       "81584             배틀슈트 잿빛 피부[A타입]                     어워즈 패셔니스타   \n",
       "81585           다크로드의 살굿빛 피부[D타입]                       삼신기의 불꽃   \n",
       "81586        진 인챈트리스의 살굿빛 피부[A타입]                     어워즈 패셔니스타   \n",
       "81587          헤드라이너의 상앗빛 피부[A타입]                  아라드 로얄 패스 오라   \n",
       "81588      아라드 패스 해군 제독의 여프리스트 피부                     어워즈 패셔니스타   \n",
       "\n",
       "      WEAPON__avatar_clone_itemName AURA_SKIN__avatar_clone_itemName  \n",
       "0                            포식의 욕망                         ★미쿠와 함께★  \n",
       "1                         엘프 여왕의 정령                        해방된 요기 오라  \n",
       "2                     던전앤파이터 클래식 캐논                         푸른빛 홀로그램  \n",
       "3                           명도 후구도쿠                           연옥의 불길  \n",
       "4                      이면 1활 삼뢰의 포진                       조화가 무너진 기억  \n",
       "...                             ...                              ...  \n",
       "81584                     무기 클론 아바타                              nan  \n",
       "81585            레어 무기 클론 아바타[70Lv]                       조화가 무너진 기억  \n",
       "81586                   샤이닝 크리스탈 비트                       조화가 무너진 기억  \n",
       "81587            레어 무기 클론 아바타[60Lv]                       조화가 무너진 기억  \n",
       "81588             디멘션 아라드 여프리스트의 무기                       조화가 무너진 기억  \n",
       "\n",
       "[81589 rows x 12 columns]"
      ]
     },
     "execution_count": 31,
     "metadata": {},
     "output_type": "execute_result"
    }
   ],
   "source": [
    "user_avatar_list= user_avatar_table[[part + '_clone_itemName' for part in parts] ]"
   ]
  },
  {
   "cell_type": "code",
   "execution_count": 32,
   "metadata": {},
   "outputs": [],
   "source": [
    "avatar_list = []\n",
    "for n, col in enumerate(user_avatar_list.columns):\n",
    "    avatar_list += list(user_avatar_list[col])"
   ]
  },
  {
   "cell_type": "code",
   "execution_count": null,
   "metadata": {},
   "outputs": [],
   "source": [
    "del user_avatar_list"
   ]
  },
  {
   "cell_type": "code",
   "execution_count": 33,
   "metadata": {},
   "outputs": [
    {
     "data": {
      "text/plain": [
       "979068"
      ]
     },
     "execution_count": 33,
     "metadata": {},
     "output_type": "execute_result"
    }
   ],
   "source": [
    "len(avatar_list)"
   ]
  },
  {
   "cell_type": "code",
   "execution_count": 34,
   "metadata": {},
   "outputs": [
    {
     "name": "stdout",
     "output_type": "stream",
     "text": [
      "37806\n"
     ]
    }
   ],
   "source": [
    "avatar_list = list(set(avatar_list))\n",
    "\n",
    "print(len(avatar_list)) # [1, 2, 3, 4, 5]"
   ]
  },
  {
   "cell_type": "code",
   "execution_count": 35,
   "metadata": {},
   "outputs": [
    {
     "name": "stdout",
     "output_type": "stream",
     "text": [
      "1\n"
     ]
    }
   ],
   "source": [
    "k=0\n",
    "for i in range(len(avatar_list)):\n",
    "    if avatar_list[i]=='nan':\n",
    "        k+=1\n",
    "print(k)"
   ]
  },
  {
   "cell_type": "code",
   "execution_count": 36,
   "metadata": {},
   "outputs": [],
   "source": [
    "avatar_list.remove('nan')"
   ]
  },
  {
   "cell_type": "code",
   "execution_count": 37,
   "metadata": {},
   "outputs": [
    {
     "data": {
      "text/plain": [
       "37805"
      ]
     },
     "execution_count": 37,
     "metadata": {},
     "output_type": "execute_result"
    }
   ],
   "source": [
    "len(avatar_list)"
   ]
  },
  {
   "cell_type": "markdown",
   "metadata": {},
   "source": [
    "# 아바타 정보 조회"
   ]
  },
  {
   "cell_type": "code",
   "execution_count": 2,
   "metadata": {},
   "outputs": [],
   "source": [
    "api_key = ''"
   ]
  },
  {
   "cell_type": "markdown",
   "metadata": {},
   "source": [
    "### 아이템 경매장 시세(거래내역) 검색"
   ]
  },
  {
   "cell_type": "code",
   "execution_count": 39,
   "metadata": {},
   "outputs": [],
   "source": [
    "def df_auction_sold(itemId='', itemName='', limit=100):\n",
    "    url = f'https://api.neople.co.kr/df/auction-sold'\n",
    "    params ={'apikey':api_key,\n",
    "             'limit':limit\n",
    "             }\n",
    "    if itemId != '':\n",
    "        params['itemId'] = itemId\n",
    "    if itemName != '':\n",
    "        params['itemName'] = itemName\n",
    "\n",
    "    return requests.get(url, params=params)"
   ]
  },
  {
   "cell_type": "markdown",
   "metadata": {},
   "source": [
    "### 아이템 상세정보 조회 API"
   ]
  },
  {
   "cell_type": "code",
   "execution_count": 40,
   "metadata": {},
   "outputs": [],
   "source": [
    "def df_items(itemId = ''):\n",
    "    url = f'https://api.neople.co.kr/df/items/{itemId}?apikey={api_key}'\n",
    "    return requests.get(url)"
   ]
  },
  {
   "cell_type": "markdown",
   "metadata": {},
   "source": [
    "### 아바타 거래내역 수집"
   ]
  },
  {
   "cell_type": "code",
   "execution_count": 41,
   "metadata": {},
   "outputs": [
    {
     "name": "stderr",
     "output_type": "stream",
     "text": [
      "  3%|▎         | 984/37805 [01:03<29:24, 20.86it/s]"
     ]
    },
    {
     "name": "stdout",
     "output_type": "stream",
     "text": [
      "1\n"
     ]
    },
    {
     "name": "stderr",
     "output_type": "stream",
     "text": [
      " 26%|██▌       | 9658/37805 [09:14<24:01, 19.52it/s]  "
     ]
    },
    {
     "name": "stdout",
     "output_type": "stream",
     "text": [
      "2\n"
     ]
    },
    {
     "name": "stderr",
     "output_type": "stream",
     "text": [
      " 27%|██▋       | 10119/37805 [10:04<24:44, 18.65it/s]  "
     ]
    },
    {
     "name": "stdout",
     "output_type": "stream",
     "text": [
      "3\n"
     ]
    },
    {
     "name": "stderr",
     "output_type": "stream",
     "text": [
      " 29%|██▉       | 11084/37805 [11:14<22:20, 19.93it/s]   "
     ]
    },
    {
     "name": "stdout",
     "output_type": "stream",
     "text": [
      "4\n"
     ]
    },
    {
     "name": "stderr",
     "output_type": "stream",
     "text": [
      " 32%|███▏      | 11913/37805 [12:24<20:49, 20.73it/s]   "
     ]
    },
    {
     "name": "stdout",
     "output_type": "stream",
     "text": [
      "5\n"
     ]
    },
    {
     "name": "stderr",
     "output_type": "stream",
     "text": [
      " 33%|███▎      | 12645/37805 [13:24<20:23, 20.56it/s]   "
     ]
    },
    {
     "name": "stdout",
     "output_type": "stream",
     "text": [
      "6\n"
     ]
    },
    {
     "name": "stderr",
     "output_type": "stream",
     "text": [
      " 39%|███▉      | 14817/37805 [15:44<18:56, 20.22it/s]   "
     ]
    },
    {
     "name": "stdout",
     "output_type": "stream",
     "text": [
      "7\n"
     ]
    },
    {
     "name": "stderr",
     "output_type": "stream",
     "text": [
      " 62%|██████▏   | 23527/37805 [23:34<12:08, 19.61it/s]   "
     ]
    },
    {
     "name": "stdout",
     "output_type": "stream",
     "text": [
      "8\n"
     ]
    },
    {
     "name": "stderr",
     "output_type": "stream",
     "text": [
      " 63%|██████▎   | 23982/37805 [24:25<11:35, 19.87it/s]   "
     ]
    },
    {
     "name": "stdout",
     "output_type": "stream",
     "text": [
      "9\n"
     ]
    },
    {
     "name": "stderr",
     "output_type": "stream",
     "text": [
      " 66%|██████▌   | 24919/37805 [25:45<10:46, 19.94it/s]   "
     ]
    },
    {
     "name": "stdout",
     "output_type": "stream",
     "text": [
      "10\n"
     ]
    },
    {
     "name": "stderr",
     "output_type": "stream",
     "text": [
      " 68%|██████▊   | 25745/37805 [26:55<09:26, 21.30it/s]   "
     ]
    },
    {
     "name": "stdout",
     "output_type": "stream",
     "text": [
      "11\n"
     ]
    },
    {
     "name": "stderr",
     "output_type": "stream",
     "text": [
      " 70%|███████   | 26476/37805 [27:55<09:33, 19.77it/s]   "
     ]
    },
    {
     "name": "stdout",
     "output_type": "stream",
     "text": [
      "12\n"
     ]
    },
    {
     "name": "stderr",
     "output_type": "stream",
     "text": [
      " 76%|███████▌  | 28682/37805 [30:15<12:57, 11.73it/s]  "
     ]
    },
    {
     "name": "stdout",
     "output_type": "stream",
     "text": [
      "13\n"
     ]
    },
    {
     "name": "stderr",
     "output_type": "stream",
     "text": [
      " 99%|█████████▉| 37355/37805 [38:05<00:21, 20.50it/s]  "
     ]
    },
    {
     "name": "stdout",
     "output_type": "stream",
     "text": [
      "14\n"
     ]
    },
    {
     "name": "stderr",
     "output_type": "stream",
     "text": [
      "100%|██████████| 37805/37805 [38:44<00:00, 16.26it/s]\n"
     ]
    }
   ],
   "source": [
    "import time\n",
    "\n",
    "k_api_key = ''\n",
    "s_api_key = ''\n",
    "apikey = k_api_key\n",
    "ch=0\n",
    "item_columns = ['soldDate','itemId','itemName','itemRarity','itemTypeDetail','count','price', 'unitPrice','setItemName', 'jobName']\n",
    "no_data = pd.DataFrame(['nan'] * len(item_columns)).T\n",
    "no_data.columns = item_columns\n",
    "df_list=[]\n",
    "for i in tqdm(range(len(avatar_list))):\n",
    "    \n",
    "    if avatar_list[i]=='nan':\n",
    "        continue\n",
    "    else:\n",
    "        try:\n",
    "            temp = df_auction_sold(itemName= avatar_list[i])           \n",
    "        except:\n",
    "            ch+=1\n",
    "            print(ch)\n",
    "            time.sleep(5)\n",
    "            if api_key==k_api_key:\n",
    "                    api_key = s_api_key\n",
    "            else:\n",
    "                api_key = k_api_key\n",
    "            temp = df_auction_sold(itemName= avatar_list[i])\n",
    "            \n",
    "        temp_df = pd.DataFrame(temp.json()['rows'] , columns=item_columns)\n",
    "        if temp_df.empty:\n",
    "                temp_df=no_data\n",
    "                temp_df.loc[0,'itemName']= avatar_list[i]\n",
    "        temp_df= temp_df[item_columns]\n",
    "        df_list.append(temp_df)\n",
    "        time.sleep(0.01)"
   ]
  },
  {
   "cell_type": "code",
   "execution_count": 44,
   "metadata": {},
   "outputs": [],
   "source": [
    "output = pd.concat(df_list)"
   ]
  },
  {
   "cell_type": "code",
   "execution_count": 53,
   "metadata": {},
   "outputs": [
    {
     "data": {
      "text/html": [
       "<div>\n",
       "<style scoped>\n",
       "    .dataframe tbody tr th:only-of-type {\n",
       "        vertical-align: middle;\n",
       "    }\n",
       "\n",
       "    .dataframe tbody tr th {\n",
       "        vertical-align: top;\n",
       "    }\n",
       "\n",
       "    .dataframe thead th {\n",
       "        text-align: right;\n",
       "    }\n",
       "</style>\n",
       "<table border=\"1\" class=\"dataframe\">\n",
       "  <thead>\n",
       "    <tr style=\"text-align: right;\">\n",
       "      <th></th>\n",
       "      <th>soldDate</th>\n",
       "      <th>itemId</th>\n",
       "      <th>itemName</th>\n",
       "      <th>itemRarity</th>\n",
       "      <th>itemTypeDetail</th>\n",
       "      <th>count</th>\n",
       "      <th>price</th>\n",
       "      <th>unitPrice</th>\n",
       "      <th>setItemName</th>\n",
       "      <th>jobName</th>\n",
       "    </tr>\n",
       "  </thead>\n",
       "  <tbody>\n",
       "    <tr>\n",
       "      <th>0</th>\n",
       "      <td>2024-04-12 23:06:59</td>\n",
       "      <td>0feb45c697a03abbe1b23b06c2e20261</td>\n",
       "      <td>염원의 귀걸이[B타입]</td>\n",
       "      <td>커먼</td>\n",
       "      <td>얼굴</td>\n",
       "      <td>1</td>\n",
       "      <td>1900000</td>\n",
       "      <td>1900000</td>\n",
       "      <td>상급 아바타 세트</td>\n",
       "      <td>귀검사(남)</td>\n",
       "    </tr>\n",
       "    <tr>\n",
       "      <th>0</th>\n",
       "      <td>2024-05-09 17:08:57</td>\n",
       "      <td>7d90d8da77b18a23979111305f90c4d4</td>\n",
       "      <td>셸미의 치마[A타입]</td>\n",
       "      <td>커먼</td>\n",
       "      <td>하의</td>\n",
       "      <td>1</td>\n",
       "      <td>1580000</td>\n",
       "      <td>1580000</td>\n",
       "      <td>DNF X SNK 아바타 세트</td>\n",
       "      <td>도적</td>\n",
       "    </tr>\n",
       "    <tr>\n",
       "      <th>1</th>\n",
       "      <td>2024-05-09 17:08:55</td>\n",
       "      <td>7d90d8da77b18a23979111305f90c4d4</td>\n",
       "      <td>셸미의 치마[A타입]</td>\n",
       "      <td>커먼</td>\n",
       "      <td>하의</td>\n",
       "      <td>1</td>\n",
       "      <td>1579998</td>\n",
       "      <td>1579998</td>\n",
       "      <td>DNF X SNK 아바타 세트</td>\n",
       "      <td>도적</td>\n",
       "    </tr>\n",
       "    <tr>\n",
       "      <th>2</th>\n",
       "      <td>2024-05-09 17:08:53</td>\n",
       "      <td>7d90d8da77b18a23979111305f90c4d4</td>\n",
       "      <td>셸미의 치마[A타입]</td>\n",
       "      <td>커먼</td>\n",
       "      <td>하의</td>\n",
       "      <td>1</td>\n",
       "      <td>1579998</td>\n",
       "      <td>1579998</td>\n",
       "      <td>DNF X SNK 아바타 세트</td>\n",
       "      <td>도적</td>\n",
       "    </tr>\n",
       "    <tr>\n",
       "      <th>3</th>\n",
       "      <td>2024-05-09 17:08:47</td>\n",
       "      <td>7d90d8da77b18a23979111305f90c4d4</td>\n",
       "      <td>셸미의 치마[A타입]</td>\n",
       "      <td>커먼</td>\n",
       "      <td>하의</td>\n",
       "      <td>1</td>\n",
       "      <td>1550000</td>\n",
       "      <td>1550000</td>\n",
       "      <td>DNF X SNK 아바타 세트</td>\n",
       "      <td>도적</td>\n",
       "    </tr>\n",
       "    <tr>\n",
       "      <th>...</th>\n",
       "      <td>...</td>\n",
       "      <td>...</td>\n",
       "      <td>...</td>\n",
       "      <td>...</td>\n",
       "      <td>...</td>\n",
       "      <td>...</td>\n",
       "      <td>...</td>\n",
       "      <td>...</td>\n",
       "      <td>...</td>\n",
       "      <td>...</td>\n",
       "    </tr>\n",
       "    <tr>\n",
       "      <th>2</th>\n",
       "      <td>2024-04-12 23:39:45</td>\n",
       "      <td>b7ef67ff43765b7c9de7fb60ffb3b255</td>\n",
       "      <td>마제스티 드래곤 팬츠[A타입]</td>\n",
       "      <td>레어</td>\n",
       "      <td>하의</td>\n",
       "      <td>1</td>\n",
       "      <td>10980000</td>\n",
       "      <td>10980000</td>\n",
       "      <td>레어 아바타 세트</td>\n",
       "      <td>격투가(남)</td>\n",
       "    </tr>\n",
       "    <tr>\n",
       "      <th>3</th>\n",
       "      <td>2024-04-12 23:19:17</td>\n",
       "      <td>b7ef67ff43765b7c9de7fb60ffb3b255</td>\n",
       "      <td>마제스티 드래곤 팬츠[A타입]</td>\n",
       "      <td>레어</td>\n",
       "      <td>하의</td>\n",
       "      <td>1</td>\n",
       "      <td>14900000</td>\n",
       "      <td>14900000</td>\n",
       "      <td>레어 아바타 세트</td>\n",
       "      <td>격투가(남)</td>\n",
       "    </tr>\n",
       "    <tr>\n",
       "      <th>4</th>\n",
       "      <td>2024-04-12 14:59:27</td>\n",
       "      <td>b7ef67ff43765b7c9de7fb60ffb3b255</td>\n",
       "      <td>마제스티 드래곤 팬츠[A타입]</td>\n",
       "      <td>레어</td>\n",
       "      <td>하의</td>\n",
       "      <td>1</td>\n",
       "      <td>12000000</td>\n",
       "      <td>12000000</td>\n",
       "      <td>레어 아바타 세트</td>\n",
       "      <td>격투가(남)</td>\n",
       "    </tr>\n",
       "    <tr>\n",
       "      <th>0</th>\n",
       "      <td>2024-05-01 00:32:31</td>\n",
       "      <td>0fe5f4d397e5914e1f2f6fd948bc560f</td>\n",
       "      <td>붕대감은 제복 코트[A타입]</td>\n",
       "      <td>커먼</td>\n",
       "      <td>상의</td>\n",
       "      <td>1</td>\n",
       "      <td>1490000</td>\n",
       "      <td>1490000</td>\n",
       "      <td>상급 아바타 세트</td>\n",
       "      <td>귀검사(남)</td>\n",
       "    </tr>\n",
       "    <tr>\n",
       "      <th>1</th>\n",
       "      <td>2024-04-28 05:30:18</td>\n",
       "      <td>0fe5f4d397e5914e1f2f6fd948bc560f</td>\n",
       "      <td>붕대감은 제복 코트[A타입]</td>\n",
       "      <td>커먼</td>\n",
       "      <td>상의</td>\n",
       "      <td>1</td>\n",
       "      <td>1490000</td>\n",
       "      <td>1490000</td>\n",
       "      <td>상급 아바타 세트</td>\n",
       "      <td>귀검사(남)</td>\n",
       "    </tr>\n",
       "  </tbody>\n",
       "</table>\n",
       "<p>242230 rows × 10 columns</p>\n",
       "</div>"
      ],
      "text/plain": [
       "               soldDate                            itemId          itemName  \\\n",
       "0   2024-04-12 23:06:59  0feb45c697a03abbe1b23b06c2e20261      염원의 귀걸이[B타입]   \n",
       "0   2024-05-09 17:08:57  7d90d8da77b18a23979111305f90c4d4       셸미의 치마[A타입]   \n",
       "1   2024-05-09 17:08:55  7d90d8da77b18a23979111305f90c4d4       셸미의 치마[A타입]   \n",
       "2   2024-05-09 17:08:53  7d90d8da77b18a23979111305f90c4d4       셸미의 치마[A타입]   \n",
       "3   2024-05-09 17:08:47  7d90d8da77b18a23979111305f90c4d4       셸미의 치마[A타입]   \n",
       "..                  ...                               ...               ...   \n",
       "2   2024-04-12 23:39:45  b7ef67ff43765b7c9de7fb60ffb3b255  마제스티 드래곤 팬츠[A타입]   \n",
       "3   2024-04-12 23:19:17  b7ef67ff43765b7c9de7fb60ffb3b255  마제스티 드래곤 팬츠[A타입]   \n",
       "4   2024-04-12 14:59:27  b7ef67ff43765b7c9de7fb60ffb3b255  마제스티 드래곤 팬츠[A타입]   \n",
       "0   2024-05-01 00:32:31  0fe5f4d397e5914e1f2f6fd948bc560f   붕대감은 제복 코트[A타입]   \n",
       "1   2024-04-28 05:30:18  0fe5f4d397e5914e1f2f6fd948bc560f   붕대감은 제복 코트[A타입]   \n",
       "\n",
       "   itemRarity itemTypeDetail count     price unitPrice       setItemName  \\\n",
       "0          커먼             얼굴     1   1900000   1900000         상급 아바타 세트   \n",
       "0          커먼             하의     1   1580000   1580000  DNF X SNK 아바타 세트   \n",
       "1          커먼             하의     1   1579998   1579998  DNF X SNK 아바타 세트   \n",
       "2          커먼             하의     1   1579998   1579998  DNF X SNK 아바타 세트   \n",
       "3          커먼             하의     1   1550000   1550000  DNF X SNK 아바타 세트   \n",
       "..        ...            ...   ...       ...       ...               ...   \n",
       "2          레어             하의     1  10980000  10980000         레어 아바타 세트   \n",
       "3          레어             하의     1  14900000  14900000         레어 아바타 세트   \n",
       "4          레어             하의     1  12000000  12000000         레어 아바타 세트   \n",
       "0          커먼             상의     1   1490000   1490000         상급 아바타 세트   \n",
       "1          커먼             상의     1   1490000   1490000         상급 아바타 세트   \n",
       "\n",
       "   jobName  \n",
       "0   귀검사(남)  \n",
       "0       도적  \n",
       "1       도적  \n",
       "2       도적  \n",
       "3       도적  \n",
       "..     ...  \n",
       "2   격투가(남)  \n",
       "3   격투가(남)  \n",
       "4   격투가(남)  \n",
       "0   귀검사(남)  \n",
       "1   귀검사(남)  \n",
       "\n",
       "[242230 rows x 10 columns]"
      ]
     },
     "execution_count": 53,
     "metadata": {},
     "output_type": "execute_result"
    }
   ],
   "source": [
    "output"
   ]
  },
  {
   "cell_type": "code",
   "execution_count": 46,
   "metadata": {},
   "outputs": [],
   "source": [
    "output.to_csv('avatar_transaction.csv', encoding=\"utf-8-sig\")"
   ]
  },
  {
   "cell_type": "code",
   "execution_count": 54,
   "metadata": {},
   "outputs": [],
   "source": [
    "del output"
   ]
  },
  {
   "cell_type": "code",
   "execution_count": 51,
   "metadata": {},
   "outputs": [],
   "source": [
    "del df_list"
   ]
  },
  {
   "cell_type": "markdown",
   "metadata": {},
   "source": [
    "# 아바타 데이터 직업별로 나누기"
   ]
  },
  {
   "cell_type": "markdown",
   "metadata": {},
   "source": [
    "###### 직업 목록 호출 API"
   ]
  },
  {
   "cell_type": "code",
   "execution_count": 3,
   "metadata": {},
   "outputs": [],
   "source": [
    "def df_jobs():\n",
    "    url = f'https://api.neople.co.kr/df/jobs?apikey={api_key}'\n",
    "    return requests.get(url)"
   ]
  },
  {
   "cell_type": "markdown",
   "metadata": {},
   "source": [
    "API로 직업 리스트 받기"
   ]
  },
  {
   "cell_type": "code",
   "execution_count": 6,
   "metadata": {},
   "outputs": [
    {
     "data": {
      "text/plain": [
       "['귀검사(남)',\n",
       " '격투가(여)',\n",
       " '거너(남)',\n",
       " '마법사(여)',\n",
       " '프리스트(남)',\n",
       " '거너(여)',\n",
       " '도적',\n",
       " '격투가(남)',\n",
       " '마법사(남)',\n",
       " '다크나이트',\n",
       " '크리에이터',\n",
       " '귀검사(여)',\n",
       " '나이트',\n",
       " '마창사',\n",
       " '프리스트(여)',\n",
       " '총검사',\n",
       " '아처']"
      ]
     },
     "execution_count": 6,
     "metadata": {},
     "output_type": "execute_result"
    }
   ],
   "source": [
    "joblist=[]\n",
    "temp = df_jobs()\n",
    "for i in range(len(temp.json()['rows'])):\n",
    "    joblist.append(temp.json()['rows'][i]['jobName'])\n",
    "joblist"
   ]
  },
  {
   "cell_type": "code",
   "execution_count": null,
   "metadata": {},
   "outputs": [],
   "source": [
    "# joblist = ['GunnerM',\n",
    "#  'GunnerW',\n",
    "#  'FighterM',\n",
    "#  'FighterW',\n",
    "#  'GhostknightM',\n",
    "#  'GhostknightW',\n",
    "#  'Knight',\n",
    "#  'Darkknight',\n",
    "#  'Thief',\n",
    "#  'MageM',\n",
    "#  'MageW',\n",
    "#  'Demoniclancer',\n",
    "#  'Archer',\n",
    "#  'Gunblader',\n",
    "#  'Creator',\n",
    "#  'PriestM',\n",
    "#  'PriestW']"
   ]
  },
  {
   "cell_type": "markdown",
   "metadata": {},
   "source": [
    "###### 아바타 직업별 분류 함수"
   ]
  },
  {
   "cell_type": "code",
   "execution_count": 7,
   "metadata": {},
   "outputs": [],
   "source": [
    "def table_classify_jobName(avatar_table):\n",
    "    job_clasify_avatar_df_dict={}\n",
    "    global joblist\n",
    "\n",
    "    for job in joblist:\n",
    "        temp_df = avatar_table[avatar_table['jobName']==job]\n",
    "        job_clasify_avatar_df_dict[job] = temp_df\n",
    "    #job_clasify_avatar_df_dict['귀검사(남)']\n",
    "    return job_clasify_avatar_df_dict"
   ]
  },
  {
   "cell_type": "code",
   "execution_count": null,
   "metadata": {},
   "outputs": [],
   "source": [
    "# GunnerM = df[df['jobName']=='거너(남)']\n",
    "# GunnerW = df[df['jobName']=='거너(여)']\n",
    "# FighterM = df[df['jobName']=='격투가(남)']\n",
    "# FighterW = df[df['jobName']=='격투가(여)']\n",
    "# GhostknightM = df[df['jobName']=='귀검사(남)']\n",
    "# GhostknightW = df[df['jobName']=='귀검사(여)']\n",
    "# Knight = df[df['jobName']=='나이트']\n",
    "# Darkknight = df[df['jobName']=='다크나이트']\n",
    "# Thief = df[df['jobName']=='도적']\n",
    "# MageM = df[df['jobName']=='마법사(남)']\n",
    "# MageW = df[df['jobName']=='마법사(여)']\n",
    "# Demoniclancer = df[df['jobName']=='마창사']\n",
    "# Archer = df[df['jobName']=='아처']\n",
    "# Gunblader = df[df['jobName']=='총검사']\n",
    "# Creator = df[df['jobName']=='크리에이터']\n",
    "# PriestM = df[df['jobName']=='프리스트(남)']\n",
    "# PriestW = df[df['jobName']=='프리스트(여)']"
   ]
  },
  {
   "cell_type": "markdown",
   "metadata": {},
   "source": [
    "# EDA"
   ]
  },
  {
   "cell_type": "markdown",
   "metadata": {},
   "source": [
    "### 유저 착용 아바타 데이터  EDA"
   ]
  },
  {
   "cell_type": "code",
   "execution_count": null,
   "metadata": {},
   "outputs": [],
   "source": []
  },
  {
   "cell_type": "markdown",
   "metadata": {},
   "source": [
    "### 경매장 아바타 EDA"
   ]
  },
  {
   "cell_type": "code",
   "execution_count": 9,
   "metadata": {},
   "outputs": [],
   "source": [
    "auction_avatar_table = pd.read_csv('avatar_transaction.csv')"
   ]
  },
  {
   "cell_type": "code",
   "execution_count": 10,
   "metadata": {},
   "outputs": [
    {
     "data": {
      "text/plain": [
       "Index(['soldDate', 'itemId', 'itemName', 'itemRarity', 'itemTypeDetail',\n",
       "       'count', 'price', 'unitPrice', 'setItemName', 'jobName'],\n",
       "      dtype='object')"
      ]
     },
     "execution_count": 10,
     "metadata": {},
     "output_type": "execute_result"
    }
   ],
   "source": [
    "auction_avatar_table = auction_avatar_table.drop('Unnamed: 0', axis=1)\n",
    "auction_avatar_table.columns"
   ]
  },
  {
   "cell_type": "code",
   "execution_count": 142,
   "metadata": {},
   "outputs": [
    {
     "data": {
      "text/html": [
       "<div>\n",
       "<style scoped>\n",
       "    .dataframe tbody tr th:only-of-type {\n",
       "        vertical-align: middle;\n",
       "    }\n",
       "\n",
       "    .dataframe tbody tr th {\n",
       "        vertical-align: top;\n",
       "    }\n",
       "\n",
       "    .dataframe thead th {\n",
       "        text-align: right;\n",
       "    }\n",
       "</style>\n",
       "<table border=\"1\" class=\"dataframe\">\n",
       "  <thead>\n",
       "    <tr style=\"text-align: right;\">\n",
       "      <th></th>\n",
       "      <th>soldDate</th>\n",
       "      <th>itemId</th>\n",
       "      <th>itemName</th>\n",
       "      <th>itemRarity</th>\n",
       "      <th>itemTypeDetail</th>\n",
       "      <th>count</th>\n",
       "      <th>price</th>\n",
       "      <th>unitPrice</th>\n",
       "      <th>setItemName</th>\n",
       "      <th>jobName</th>\n",
       "    </tr>\n",
       "  </thead>\n",
       "  <tbody>\n",
       "    <tr>\n",
       "      <th>0</th>\n",
       "      <td>2024-04-12 23:06:59</td>\n",
       "      <td>0feb45c697a03abbe1b23b06c2e20261</td>\n",
       "      <td>염원의 귀걸이[B타입]</td>\n",
       "      <td>커먼</td>\n",
       "      <td>얼굴</td>\n",
       "      <td>1</td>\n",
       "      <td>1900000</td>\n",
       "      <td>1900000</td>\n",
       "      <td>상급 아바타 세트</td>\n",
       "      <td>귀검사(남)</td>\n",
       "    </tr>\n",
       "    <tr>\n",
       "      <th>1</th>\n",
       "      <td>2024-05-09 17:08:57</td>\n",
       "      <td>7d90d8da77b18a23979111305f90c4d4</td>\n",
       "      <td>셸미의 치마[A타입]</td>\n",
       "      <td>커먼</td>\n",
       "      <td>하의</td>\n",
       "      <td>1</td>\n",
       "      <td>1580000</td>\n",
       "      <td>1580000</td>\n",
       "      <td>DNF X SNK 아바타 세트</td>\n",
       "      <td>도적</td>\n",
       "    </tr>\n",
       "  </tbody>\n",
       "</table>\n",
       "</div>"
      ],
      "text/plain": [
       "              soldDate                            itemId      itemName  \\\n",
       "0  2024-04-12 23:06:59  0feb45c697a03abbe1b23b06c2e20261  염원의 귀걸이[B타입]   \n",
       "1  2024-05-09 17:08:57  7d90d8da77b18a23979111305f90c4d4   셸미의 치마[A타입]   \n",
       "\n",
       "  itemRarity itemTypeDetail count    price unitPrice       setItemName jobName  \n",
       "0         커먼             얼굴     1  1900000   1900000         상급 아바타 세트  귀검사(남)  \n",
       "1         커먼             하의     1  1580000   1580000  DNF X SNK 아바타 세트      도적  "
      ]
     },
     "execution_count": 142,
     "metadata": {},
     "output_type": "execute_result"
    }
   ],
   "source": [
    "auction_avatar_table.head(2)"
   ]
  },
  {
   "cell_type": "code",
   "execution_count": 11,
   "metadata": {},
   "outputs": [],
   "source": [
    "str_col = ['soldDate', 'itemId', 'itemName', 'itemRarity', 'itemTypeDetail', 'setItemName', 'jobName']\n",
    "int_col = ['count', 'price', 'unitPrice']"
   ]
  },
  {
   "cell_type": "code",
   "execution_count": 12,
   "metadata": {},
   "outputs": [],
   "source": [
    "auction_avatar_table[str_col] = auction_avatar_table[str_col].fillna('nan').astype('str')\n",
    "auction_avatar_table[int_col] = auction_avatar_table[int_col].fillna(-1).astype('int').replace({-1: None})"
   ]
  },
  {
   "cell_type": "markdown",
   "metadata": {},
   "source": [
    "경매장에서 거래되지 않은 아바타 확인(ex: 거래불가 or 1개월 이내 거래 없음)"
   ]
  },
  {
   "cell_type": "code",
   "execution_count": 13,
   "metadata": {},
   "outputs": [],
   "source": [
    "nosale_list = []\n",
    "for i in range(len(auction_avatar_table)):\n",
    "    if auction_avatar_table.loc[i,'soldDate'] =='nan':\n",
    "        nosale_list.append(i)"
   ]
  },
  {
   "cell_type": "code",
   "execution_count": 14,
   "metadata": {},
   "outputs": [
    {
     "data": {
      "text/plain": [
       "15768"
      ]
     },
     "execution_count": 14,
     "metadata": {},
     "output_type": "execute_result"
    }
   ],
   "source": [
    "len(nosale_list)"
   ]
  },
  {
   "cell_type": "markdown",
   "metadata": {},
   "source": [
    "경매장에서 한달간 거래되지 않은 유저 아바타 목록"
   ]
  },
  {
   "cell_type": "code",
   "execution_count": null,
   "metadata": {},
   "outputs": [],
   "source": [
    "user_avatar_table.columns"
   ]
  },
  {
   "cell_type": "code",
   "execution_count": null,
   "metadata": {},
   "outputs": [],
   "source": [
    "['soldDate', 'count', 'price','unitPrice']"
   ]
  },
  {
   "cell_type": "code",
   "execution_count": null,
   "metadata": {},
   "outputs": [],
   "source": [
    "auction_avatar_table.iloc[nosale_list,:]"
   ]
  },
  {
   "cell_type": "markdown",
   "metadata": {},
   "source": [
    "경매장에서 한달 간 거래된 아바타 목록"
   ]
  },
  {
   "cell_type": "code",
   "execution_count": 143,
   "metadata": {},
   "outputs": [
    {
     "data": {
      "text/html": [
       "<div>\n",
       "<style scoped>\n",
       "    .dataframe tbody tr th:only-of-type {\n",
       "        vertical-align: middle;\n",
       "    }\n",
       "\n",
       "    .dataframe tbody tr th {\n",
       "        vertical-align: top;\n",
       "    }\n",
       "\n",
       "    .dataframe thead th {\n",
       "        text-align: right;\n",
       "    }\n",
       "</style>\n",
       "<table border=\"1\" class=\"dataframe\">\n",
       "  <thead>\n",
       "    <tr style=\"text-align: right;\">\n",
       "      <th></th>\n",
       "      <th>soldDate</th>\n",
       "      <th>itemId</th>\n",
       "      <th>itemName</th>\n",
       "      <th>itemRarity</th>\n",
       "      <th>itemTypeDetail</th>\n",
       "      <th>count</th>\n",
       "      <th>price</th>\n",
       "      <th>unitPrice</th>\n",
       "      <th>setItemName</th>\n",
       "      <th>jobName</th>\n",
       "    </tr>\n",
       "  </thead>\n",
       "  <tbody>\n",
       "    <tr>\n",
       "      <th>0</th>\n",
       "      <td>2024-04-12 23:06:59</td>\n",
       "      <td>0feb45c697a03abbe1b23b06c2e20261</td>\n",
       "      <td>염원의 귀걸이[B타입]</td>\n",
       "      <td>커먼</td>\n",
       "      <td>얼굴</td>\n",
       "      <td>1</td>\n",
       "      <td>1900000</td>\n",
       "      <td>1900000</td>\n",
       "      <td>상급 아바타 세트</td>\n",
       "      <td>귀검사(남)</td>\n",
       "    </tr>\n",
       "    <tr>\n",
       "      <th>1</th>\n",
       "      <td>2024-05-09 17:08:57</td>\n",
       "      <td>7d90d8da77b18a23979111305f90c4d4</td>\n",
       "      <td>셸미의 치마[A타입]</td>\n",
       "      <td>커먼</td>\n",
       "      <td>하의</td>\n",
       "      <td>1</td>\n",
       "      <td>1580000</td>\n",
       "      <td>1580000</td>\n",
       "      <td>DNF X SNK 아바타 세트</td>\n",
       "      <td>도적</td>\n",
       "    </tr>\n",
       "  </tbody>\n",
       "</table>\n",
       "</div>"
      ],
      "text/plain": [
       "              soldDate                            itemId      itemName  \\\n",
       "0  2024-04-12 23:06:59  0feb45c697a03abbe1b23b06c2e20261  염원의 귀걸이[B타입]   \n",
       "1  2024-05-09 17:08:57  7d90d8da77b18a23979111305f90c4d4   셸미의 치마[A타입]   \n",
       "\n",
       "  itemRarity itemTypeDetail count    price unitPrice       setItemName jobName  \n",
       "0         커먼             얼굴     1  1900000   1900000         상급 아바타 세트  귀검사(남)  \n",
       "1         커먼             하의     1  1580000   1580000  DNF X SNK 아바타 세트      도적  "
      ]
     },
     "execution_count": 143,
     "metadata": {},
     "output_type": "execute_result"
    }
   ],
   "source": [
    "auction_avatar_table.drop(nosale_list, axis=0).head(2)"
   ]
  },
  {
   "cell_type": "markdown",
   "metadata": {},
   "source": [
    "한달간 직업별 경매장에서 아바타 구매 건수(100건 이상 품목은 정확히 파악 불가)"
   ]
  },
  {
   "cell_type": "code",
   "execution_count": 133,
   "metadata": {},
   "outputs": [
    {
     "data": {
      "text/plain": [
       "jobName\n",
       "귀검사(여)     35802\n",
       "아처         28528\n",
       "나이트        24670\n",
       "마법사(여)     22042\n",
       "귀검사(남)     19235\n",
       "프리스트(여)    15634\n",
       "도적         13150\n",
       "격투가(여)     12577\n",
       "격투가(남)     11941\n",
       "거너(남)      11521\n",
       "거너(여)       9493\n",
       "프리스트(남)     7431\n",
       "마창사         5033\n",
       "마법사(남)      4978\n",
       "총검사         4372\n",
       "nan           55\n",
       "Name: count, dtype: int64"
      ]
     },
     "execution_count": 133,
     "metadata": {},
     "output_type": "execute_result"
    }
   ],
   "source": [
    "temp =auction_avatar_table.drop(nosale_list, axis=0)['jobName'].value_counts()\n",
    "temp"
   ]
  },
  {
   "cell_type": "code",
   "execution_count": 134,
   "metadata": {},
   "outputs": [
    {
     "data": {
      "image/png": "[encoded data removed]",
      "text/plain": [
       "<Figure size 1200x400 with 1 Axes>"
      ]
     },
     "metadata": {},
     "output_type": "display_data"
    }
   ],
   "source": [
    "plt.figure(figsize=(12,4))\n",
    "# plt.bar(jobdf.index, jobdf.values)\n",
    "sns.barplot(data=temp, color = 'teal', alpha = 0.4)\n",
    "plt.rcParams['font.family'] ='Malgun Gothic'\n",
    "plt.rcParams['axes.unicode_minus'] =False\n",
    "plt.xticks(rotation=30)\n",
    "plt.show()"
   ]
  },
  {
   "cell_type": "markdown",
   "metadata": {},
   "source": [
    "직업, 부위별 아바타 경매장 건수"
   ]
  },
  {
   "cell_type": "code",
   "execution_count": 144,
   "metadata": {},
   "outputs": [
    {
     "data": {
      "text/plain": [
       "itemTypeDetail\n",
       "상의       41330\n",
       "하의       32103\n",
       "머리       29506\n",
       "신발       23090\n",
       "모자       22703\n",
       "스킨       21792\n",
       "얼굴       21170\n",
       "목가슴      18031\n",
       "허리       16082\n",
       "무기아바타      600\n",
       "부스터         48\n",
       "창            4\n",
       "목걸이          2\n",
       "너클           1\n",
       "Name: count, dtype: int64"
      ]
     },
     "execution_count": 144,
     "metadata": {},
     "output_type": "execute_result"
    }
   ],
   "source": [
    "auction_avatar_table.drop(nosale_list, axis=0)['itemTypeDetail'].value_counts()"
   ]
  },
  {
   "cell_type": "markdown",
   "metadata": {},
   "source": [
    "경매장에서 한달 내 거래건수가 100건 이상인 아바타가 가장 많은 직업"
   ]
  },
  {
   "cell_type": "code",
   "execution_count": 140,
   "metadata": {},
   "outputs": [],
   "source": [
    "auction_sold_dict = table_classify_jobName(auction_avatar_table.drop(nosale_list, axis=0))\n",
    "temp ={}\n",
    "for job in joblist:\n",
    "    c=0\n",
    "    for x,y in enumerate(auction_sold_dict[job]['itemName'].value_counts()>=100):\n",
    "        if y:\n",
    "            c+=1\n",
    "    if job in ['다크나이트', '크리에이터']:\n",
    "        continue\n",
    "    temp[job]=c"
   ]
  },
  {
   "cell_type": "code",
   "execution_count": 141,
   "metadata": {},
   "outputs": [
    {
     "data": {
      "image/png": "[encoded data removed]",
      "text/plain": [
       "<Figure size 1200x400 with 1 Axes>"
      ]
     },
     "metadata": {},
     "output_type": "display_data"
    }
   ],
   "source": [
    "plt.figure(figsize=(12,4))\n",
    "# plt.bar(jobdf.index, jobdf.values)\n",
    "sns.barplot(data=temp, color = 'teal', alpha = 0.4)\n",
    "plt.rcParams['font.family'] ='Malgun Gothic'\n",
    "plt.rcParams['axes.unicode_minus'] =False\n",
    "plt.xticks(rotation=30)\n",
    "plt.show()"
   ]
  },
  {
   "cell_type": "markdown",
   "metadata": {},
   "source": [
    "5월 9일 오후 기준 SNK 콜라보 아바타 100번째 전 거래가 가장 오래된, 가장 가까운 직업"
   ]
  },
  {
   "cell_type": "code",
   "execution_count": null,
   "metadata": {},
   "outputs": [],
   "source": []
  },
  {
   "cell_type": "markdown",
   "metadata": {},
   "source": [
    "경매장에서 한달 간 거래된 직업별 아바타 목록"
   ]
  },
  {
   "cell_type": "code",
   "execution_count": 122,
   "metadata": {},
   "outputs": [],
   "source": [
    "auction_sold_dict = table_classify_jobName(auction_avatar_table.drop(nosale_list, axis=0))\n",
    "temp = auction_sold_dict['나이트']['itemName'].value_counts()"
   ]
  },
  {
   "cell_type": "code",
   "execution_count": 123,
   "metadata": {},
   "outputs": [
    {
     "data": {
      "text/plain": [
       "1700"
      ]
     },
     "execution_count": 123,
     "metadata": {},
     "output_type": "execute_result"
    }
   ],
   "source": [
    "len(temp)"
   ]
  },
  {
   "cell_type": "code",
   "execution_count": 124,
   "metadata": {},
   "outputs": [
    {
     "data": {
      "image/png": "[encoded data removed]",
      "text/plain": [
       "<Figure size 1200x400 with 1 Axes>"
      ]
     },
     "metadata": {},
     "output_type": "display_data"
    }
   ],
   "source": [
    "plt.figure(figsize=(12,4))\n",
    "# plt.bar(jobdf.index, jobdf.values)\n",
    "sns.barplot(data=temp, color = 'teal', alpha = 0.4)\n",
    "plt.rcParams['font.family'] ='Malgun Gothic'\n",
    "plt.rcParams['axes.unicode_minus'] =False\n",
    "plt.xticks(rotation=30)\n",
    "plt.show()"
   ]
  },
  {
   "cell_type": "code",
   "execution_count": null,
   "metadata": {},
   "outputs": [],
   "source": [
    "for x,y in enumerate(auction_sold_dict['귀검사(여)']['itemName'].value_counts()):\n",
    "    if y <100:\n",
    "        print()"
   ]
  },
  {
   "cell_type": "code",
   "execution_count": 116,
   "metadata": {},
   "outputs": [
    {
     "data": {
      "text/plain": [
       "soldDate\n",
       "2024-04-29 22:16:03    3\n",
       "2024-05-02 23:17:30    3\n",
       "2024-05-09 15:56:44    3\n",
       "2024-04-25 12:29:00    3\n",
       "2024-05-08 22:35:59    3\n",
       "                      ..\n",
       "2024-04-09 21:24:45    1\n",
       "2024-04-09 22:11:53    1\n",
       "2024-04-10 00:46:25    1\n",
       "2024-04-10 11:14:31    1\n",
       "2024-04-11 00:28:27    1\n",
       "Name: count, Length: 35408, dtype: int64"
      ]
     },
     "execution_count": 116,
     "metadata": {},
     "output_type": "execute_result"
    }
   ],
   "source": [
    "auction_sold_dict['귀검사(여)']['soldDate'].value_counts()"
   ]
  },
  {
   "cell_type": "markdown",
   "metadata": {},
   "source": [
    "경매장에서 한달 간 거래된 귀검사(남) 아바타 목록"
   ]
  },
  {
   "cell_type": "code",
   "execution_count": 94,
   "metadata": {},
   "outputs": [
    {
     "data": {
      "text/html": [
       "<div>\n",
       "<style scoped>\n",
       "    .dataframe tbody tr th:only-of-type {\n",
       "        vertical-align: middle;\n",
       "    }\n",
       "\n",
       "    .dataframe tbody tr th {\n",
       "        vertical-align: top;\n",
       "    }\n",
       "\n",
       "    .dataframe thead th {\n",
       "        text-align: right;\n",
       "    }\n",
       "</style>\n",
       "<table border=\"1\" class=\"dataframe\">\n",
       "  <thead>\n",
       "    <tr style=\"text-align: right;\">\n",
       "      <th></th>\n",
       "      <th>soldDate</th>\n",
       "      <th>itemId</th>\n",
       "      <th>itemName</th>\n",
       "      <th>itemRarity</th>\n",
       "      <th>itemTypeDetail</th>\n",
       "      <th>count</th>\n",
       "      <th>price</th>\n",
       "      <th>unitPrice</th>\n",
       "      <th>setItemName</th>\n",
       "      <th>jobName</th>\n",
       "    </tr>\n",
       "  </thead>\n",
       "  <tbody>\n",
       "    <tr>\n",
       "      <th>0</th>\n",
       "      <td>2024-04-12 23:06:59</td>\n",
       "      <td>0feb45c697a03abbe1b23b06c2e20261</td>\n",
       "      <td>염원의 귀걸이[B타입]</td>\n",
       "      <td>커먼</td>\n",
       "      <td>얼굴</td>\n",
       "      <td>1</td>\n",
       "      <td>1900000</td>\n",
       "      <td>1900000</td>\n",
       "      <td>상급 아바타 세트</td>\n",
       "      <td>귀검사(남)</td>\n",
       "    </tr>\n",
       "    <tr>\n",
       "      <th>109</th>\n",
       "      <td>2024-05-08 14:18:16</td>\n",
       "      <td>a3128b03bc453f671c7e253ccf856ee3</td>\n",
       "      <td>여명의 천신 비단 부츠</td>\n",
       "      <td>레어</td>\n",
       "      <td>신발</td>\n",
       "      <td>1</td>\n",
       "      <td>3390000</td>\n",
       "      <td>3390000</td>\n",
       "      <td>레어 아바타 세트</td>\n",
       "      <td>귀검사(남)</td>\n",
       "    </tr>\n",
       "    <tr>\n",
       "      <th>110</th>\n",
       "      <td>2024-05-05 22:13:19</td>\n",
       "      <td>a3128b03bc453f671c7e253ccf856ee3</td>\n",
       "      <td>여명의 천신 비단 부츠</td>\n",
       "      <td>레어</td>\n",
       "      <td>신발</td>\n",
       "      <td>1</td>\n",
       "      <td>3620000</td>\n",
       "      <td>3620000</td>\n",
       "      <td>레어 아바타 세트</td>\n",
       "      <td>귀검사(남)</td>\n",
       "    </tr>\n",
       "    <tr>\n",
       "      <th>111</th>\n",
       "      <td>2024-05-05 21:58:33</td>\n",
       "      <td>a3128b03bc453f671c7e253ccf856ee3</td>\n",
       "      <td>여명의 천신 비단 부츠</td>\n",
       "      <td>레어</td>\n",
       "      <td>신발</td>\n",
       "      <td>1</td>\n",
       "      <td>3600000</td>\n",
       "      <td>3600000</td>\n",
       "      <td>레어 아바타 세트</td>\n",
       "      <td>귀검사(남)</td>\n",
       "    </tr>\n",
       "    <tr>\n",
       "      <th>112</th>\n",
       "      <td>2024-04-27 10:26:08</td>\n",
       "      <td>a3128b03bc453f671c7e253ccf856ee3</td>\n",
       "      <td>여명의 천신 비단 부츠</td>\n",
       "      <td>레어</td>\n",
       "      <td>신발</td>\n",
       "      <td>1</td>\n",
       "      <td>4123232</td>\n",
       "      <td>4123232</td>\n",
       "      <td>레어 아바타 세트</td>\n",
       "      <td>귀검사(남)</td>\n",
       "    </tr>\n",
       "    <tr>\n",
       "      <th>...</th>\n",
       "      <td>...</td>\n",
       "      <td>...</td>\n",
       "      <td>...</td>\n",
       "      <td>...</td>\n",
       "      <td>...</td>\n",
       "      <td>...</td>\n",
       "      <td>...</td>\n",
       "      <td>...</td>\n",
       "      <td>...</td>\n",
       "      <td>...</td>\n",
       "    </tr>\n",
       "    <tr>\n",
       "      <th>242172</th>\n",
       "      <td>2024-04-28 08:49:02</td>\n",
       "      <td>5f7e6ec0113a717628ba3abb8a1f4683</td>\n",
       "      <td>골드 셀레스티얼 페더 스폴더</td>\n",
       "      <td>레어</td>\n",
       "      <td>목가슴</td>\n",
       "      <td>1</td>\n",
       "      <td>7340000</td>\n",
       "      <td>7340000</td>\n",
       "      <td>레어 아바타 세트</td>\n",
       "      <td>귀검사(남)</td>\n",
       "    </tr>\n",
       "    <tr>\n",
       "      <th>242173</th>\n",
       "      <td>2024-04-11 22:46:11</td>\n",
       "      <td>5f7e6ec0113a717628ba3abb8a1f4683</td>\n",
       "      <td>골드 셀레스티얼 페더 스폴더</td>\n",
       "      <td>레어</td>\n",
       "      <td>목가슴</td>\n",
       "      <td>1</td>\n",
       "      <td>6500000</td>\n",
       "      <td>6500000</td>\n",
       "      <td>레어 아바타 세트</td>\n",
       "      <td>귀검사(남)</td>\n",
       "    </tr>\n",
       "    <tr>\n",
       "      <th>242174</th>\n",
       "      <td>2024-04-10 15:54:46</td>\n",
       "      <td>5f7e6ec0113a717628ba3abb8a1f4683</td>\n",
       "      <td>골드 셀레스티얼 페더 스폴더</td>\n",
       "      <td>레어</td>\n",
       "      <td>목가슴</td>\n",
       "      <td>1</td>\n",
       "      <td>4899000</td>\n",
       "      <td>4899000</td>\n",
       "      <td>레어 아바타 세트</td>\n",
       "      <td>귀검사(남)</td>\n",
       "    </tr>\n",
       "    <tr>\n",
       "      <th>242228</th>\n",
       "      <td>2024-05-01 00:32:31</td>\n",
       "      <td>0fe5f4d397e5914e1f2f6fd948bc560f</td>\n",
       "      <td>붕대감은 제복 코트[A타입]</td>\n",
       "      <td>커먼</td>\n",
       "      <td>상의</td>\n",
       "      <td>1</td>\n",
       "      <td>1490000</td>\n",
       "      <td>1490000</td>\n",
       "      <td>상급 아바타 세트</td>\n",
       "      <td>귀검사(남)</td>\n",
       "    </tr>\n",
       "    <tr>\n",
       "      <th>242229</th>\n",
       "      <td>2024-04-28 05:30:18</td>\n",
       "      <td>0fe5f4d397e5914e1f2f6fd948bc560f</td>\n",
       "      <td>붕대감은 제복 코트[A타입]</td>\n",
       "      <td>커먼</td>\n",
       "      <td>상의</td>\n",
       "      <td>1</td>\n",
       "      <td>1490000</td>\n",
       "      <td>1490000</td>\n",
       "      <td>상급 아바타 세트</td>\n",
       "      <td>귀검사(남)</td>\n",
       "    </tr>\n",
       "  </tbody>\n",
       "</table>\n",
       "<p>19235 rows × 10 columns</p>\n",
       "</div>"
      ],
      "text/plain": [
       "                   soldDate                            itemId  \\\n",
       "0       2024-04-12 23:06:59  0feb45c697a03abbe1b23b06c2e20261   \n",
       "109     2024-05-08 14:18:16  a3128b03bc453f671c7e253ccf856ee3   \n",
       "110     2024-05-05 22:13:19  a3128b03bc453f671c7e253ccf856ee3   \n",
       "111     2024-05-05 21:58:33  a3128b03bc453f671c7e253ccf856ee3   \n",
       "112     2024-04-27 10:26:08  a3128b03bc453f671c7e253ccf856ee3   \n",
       "...                     ...                               ...   \n",
       "242172  2024-04-28 08:49:02  5f7e6ec0113a717628ba3abb8a1f4683   \n",
       "242173  2024-04-11 22:46:11  5f7e6ec0113a717628ba3abb8a1f4683   \n",
       "242174  2024-04-10 15:54:46  5f7e6ec0113a717628ba3abb8a1f4683   \n",
       "242228  2024-05-01 00:32:31  0fe5f4d397e5914e1f2f6fd948bc560f   \n",
       "242229  2024-04-28 05:30:18  0fe5f4d397e5914e1f2f6fd948bc560f   \n",
       "\n",
       "               itemName itemRarity itemTypeDetail count    price unitPrice  \\\n",
       "0          염원의 귀걸이[B타입]         커먼             얼굴     1  1900000   1900000   \n",
       "109        여명의 천신 비단 부츠         레어             신발     1  3390000   3390000   \n",
       "110        여명의 천신 비단 부츠         레어             신발     1  3620000   3620000   \n",
       "111        여명의 천신 비단 부츠         레어             신발     1  3600000   3600000   \n",
       "112        여명의 천신 비단 부츠         레어             신발     1  4123232   4123232   \n",
       "...                 ...        ...            ...   ...      ...       ...   \n",
       "242172  골드 셀레스티얼 페더 스폴더         레어            목가슴     1  7340000   7340000   \n",
       "242173  골드 셀레스티얼 페더 스폴더         레어            목가슴     1  6500000   6500000   \n",
       "242174  골드 셀레스티얼 페더 스폴더         레어            목가슴     1  4899000   4899000   \n",
       "242228  붕대감은 제복 코트[A타입]         커먼             상의     1  1490000   1490000   \n",
       "242229  붕대감은 제복 코트[A타입]         커먼             상의     1  1490000   1490000   \n",
       "\n",
       "       setItemName jobName  \n",
       "0        상급 아바타 세트  귀검사(남)  \n",
       "109      레어 아바타 세트  귀검사(남)  \n",
       "110      레어 아바타 세트  귀검사(남)  \n",
       "111      레어 아바타 세트  귀검사(남)  \n",
       "112      레어 아바타 세트  귀검사(남)  \n",
       "...            ...     ...  \n",
       "242172   레어 아바타 세트  귀검사(남)  \n",
       "242173   레어 아바타 세트  귀검사(남)  \n",
       "242174   레어 아바타 세트  귀검사(남)  \n",
       "242228   상급 아바타 세트  귀검사(남)  \n",
       "242229   상급 아바타 세트  귀검사(남)  \n",
       "\n",
       "[19235 rows x 10 columns]"
      ]
     },
     "execution_count": 94,
     "metadata": {},
     "output_type": "execute_result"
    }
   ],
   "source": [
    "auction_sold_dict['귀검사(남)']"
   ]
  }
 ],
 "metadata": {
  "kernelspec": {
   "display_name": "Python 3",
   "language": "python",
   "name": "python3"
  },
  "language_info": {
   "codemirror_mode": {
    "name": "ipython",
    "version": 3
   },
   "file_extension": ".py",
   "mimetype": "text/x-python",
   "name": "python",
   "nbconvert_exporter": "python",
   "pygments_lexer": "ipython3",
   "version": "3.10.11"
  }
 },
 "nbformat": 4,
 "nbformat_minor": 2
}
