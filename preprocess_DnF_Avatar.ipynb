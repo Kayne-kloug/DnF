{
 "cells": [
  {
   "cell_type": "code",
   "execution_count": 299,
   "metadata": {},
   "outputs": [],
   "source": [
    "import pandas as pd\n",
    "from tqdm import tqdm\n",
    "import requests"
   ]
  },
  {
   "cell_type": "code",
   "execution_count": 105,
   "metadata": {},
   "outputs": [
    {
     "name": "stderr",
     "output_type": "stream",
     "text": [
      "C:\\Users\\Administrator\\AppData\\Local\\Temp\\ipykernel_5252\\2718127190.py:1: DtypeWarning: Columns (124,125,219,220) have mixed types. Specify dtype option on import or set low_memory=False.\n",
      "  data1 = pd.read_csv(\"output1.csv\")\n",
      "C:\\Users\\Administrator\\AppData\\Local\\Temp\\ipykernel_5252\\2718127190.py:3: DtypeWarning: Columns (124,125,148,149,219,220) have mixed types. Specify dtype option on import or set low_memory=False.\n",
      "  data3 = pd.read_csv(\"output3.csv\")\n"
     ]
    }
   ],
   "source": [
    "data1 = pd.read_csv(\"output1.csv\")\n",
    "data2 = pd.read_csv(\"output2.csv\")\n",
    "data3 = pd.read_csv(\"output3.csv\")\n",
    "\n",
    "data = pd.concat([data1,data2,data3], ignore_index=True)\n",
    "\n",
    "del data1, data2, data3"
   ]
  },
  {
   "cell_type": "code",
   "execution_count": 106,
   "metadata": {},
   "outputs": [
    {
     "data": {
      "text/plain": [
       "90600"
      ]
     },
     "execution_count": 106,
     "metadata": {},
     "output_type": "execute_result"
    }
   ],
   "source": [
    "len(data)"
   ]
  },
  {
   "cell_type": "code",
   "execution_count": 107,
   "metadata": {},
   "outputs": [
    {
     "data": {
      "text/plain": [
       "Index(['Unnamed: 0', 'characterId', 'characterName', 'level', 'jobId',\n",
       "       'jobGrowId', 'jobName', 'jobGrowName', 'adventureName', 'guildId',\n",
       "       ...\n",
       "       'SKIN__avatar_clone_random_itemId',\n",
       "       'SKIN__avatar_clone_random_itemName',\n",
       "       'SKIN__avatar_clone_random_optionAbility',\n",
       "       'SKIN__avatar_clone_random_emblems_slotNo',\n",
       "       'SKIN__avatar_clone_random_emblems_slotColor',\n",
       "       'SKIN__avatar_clone_random_emblems_itemName',\n",
       "       'SKIN__avatar_clone_random_emblems_itemRarity', '_error_status',\n",
       "       '_error_code', '_error_message'],\n",
       "      dtype='object', length=221)"
      ]
     },
     "execution_count": 107,
     "metadata": {},
     "output_type": "execute_result"
    }
   ],
   "source": [
    "data.columns"
   ]
  },
  {
   "cell_type": "code",
   "execution_count": 108,
   "metadata": {},
   "outputs": [],
   "source": [
    "data = data.drop('Unnamed: 0', axis=1)"
   ]
  },
  {
   "cell_type": "code",
   "execution_count": 109,
   "metadata": {},
   "outputs": [
    {
     "data": {
      "text/plain": [
       "Index(['characterId', 'characterName', 'level', 'jobId', 'jobGrowId',\n",
       "       'jobName', 'jobGrowName', 'adventureName', 'guildId', 'guildName',\n",
       "       ...\n",
       "       'SKIN__avatar_clone_random_itemId',\n",
       "       'SKIN__avatar_clone_random_itemName',\n",
       "       'SKIN__avatar_clone_random_optionAbility',\n",
       "       'SKIN__avatar_clone_random_emblems_slotNo',\n",
       "       'SKIN__avatar_clone_random_emblems_slotColor',\n",
       "       'SKIN__avatar_clone_random_emblems_itemName',\n",
       "       'SKIN__avatar_clone_random_emblems_itemRarity', '_error_status',\n",
       "       '_error_code', '_error_message'],\n",
       "      dtype='object', length=220)"
      ]
     },
     "execution_count": 109,
     "metadata": {},
     "output_type": "execute_result"
    }
   ],
   "source": [
    "data.columns"
   ]
  },
  {
   "cell_type": "markdown",
   "metadata": {},
   "source": [
    "### 필요한 컬럼 추출"
   ]
  },
  {
   "cell_type": "code",
   "execution_count": 110,
   "metadata": {},
   "outputs": [],
   "source": [
    "df = data[['characterId',\n",
    "'characterName',\n",
    "'jobId',\n",
    "'jobName',\n",
    "\n",
    "'HEADGEAR__avatar_slotId',\n",
    "'HEADGEAR__avatar_slotName',\n",
    "'HEADGEAR__avatar_itemId',\n",
    "'HEADGEAR__avatar_itemName',\n",
    "'HEADGEAR__avatar_clone_itemId',\n",
    "'HEADGEAR__avatar_clone_itemName',\n",
    "\n",
    "'HAIR__avatar_slotId',\n",
    "'HAIR__avatar_slotName',\n",
    "'HAIR__avatar_itemId',\n",
    "'HAIR__avatar_itemName',\n",
    "'HAIR__avatar_clone_itemId',\n",
    "'HAIR__avatar_clone_itemName',\n",
    "\n",
    "'FACE__avatar_slotId',\n",
    "'FACE__avatar_slotName',\n",
    "'FACE__avatar_itemId',\n",
    "'FACE__avatar_itemName',\n",
    "'FACE__avatar_clone_itemId',\n",
    "'FACE__avatar_clone_itemName',\n",
    "\n",
    "'JACKET__avatar_slotId',\n",
    "'JACKET__avatar_slotName',\n",
    "'JACKET__avatar_itemId',\n",
    "'JACKET__avatar_itemName',\n",
    "'JACKET__avatar_clone_itemId',\n",
    "'JACKET__avatar_clone_itemName',\n",
    "\n",
    "'PANTS__avatar_slotId',\n",
    "'PANTS__avatar_slotName',\n",
    "'PANTS__avatar_itemId',\n",
    "'PANTS__avatar_itemName',\n",
    "'PANTS__avatar_clone_itemId',\n",
    "'PANTS__avatar_clone_itemName',\n",
    "\n",
    "'SHOES__avatar_slotId',\n",
    "'SHOES__avatar_slotName',\n",
    "'SHOES__avatar_itemId',\n",
    "'SHOES__avatar_itemName',\n",
    "'SHOES__avatar_clone_itemId',\n",
    "'SHOES__avatar_clone_itemName',\n",
    "\n",
    "'BREAST__avatar_slotId',\n",
    "'BREAST__avatar_slotName',\n",
    "'BREAST__avatar_itemId',\n",
    "'BREAST__avatar_itemName',\n",
    "'BREAST__avatar_clone_itemId',\n",
    "'BREAST__avatar_clone_itemName',\n",
    "\n",
    "'WAIST__avatar_slotId',\n",
    "'WAIST__avatar_slotName',\n",
    "'WAIST__avatar_itemId',\n",
    "'WAIST__avatar_itemName',\n",
    "'WAIST__avatar_clone_itemId',\n",
    "'WAIST__avatar_clone_itemName',\n",
    "\n",
    "'SKIN__avatar_slotId',\n",
    "'SKIN__avatar_slotName',\n",
    "'SKIN__avatar_itemId',\n",
    "'SKIN__avatar_itemName',\n",
    "'SKIN__avatar_clone_itemId',\n",
    "'SKIN__avatar_clone_itemName',\n",
    "\n",
    "'AURORA__avatar_slotId',\n",
    "'AURORA__avatar_slotName',\n",
    "'AURORA__avatar_itemId',\n",
    "'AURORA__avatar_itemName',\n",
    "'AURORA__avatar_clone_itemId',\n",
    "'AURORA__avatar_clone_itemName',\n",
    "\n",
    "'WEAPON__avatar_slotId',\n",
    "'WEAPON__avatar_slotName',\n",
    "'WEAPON__avatar_itemId',\n",
    "'WEAPON__avatar_itemName',\n",
    "'WEAPON__avatar_clone_itemId',\n",
    "'WEAPON__avatar_clone_itemName',\n",
    "\n",
    "'AURA_SKIN__avatar_slotId',\n",
    "'AURA_SKIN__avatar_slotName',\n",
    "'AURA_SKIN__avatar_itemId',\n",
    "'AURA_SKIN__avatar_itemName',\n",
    "'AURA_SKIN__avatar_clone_itemId',\n",
    "'AURA_SKIN__avatar_clone_itemName']]"
   ]
  },
  {
   "cell_type": "markdown",
   "metadata": {},
   "source": [
    "###### 데이터 타입 변경(string)"
   ]
  },
  {
   "cell_type": "code",
   "execution_count": null,
   "metadata": {},
   "outputs": [],
   "source": [
    "df = df.astype('str')"
   ]
  },
  {
   "cell_type": "code",
   "execution_count": 111,
   "metadata": {},
   "outputs": [
    {
     "data": {
      "text/plain": [
       "Index(['characterId', 'characterName', 'jobId', 'jobName',\n",
       "       'HEADGEAR__avatar_slotId', 'HEADGEAR__avatar_slotName',\n",
       "       'HEADGEAR__avatar_itemId', 'HEADGEAR__avatar_itemName',\n",
       "       'HEADGEAR__avatar_clone_itemId', 'HEADGEAR__avatar_clone_itemName',\n",
       "       'HAIR__avatar_slotId', 'HAIR__avatar_slotName', 'HAIR__avatar_itemId',\n",
       "       'HAIR__avatar_itemName', 'HAIR__avatar_clone_itemId',\n",
       "       'HAIR__avatar_clone_itemName', 'FACE__avatar_slotId',\n",
       "       'FACE__avatar_slotName', 'FACE__avatar_itemId', 'FACE__avatar_itemName',\n",
       "       'FACE__avatar_clone_itemId', 'FACE__avatar_clone_itemName',\n",
       "       'JACKET__avatar_slotId', 'JACKET__avatar_slotName',\n",
       "       'JACKET__avatar_itemId', 'JACKET__avatar_itemName',\n",
       "       'JACKET__avatar_clone_itemId', 'JACKET__avatar_clone_itemName',\n",
       "       'PANTS__avatar_slotId', 'PANTS__avatar_slotName',\n",
       "       'PANTS__avatar_itemId', 'PANTS__avatar_itemName',\n",
       "       'PANTS__avatar_clone_itemId', 'PANTS__avatar_clone_itemName',\n",
       "       'SHOES__avatar_slotId', 'SHOES__avatar_slotName',\n",
       "       'SHOES__avatar_itemId', 'SHOES__avatar_itemName',\n",
       "       'SHOES__avatar_clone_itemId', 'SHOES__avatar_clone_itemName',\n",
       "       'BREAST__avatar_slotId', 'BREAST__avatar_slotName',\n",
       "       'BREAST__avatar_itemId', 'BREAST__avatar_itemName',\n",
       "       'BREAST__avatar_clone_itemId', 'BREAST__avatar_clone_itemName',\n",
       "       'WAIST__avatar_slotId', 'WAIST__avatar_slotName',\n",
       "       'WAIST__avatar_itemId', 'WAIST__avatar_itemName',\n",
       "       'WAIST__avatar_clone_itemId', 'WAIST__avatar_clone_itemName',\n",
       "       'SKIN__avatar_slotId', 'SKIN__avatar_slotName', 'SKIN__avatar_itemId',\n",
       "       'SKIN__avatar_itemName', 'SKIN__avatar_clone_itemId',\n",
       "       'SKIN__avatar_clone_itemName', 'AURORA__avatar_slotId',\n",
       "       'AURORA__avatar_slotName', 'AURORA__avatar_itemId',\n",
       "       'AURORA__avatar_itemName', 'AURORA__avatar_clone_itemId',\n",
       "       'AURORA__avatar_clone_itemName', 'WEAPON__avatar_slotId',\n",
       "       'WEAPON__avatar_slotName', 'WEAPON__avatar_itemId',\n",
       "       'WEAPON__avatar_itemName', 'WEAPON__avatar_clone_itemId',\n",
       "       'WEAPON__avatar_clone_itemName', 'AURA_SKIN__avatar_slotId',\n",
       "       'AURA_SKIN__avatar_slotName', 'AURA_SKIN__avatar_itemId',\n",
       "       'AURA_SKIN__avatar_itemName', 'AURA_SKIN__avatar_clone_itemId',\n",
       "       'AURA_SKIN__avatar_clone_itemName'],\n",
       "      dtype='object')"
      ]
     },
     "execution_count": 111,
     "metadata": {},
     "output_type": "execute_result"
    }
   ],
   "source": [
    "df.columns"
   ]
  },
  {
   "cell_type": "code",
   "execution_count": 112,
   "metadata": {},
   "outputs": [
    {
     "data": {
      "text/plain": [
       "76"
      ]
     },
     "execution_count": 112,
     "metadata": {},
     "output_type": "execute_result"
    }
   ],
   "source": [
    "len(df.columns)"
   ]
  },
  {
   "cell_type": "code",
   "execution_count": 113,
   "metadata": {},
   "outputs": [],
   "source": [
    "del data"
   ]
  },
  {
   "cell_type": "markdown",
   "metadata": {},
   "source": [
    "### 유저 null 확인 후 삭제"
   ]
  },
  {
   "cell_type": "code",
   "execution_count": 120,
   "metadata": {},
   "outputs": [
    {
     "data": {
      "text/plain": [
       "0"
      ]
     },
     "execution_count": 120,
     "metadata": {},
     "output_type": "execute_result"
    }
   ],
   "source": [
    "df['characterId'].isnull().sum()"
   ]
  },
  {
   "cell_type": "code",
   "execution_count": 115,
   "metadata": {},
   "outputs": [
    {
     "name": "stdout",
     "output_type": "stream",
     "text": [
      "20141\n",
      "78245\n"
     ]
    }
   ],
   "source": [
    "temp = list(df['characterId'].isnull())\n",
    "for i in range(len(temp)):\n",
    "    if temp[i]:\n",
    "        print(i)"
   ]
  },
  {
   "cell_type": "code",
   "execution_count": null,
   "metadata": {},
   "outputs": [],
   "source": [
    "df.iloc[20141,'characterName']"
   ]
  },
  {
   "cell_type": "code",
   "execution_count": 149,
   "metadata": {},
   "outputs": [
    {
     "data": {
      "text/plain": [
       "'헤롱카테'"
      ]
     },
     "execution_count": 149,
     "metadata": {},
     "output_type": "execute_result"
    }
   ],
   "source": [
    "df.loc[78245,'characterName']"
   ]
  },
  {
   "cell_type": "code",
   "execution_count": 118,
   "metadata": {},
   "outputs": [],
   "source": [
    "# 2건 삭제\n",
    "df.drop([20141,78245], axis=0, inplace=True)"
   ]
  },
  {
   "cell_type": "markdown",
   "metadata": {},
   "source": [
    "### 유저들이 사용하는 외형 아바타(avatar_clone_itemId)만 추출\n",
    "##### 아바타 외형을 클로닝 하지 않았을 경우 착용 중인 아바타(avatar_itemId)로 추출"
   ]
  },
  {
   "cell_type": "code",
   "execution_count": 151,
   "metadata": {},
   "outputs": [],
   "source": [
    "parts = ['HEADGEAR__avatar',\n",
    "'HAIR__avatar',\n",
    "'FACE__avatar',\n",
    "'JACKET__avatar',\n",
    "'PANTS__avatar',\n",
    "'SHOES__avatar',\n",
    "'BREAST__avatar',\n",
    "'WAIST__avatar',\n",
    "'SKIN__avatar',\n",
    "'AURORA__avatar',\n",
    "'WEAPON__avatar',\n",
    "'AURA_SKIN__avatar']"
   ]
  },
  {
   "cell_type": "code",
   "execution_count": 278,
   "metadata": {},
   "outputs": [],
   "source": [
    "df2= df.copy()"
   ]
  },
  {
   "cell_type": "code",
   "execution_count": 279,
   "metadata": {},
   "outputs": [
    {
     "name": "stdout",
     "output_type": "stream",
     "text": [
      "0 HEADGEAR__avatar\n"
     ]
    },
    {
     "name": "stderr",
     "output_type": "stream",
     "text": [
      "100%|██████████| 90598/90598 [00:02<00:00, 38760.30it/s]\n"
     ]
    },
    {
     "name": "stdout",
     "output_type": "stream",
     "text": [
      "169\n",
      "1 HAIR__avatar\n"
     ]
    },
    {
     "name": "stderr",
     "output_type": "stream",
     "text": [
      "100%|██████████| 90598/90598 [00:02<00:00, 42248.42it/s]\n"
     ]
    },
    {
     "name": "stdout",
     "output_type": "stream",
     "text": [
      "186\n",
      "2 FACE__avatar\n"
     ]
    },
    {
     "name": "stderr",
     "output_type": "stream",
     "text": [
      "100%|██████████| 90598/90598 [00:03<00:00, 27037.34it/s]\n"
     ]
    },
    {
     "name": "stdout",
     "output_type": "stream",
     "text": [
      "200\n",
      "3 JACKET__avatar\n"
     ]
    },
    {
     "name": "stderr",
     "output_type": "stream",
     "text": [
      "100%|██████████| 90598/90598 [00:01<00:00, 56920.47it/s]\n"
     ]
    },
    {
     "name": "stdout",
     "output_type": "stream",
     "text": [
      "149\n",
      "4 PANTS__avatar\n"
     ]
    },
    {
     "name": "stderr",
     "output_type": "stream",
     "text": [
      "100%|██████████| 90598/90598 [00:01<00:00, 46276.15it/s]\n"
     ]
    },
    {
     "name": "stdout",
     "output_type": "stream",
     "text": [
      "155\n",
      "5 SHOES__avatar\n"
     ]
    },
    {
     "name": "stderr",
     "output_type": "stream",
     "text": [
      "100%|██████████| 90598/90598 [00:01<00:00, 48998.97it/s]\n"
     ]
    },
    {
     "name": "stdout",
     "output_type": "stream",
     "text": [
      "177\n",
      "6 BREAST__avatar\n"
     ]
    },
    {
     "name": "stderr",
     "output_type": "stream",
     "text": [
      "100%|██████████| 90598/90598 [00:03<00:00, 26981.06it/s]\n"
     ]
    },
    {
     "name": "stdout",
     "output_type": "stream",
     "text": [
      "204\n",
      "7 WAIST__avatar\n"
     ]
    },
    {
     "name": "stderr",
     "output_type": "stream",
     "text": [
      "100%|██████████| 90598/90598 [00:04<00:00, 21723.42it/s]\n"
     ]
    },
    {
     "name": "stdout",
     "output_type": "stream",
     "text": [
      "189\n",
      "8 SKIN__avatar\n"
     ]
    },
    {
     "name": "stderr",
     "output_type": "stream",
     "text": [
      "100%|██████████| 90598/90598 [00:10<00:00, 8828.44it/s]\n"
     ]
    },
    {
     "name": "stdout",
     "output_type": "stream",
     "text": [
      "316\n",
      "9 AURORA__avatar\n"
     ]
    },
    {
     "name": "stderr",
     "output_type": "stream",
     "text": [
      "100%|██████████| 90598/90598 [00:10<00:00, 8806.68it/s]\n"
     ]
    },
    {
     "name": "stdout",
     "output_type": "stream",
     "text": [
      "9\n",
      "10 WEAPON__avatar\n"
     ]
    },
    {
     "name": "stderr",
     "output_type": "stream",
     "text": [
      "100%|██████████| 90598/90598 [00:03<00:00, 26952.88it/s]\n"
     ]
    },
    {
     "name": "stdout",
     "output_type": "stream",
     "text": [
      "317\n",
      "11 AURA_SKIN__avatar\n"
     ]
    },
    {
     "name": "stderr",
     "output_type": "stream",
     "text": [
      "100%|██████████| 90598/90598 [00:10<00:00, 8819.39it/s]\n"
     ]
    },
    {
     "name": "stdout",
     "output_type": "stream",
     "text": [
      "24472\n"
     ]
    },
    {
     "data": {
      "text/html": [
       "<div>\n",
       "<style scoped>\n",
       "    .dataframe tbody tr th:only-of-type {\n",
       "        vertical-align: middle;\n",
       "    }\n",
       "\n",
       "    .dataframe tbody tr th {\n",
       "        vertical-align: top;\n",
       "    }\n",
       "\n",
       "    .dataframe thead th {\n",
       "        text-align: right;\n",
       "    }\n",
       "</style>\n",
       "<table border=\"1\" class=\"dataframe\">\n",
       "  <thead>\n",
       "    <tr style=\"text-align: right;\">\n",
       "      <th></th>\n",
       "      <th>characterId</th>\n",
       "      <th>characterName</th>\n",
       "      <th>jobId</th>\n",
       "      <th>jobName</th>\n",
       "      <th>HEADGEAR__avatar_slotId</th>\n",
       "      <th>HEADGEAR__avatar_slotName</th>\n",
       "      <th>HEADGEAR__avatar_itemId</th>\n",
       "      <th>HEADGEAR__avatar_itemName</th>\n",
       "      <th>HEADGEAR__avatar_clone_itemId</th>\n",
       "      <th>HEADGEAR__avatar_clone_itemName</th>\n",
       "      <th>...</th>\n",
       "      <th>WEAPON__avatar_itemId</th>\n",
       "      <th>WEAPON__avatar_itemName</th>\n",
       "      <th>WEAPON__avatar_clone_itemId</th>\n",
       "      <th>WEAPON__avatar_clone_itemName</th>\n",
       "      <th>AURA_SKIN__avatar_slotId</th>\n",
       "      <th>AURA_SKIN__avatar_slotName</th>\n",
       "      <th>AURA_SKIN__avatar_itemId</th>\n",
       "      <th>AURA_SKIN__avatar_itemName</th>\n",
       "      <th>AURA_SKIN__avatar_clone_itemId</th>\n",
       "      <th>AURA_SKIN__avatar_clone_itemName</th>\n",
       "    </tr>\n",
       "  </thead>\n",
       "  <tbody>\n",
       "    <tr>\n",
       "      <th>0</th>\n",
       "      <td>150a23219a59e086e36db59028c06a50</td>\n",
       "      <td>헤롱카테</td>\n",
       "      <td>3909d0b188e9c95311399f776e331da5</td>\n",
       "      <td>마법사(여)</td>\n",
       "      <td>HEADGEAR</td>\n",
       "      <td>모자 아바타</td>\n",
       "      <td>aebd9700b2de7be3fc909f89f8cfffce</td>\n",
       "      <td>레어 모자 클론 아바타</td>\n",
       "      <td>14d18062b175b136d7ef6f1db407f58d</td>\n",
       "      <td>던파스쿨 고양이 머리띠[A타입]</td>\n",
       "      <td>...</td>\n",
       "      <td>e16f404ee01406d159987f41abd99118</td>\n",
       "      <td>레어 무기 클론 아바타[40Lv]</td>\n",
       "      <td>e5f9d8f370765a3496f0b3ef189a0e7f</td>\n",
       "      <td>포식의 욕망</td>\n",
       "      <td>AURA_SKIN</td>\n",
       "      <td>오라 스킨 아바타</td>\n",
       "      <td>d1bb79f2380a3375cb7a473246053ffa</td>\n",
       "      <td>★미쿠와 함께★</td>\n",
       "      <td>d1bb79f2380a3375cb7a473246053ffa</td>\n",
       "      <td>nan</td>\n",
       "    </tr>\n",
       "    <tr>\n",
       "      <th>1</th>\n",
       "      <td>0daa8c49cae531262f966dd637008e30</td>\n",
       "      <td>민트크림소스</td>\n",
       "      <td>3909d0b188e9c95311399f776e331da5</td>\n",
       "      <td>마법사(여)</td>\n",
       "      <td>HEADGEAR</td>\n",
       "      <td>모자 아바타</td>\n",
       "      <td>d73b5d96d17c84e54ff2a999658a4845</td>\n",
       "      <td>레어 모자 클론 아바타</td>\n",
       "      <td>9b676223df861e8932d01fa8be03dd6a</td>\n",
       "      <td>아라드 해변 리본 모자[C타입]</td>\n",
       "      <td>...</td>\n",
       "      <td>6f664071d276072fdc25371252816989</td>\n",
       "      <td>레어 무기 클론 아바타[75Lv]</td>\n",
       "      <td>f742d25f8e25513de703149cbd432e65</td>\n",
       "      <td>엘프 여왕의 정령</td>\n",
       "      <td>AURA_SKIN</td>\n",
       "      <td>오라 스킨 아바타</td>\n",
       "      <td>4754847cc0c85ffbcc6bd108e9207f6c</td>\n",
       "      <td>모험단 모션 오라 아바타</td>\n",
       "      <td>2fd6865377f6563035def5de26f489b7</td>\n",
       "      <td>해방된 요기 오라</td>\n",
       "    </tr>\n",
       "    <tr>\n",
       "      <th>2</th>\n",
       "      <td>103e5c925e8a698e89abd4d68cce1d0e</td>\n",
       "      <td>스팅거타이거</td>\n",
       "      <td>afdf3b989339de478e85b614d274d1ef</td>\n",
       "      <td>거너(남)</td>\n",
       "      <td>HEADGEAR</td>\n",
       "      <td>모자 아바타</td>\n",
       "      <td>80c6a6b7b5c1ab32bb401dfadf76ace8</td>\n",
       "      <td>레어 모자 클론 아바타</td>\n",
       "      <td>89f6c4947ec18a4b0aab705b0e93b3a1</td>\n",
       "      <td>진 메카닉의 헤드폰[B타입]</td>\n",
       "      <td>...</td>\n",
       "      <td>dd013289916783dddc5a90f378682e40</td>\n",
       "      <td>레어 무기 클론 아바타[80Lv]</td>\n",
       "      <td>d58731378b57cdcd957614255173424a</td>\n",
       "      <td>던전앤파이터 클래식 캐논</td>\n",
       "      <td>AURA_SKIN</td>\n",
       "      <td>오라 스킨 아바타</td>\n",
       "      <td>3baabfc239dd420d0b6673c7b1426391</td>\n",
       "      <td>푸른빛 홀로그램</td>\n",
       "      <td>3baabfc239dd420d0b6673c7b1426391</td>\n",
       "      <td>nan</td>\n",
       "    </tr>\n",
       "    <tr>\n",
       "      <th>3</th>\n",
       "      <td>3ba38c77f2868f34d910e362d0f4cae1</td>\n",
       "      <td>프라디지</td>\n",
       "      <td>41f1cdc2ff58bb5fdc287be0db2a8df3</td>\n",
       "      <td>귀검사(남)</td>\n",
       "      <td>HEADGEAR</td>\n",
       "      <td>모자 아바타</td>\n",
       "      <td>3bd48b7a41985ad02bd07ec91dcf04a8</td>\n",
       "      <td>레어 모자 클론 아바타</td>\n",
       "      <td>995900bb5ded1b28e387a0e709572fae</td>\n",
       "      <td>부러진 악마의 블랙 혼</td>\n",
       "      <td>...</td>\n",
       "      <td>7b0532818737be0b0e6f1e2c4042cf60</td>\n",
       "      <td>레어 무기 클론 아바타[75Lv]</td>\n",
       "      <td>a6f732dc2f3fa8ef24a420cca2ca5aa2</td>\n",
       "      <td>명도 후구도쿠</td>\n",
       "      <td>AURA_SKIN</td>\n",
       "      <td>오라 스킨 아바타</td>\n",
       "      <td>025ff1f20ce27272539704aedb878ac1</td>\n",
       "      <td>연옥의 불길</td>\n",
       "      <td>025ff1f20ce27272539704aedb878ac1</td>\n",
       "      <td>nan</td>\n",
       "    </tr>\n",
       "    <tr>\n",
       "      <th>4</th>\n",
       "      <td>79a62ecc85e602ae7f13b79b766aa2ee</td>\n",
       "      <td>금요일야근</td>\n",
       "      <td>0c1b401bb09241570d364420b3ba3fd7</td>\n",
       "      <td>프리스트(여)</td>\n",
       "      <td>HEADGEAR</td>\n",
       "      <td>모자 아바타</td>\n",
       "      <td>4073653019b52f859d27c96265c0b0a3</td>\n",
       "      <td>레어 모자 클론 아바타</td>\n",
       "      <td>4073653019b52f859d27c96265c0b0a3</td>\n",
       "      <td>nan</td>\n",
       "      <td>...</td>\n",
       "      <td>f99c56e62fa39e93ec0f1fe793ccf05c</td>\n",
       "      <td>레어 무기 클론 아바타[45Lv]</td>\n",
       "      <td>6723b14653bc97f521e990439b3bad77</td>\n",
       "      <td>이면 1활 삼뢰의 포진</td>\n",
       "      <td>AURA_SKIN</td>\n",
       "      <td>오라 스킨 아바타</td>\n",
       "      <td>f99513274bbef4290a1379c223933338</td>\n",
       "      <td>조화가 무너진 기억</td>\n",
       "      <td>f99513274bbef4290a1379c223933338</td>\n",
       "      <td>nan</td>\n",
       "    </tr>\n",
       "    <tr>\n",
       "      <th>...</th>\n",
       "      <td>...</td>\n",
       "      <td>...</td>\n",
       "      <td>...</td>\n",
       "      <td>...</td>\n",
       "      <td>...</td>\n",
       "      <td>...</td>\n",
       "      <td>...</td>\n",
       "      <td>...</td>\n",
       "      <td>...</td>\n",
       "      <td>...</td>\n",
       "      <td>...</td>\n",
       "      <td>...</td>\n",
       "      <td>...</td>\n",
       "      <td>...</td>\n",
       "      <td>...</td>\n",
       "      <td>...</td>\n",
       "      <td>...</td>\n",
       "      <td>...</td>\n",
       "      <td>...</td>\n",
       "      <td>...</td>\n",
       "      <td>...</td>\n",
       "    </tr>\n",
       "    <tr>\n",
       "      <th>90595</th>\n",
       "      <td>5c37706a64742ce164d02b06456ec3d9</td>\n",
       "      <td>윤아에용</td>\n",
       "      <td>a7a059ebe9e6054c0644b40ef316d6e9</td>\n",
       "      <td>격투가(여)</td>\n",
       "      <td>HEADGEAR</td>\n",
       "      <td>모자 아바타</td>\n",
       "      <td>b8c1f046fe4fe0677f19195385d19b04</td>\n",
       "      <td>레어 모자 클론 아바타</td>\n",
       "      <td>53d334dc1641cd3f4605908bcaa89960</td>\n",
       "      <td>진 스트라이커의 거친 후드[A타입]</td>\n",
       "      <td>...</td>\n",
       "      <td>5c94117f7b5b2232b776011cfa42579e</td>\n",
       "      <td>무기 클론 아바타</td>\n",
       "      <td>5c94117f7b5b2232b776011cfa42579e</td>\n",
       "      <td>nan</td>\n",
       "      <td>nan</td>\n",
       "      <td>nan</td>\n",
       "      <td>nan</td>\n",
       "      <td>nan</td>\n",
       "      <td>nan</td>\n",
       "      <td>nan</td>\n",
       "    </tr>\n",
       "    <tr>\n",
       "      <th>90596</th>\n",
       "      <td>030f2b2ee126aec10bd0108c13b493c6</td>\n",
       "      <td>잿빛의시프</td>\n",
       "      <td>41f1cdc2ff58bb5fdc287be0db2a8df3</td>\n",
       "      <td>귀검사(남)</td>\n",
       "      <td>HEADGEAR</td>\n",
       "      <td>모자 아바타</td>\n",
       "      <td>3bd48b7a41985ad02bd07ec91dcf04a8</td>\n",
       "      <td>레어 모자 클론 아바타</td>\n",
       "      <td>711ee1f368e0e83f29d33f2b06bd4994</td>\n",
       "      <td>야생의 사파리 사모예드의 탈[A타입]</td>\n",
       "      <td>...</td>\n",
       "      <td>ccde39545f0f69b26e9f6b23f41751a0</td>\n",
       "      <td>레어 무기 클론 아바타[70Lv]</td>\n",
       "      <td>ccde39545f0f69b26e9f6b23f41751a0</td>\n",
       "      <td>nan</td>\n",
       "      <td>AURA_SKIN</td>\n",
       "      <td>오라 스킨 아바타</td>\n",
       "      <td>f99513274bbef4290a1379c223933338</td>\n",
       "      <td>조화가 무너진 기억</td>\n",
       "      <td>f99513274bbef4290a1379c223933338</td>\n",
       "      <td>nan</td>\n",
       "    </tr>\n",
       "    <tr>\n",
       "      <th>90597</th>\n",
       "      <td>c51246ee43ee7645995bdf8f2ee1a26f</td>\n",
       "      <td>저주거미</td>\n",
       "      <td>3909d0b188e9c95311399f776e331da5</td>\n",
       "      <td>마법사(여)</td>\n",
       "      <td>HEADGEAR</td>\n",
       "      <td>모자 아바타</td>\n",
       "      <td>92d9839ad426f31e9de3508d001f84ca</td>\n",
       "      <td>레어 모자 클론 아바타</td>\n",
       "      <td>72747b638f523948042eb783d4704bc2</td>\n",
       "      <td>아사미야 아테나의 모자[E타입]</td>\n",
       "      <td>...</td>\n",
       "      <td>e16f404ee01406d159987f41abd99118</td>\n",
       "      <td>레어 무기 클론 아바타[40Lv]</td>\n",
       "      <td>0a67f9043419e9684ca9693a2735cd6f</td>\n",
       "      <td>샤이닝 크리스탈 비트</td>\n",
       "      <td>AURA_SKIN</td>\n",
       "      <td>오라 스킨 아바타</td>\n",
       "      <td>f99513274bbef4290a1379c223933338</td>\n",
       "      <td>조화가 무너진 기억</td>\n",
       "      <td>f99513274bbef4290a1379c223933338</td>\n",
       "      <td>nan</td>\n",
       "    </tr>\n",
       "    <tr>\n",
       "      <th>90598</th>\n",
       "      <td>9c068b798696f994d39b14a0840abb10</td>\n",
       "      <td>찌뮤</td>\n",
       "      <td>b9cb48777665de22c006fabaf9a560b3</td>\n",
       "      <td>아처</td>\n",
       "      <td>HEADGEAR</td>\n",
       "      <td>모자 아바타</td>\n",
       "      <td>2defdc2422ff3c61f5ac1af583e79459</td>\n",
       "      <td>레어 모자 클론 아바타</td>\n",
       "      <td>c5e50a3ea8f71aed447cb461a585c034</td>\n",
       "      <td>차원의 별자리 리본 베레모[E타입]</td>\n",
       "      <td>...</td>\n",
       "      <td>f17318c539c39d6b6505462c13acc733</td>\n",
       "      <td>레어 무기 클론 아바타[60Lv]</td>\n",
       "      <td>nan</td>\n",
       "      <td>nan</td>\n",
       "      <td>AURA_SKIN</td>\n",
       "      <td>오라 스킨 아바타</td>\n",
       "      <td>f99513274bbef4290a1379c223933338</td>\n",
       "      <td>조화가 무너진 기억</td>\n",
       "      <td>nan</td>\n",
       "      <td>nan</td>\n",
       "    </tr>\n",
       "    <tr>\n",
       "      <th>90599</th>\n",
       "      <td>cf4ac67a4cacec7f53a12b5115b48887</td>\n",
       "      <td>찬가망둥이</td>\n",
       "      <td>0c1b401bb09241570d364420b3ba3fd7</td>\n",
       "      <td>프리스트(여)</td>\n",
       "      <td>HEADGEAR</td>\n",
       "      <td>모자 아바타</td>\n",
       "      <td>4073653019b52f859d27c96265c0b0a3</td>\n",
       "      <td>레어 모자 클론 아바타</td>\n",
       "      <td>5c1ce6ce3322ef6051135ccac6eca7e1</td>\n",
       "      <td>황금상 대두 아바타</td>\n",
       "      <td>...</td>\n",
       "      <td>67c9b1b3d2605e8b50a58775ef0f05db</td>\n",
       "      <td>무기 클론 아바타</td>\n",
       "      <td>d7686c7644da98c18e4aeab47634fd1f</td>\n",
       "      <td>디멘션 아라드 여프리스트의 무기</td>\n",
       "      <td>AURA_SKIN</td>\n",
       "      <td>오라 스킨 아바타</td>\n",
       "      <td>f99513274bbef4290a1379c223933338</td>\n",
       "      <td>조화가 무너진 기억</td>\n",
       "      <td>nan</td>\n",
       "      <td>nan</td>\n",
       "    </tr>\n",
       "  </tbody>\n",
       "</table>\n",
       "<p>90598 rows × 76 columns</p>\n",
       "</div>"
      ],
      "text/plain": [
       "                            characterId characterName  \\\n",
       "0      150a23219a59e086e36db59028c06a50          헤롱카테   \n",
       "1      0daa8c49cae531262f966dd637008e30        민트크림소스   \n",
       "2      103e5c925e8a698e89abd4d68cce1d0e        스팅거타이거   \n",
       "3      3ba38c77f2868f34d910e362d0f4cae1          프라디지   \n",
       "4      79a62ecc85e602ae7f13b79b766aa2ee         금요일야근   \n",
       "...                                 ...           ...   \n",
       "90595  5c37706a64742ce164d02b06456ec3d9          윤아에용   \n",
       "90596  030f2b2ee126aec10bd0108c13b493c6         잿빛의시프   \n",
       "90597  c51246ee43ee7645995bdf8f2ee1a26f          저주거미   \n",
       "90598  9c068b798696f994d39b14a0840abb10            찌뮤   \n",
       "90599  cf4ac67a4cacec7f53a12b5115b48887         찬가망둥이   \n",
       "\n",
       "                                  jobId  jobName HEADGEAR__avatar_slotId  \\\n",
       "0      3909d0b188e9c95311399f776e331da5   마법사(여)                HEADGEAR   \n",
       "1      3909d0b188e9c95311399f776e331da5   마법사(여)                HEADGEAR   \n",
       "2      afdf3b989339de478e85b614d274d1ef    거너(남)                HEADGEAR   \n",
       "3      41f1cdc2ff58bb5fdc287be0db2a8df3   귀검사(남)                HEADGEAR   \n",
       "4      0c1b401bb09241570d364420b3ba3fd7  프리스트(여)                HEADGEAR   \n",
       "...                                 ...      ...                     ...   \n",
       "90595  a7a059ebe9e6054c0644b40ef316d6e9   격투가(여)                HEADGEAR   \n",
       "90596  41f1cdc2ff58bb5fdc287be0db2a8df3   귀검사(남)                HEADGEAR   \n",
       "90597  3909d0b188e9c95311399f776e331da5   마법사(여)                HEADGEAR   \n",
       "90598  b9cb48777665de22c006fabaf9a560b3       아처                HEADGEAR   \n",
       "90599  0c1b401bb09241570d364420b3ba3fd7  프리스트(여)                HEADGEAR   \n",
       "\n",
       "      HEADGEAR__avatar_slotName           HEADGEAR__avatar_itemId  \\\n",
       "0                        모자 아바타  aebd9700b2de7be3fc909f89f8cfffce   \n",
       "1                        모자 아바타  d73b5d96d17c84e54ff2a999658a4845   \n",
       "2                        모자 아바타  80c6a6b7b5c1ab32bb401dfadf76ace8   \n",
       "3                        모자 아바타  3bd48b7a41985ad02bd07ec91dcf04a8   \n",
       "4                        모자 아바타  4073653019b52f859d27c96265c0b0a3   \n",
       "...                         ...                               ...   \n",
       "90595                    모자 아바타  b8c1f046fe4fe0677f19195385d19b04   \n",
       "90596                    모자 아바타  3bd48b7a41985ad02bd07ec91dcf04a8   \n",
       "90597                    모자 아바타  92d9839ad426f31e9de3508d001f84ca   \n",
       "90598                    모자 아바타  2defdc2422ff3c61f5ac1af583e79459   \n",
       "90599                    모자 아바타  4073653019b52f859d27c96265c0b0a3   \n",
       "\n",
       "      HEADGEAR__avatar_itemName     HEADGEAR__avatar_clone_itemId  \\\n",
       "0                  레어 모자 클론 아바타  14d18062b175b136d7ef6f1db407f58d   \n",
       "1                  레어 모자 클론 아바타  9b676223df861e8932d01fa8be03dd6a   \n",
       "2                  레어 모자 클론 아바타  89f6c4947ec18a4b0aab705b0e93b3a1   \n",
       "3                  레어 모자 클론 아바타  995900bb5ded1b28e387a0e709572fae   \n",
       "4                  레어 모자 클론 아바타  4073653019b52f859d27c96265c0b0a3   \n",
       "...                         ...                               ...   \n",
       "90595              레어 모자 클론 아바타  53d334dc1641cd3f4605908bcaa89960   \n",
       "90596              레어 모자 클론 아바타  711ee1f368e0e83f29d33f2b06bd4994   \n",
       "90597              레어 모자 클론 아바타  72747b638f523948042eb783d4704bc2   \n",
       "90598              레어 모자 클론 아바타  c5e50a3ea8f71aed447cb461a585c034   \n",
       "90599              레어 모자 클론 아바타  5c1ce6ce3322ef6051135ccac6eca7e1   \n",
       "\n",
       "      HEADGEAR__avatar_clone_itemName  ...             WEAPON__avatar_itemId  \\\n",
       "0                   던파스쿨 고양이 머리띠[A타입]  ...  e16f404ee01406d159987f41abd99118   \n",
       "1                   아라드 해변 리본 모자[C타입]  ...  6f664071d276072fdc25371252816989   \n",
       "2                     진 메카닉의 헤드폰[B타입]  ...  dd013289916783dddc5a90f378682e40   \n",
       "3                        부러진 악마의 블랙 혼  ...  7b0532818737be0b0e6f1e2c4042cf60   \n",
       "4                                 nan  ...  f99c56e62fa39e93ec0f1fe793ccf05c   \n",
       "...                               ...  ...                               ...   \n",
       "90595             진 스트라이커의 거친 후드[A타입]  ...  5c94117f7b5b2232b776011cfa42579e   \n",
       "90596            야생의 사파리 사모예드의 탈[A타입]  ...  ccde39545f0f69b26e9f6b23f41751a0   \n",
       "90597               아사미야 아테나의 모자[E타입]  ...  e16f404ee01406d159987f41abd99118   \n",
       "90598             차원의 별자리 리본 베레모[E타입]  ...  f17318c539c39d6b6505462c13acc733   \n",
       "90599                      황금상 대두 아바타  ...  67c9b1b3d2605e8b50a58775ef0f05db   \n",
       "\n",
       "      WEAPON__avatar_itemName       WEAPON__avatar_clone_itemId  \\\n",
       "0          레어 무기 클론 아바타[40Lv]  e5f9d8f370765a3496f0b3ef189a0e7f   \n",
       "1          레어 무기 클론 아바타[75Lv]  f742d25f8e25513de703149cbd432e65   \n",
       "2          레어 무기 클론 아바타[80Lv]  d58731378b57cdcd957614255173424a   \n",
       "3          레어 무기 클론 아바타[75Lv]  a6f732dc2f3fa8ef24a420cca2ca5aa2   \n",
       "4          레어 무기 클론 아바타[45Lv]  6723b14653bc97f521e990439b3bad77   \n",
       "...                       ...                               ...   \n",
       "90595               무기 클론 아바타  5c94117f7b5b2232b776011cfa42579e   \n",
       "90596      레어 무기 클론 아바타[70Lv]  ccde39545f0f69b26e9f6b23f41751a0   \n",
       "90597      레어 무기 클론 아바타[40Lv]  0a67f9043419e9684ca9693a2735cd6f   \n",
       "90598      레어 무기 클론 아바타[60Lv]                               nan   \n",
       "90599               무기 클론 아바타  d7686c7644da98c18e4aeab47634fd1f   \n",
       "\n",
       "      WEAPON__avatar_clone_itemName AURA_SKIN__avatar_slotId  \\\n",
       "0                            포식의 욕망                AURA_SKIN   \n",
       "1                         엘프 여왕의 정령                AURA_SKIN   \n",
       "2                     던전앤파이터 클래식 캐논                AURA_SKIN   \n",
       "3                           명도 후구도쿠                AURA_SKIN   \n",
       "4                      이면 1활 삼뢰의 포진                AURA_SKIN   \n",
       "...                             ...                      ...   \n",
       "90595                           nan                      nan   \n",
       "90596                           nan                AURA_SKIN   \n",
       "90597                   샤이닝 크리스탈 비트                AURA_SKIN   \n",
       "90598                           nan                AURA_SKIN   \n",
       "90599             디멘션 아라드 여프리스트의 무기                AURA_SKIN   \n",
       "\n",
       "      AURA_SKIN__avatar_slotName          AURA_SKIN__avatar_itemId  \\\n",
       "0                      오라 스킨 아바타  d1bb79f2380a3375cb7a473246053ffa   \n",
       "1                      오라 스킨 아바타  4754847cc0c85ffbcc6bd108e9207f6c   \n",
       "2                      오라 스킨 아바타  3baabfc239dd420d0b6673c7b1426391   \n",
       "3                      오라 스킨 아바타  025ff1f20ce27272539704aedb878ac1   \n",
       "4                      오라 스킨 아바타  f99513274bbef4290a1379c223933338   \n",
       "...                          ...                               ...   \n",
       "90595                        nan                               nan   \n",
       "90596                  오라 스킨 아바타  f99513274bbef4290a1379c223933338   \n",
       "90597                  오라 스킨 아바타  f99513274bbef4290a1379c223933338   \n",
       "90598                  오라 스킨 아바타  f99513274bbef4290a1379c223933338   \n",
       "90599                  오라 스킨 아바타  f99513274bbef4290a1379c223933338   \n",
       "\n",
       "      AURA_SKIN__avatar_itemName    AURA_SKIN__avatar_clone_itemId  \\\n",
       "0                       ★미쿠와 함께★  d1bb79f2380a3375cb7a473246053ffa   \n",
       "1                  모험단 모션 오라 아바타  2fd6865377f6563035def5de26f489b7   \n",
       "2                       푸른빛 홀로그램  3baabfc239dd420d0b6673c7b1426391   \n",
       "3                         연옥의 불길  025ff1f20ce27272539704aedb878ac1   \n",
       "4                     조화가 무너진 기억  f99513274bbef4290a1379c223933338   \n",
       "...                          ...                               ...   \n",
       "90595                        nan                               nan   \n",
       "90596                 조화가 무너진 기억  f99513274bbef4290a1379c223933338   \n",
       "90597                 조화가 무너진 기억  f99513274bbef4290a1379c223933338   \n",
       "90598                 조화가 무너진 기억                               nan   \n",
       "90599                 조화가 무너진 기억                               nan   \n",
       "\n",
       "      AURA_SKIN__avatar_clone_itemName  \n",
       "0                                  nan  \n",
       "1                            해방된 요기 오라  \n",
       "2                                  nan  \n",
       "3                                  nan  \n",
       "4                                  nan  \n",
       "...                                ...  \n",
       "90595                              nan  \n",
       "90596                              nan  \n",
       "90597                              nan  \n",
       "90598                              nan  \n",
       "90599                              nan  \n",
       "\n",
       "[90598 rows x 76 columns]"
      ]
     },
     "execution_count": 279,
     "metadata": {},
     "output_type": "execute_result"
    }
   ],
   "source": [
    "for n,part in enumerate(parts):\n",
    "    print(n,part)\n",
    "    c=0\n",
    "    for i in tqdm(range(len(df2))):\n",
    "        try:\n",
    "            \n",
    "            if df2.loc[i,part+'_clone_itemId']=='nan':\n",
    "                if df.loc[i,part+'_itemId']=='nan':\n",
    "                    #print(df.loc[i,part+'_itemId'])\n",
    "                    c+=1\n",
    "                df2.loc[i,part+'_clone_itemId'] = df.loc[i,part+'_itemId']\n",
    "        except KeyError:\n",
    "            #print(i)\n",
    "            pass\n",
    "    print(c)\n",
    "df2"
   ]
  },
  {
   "cell_type": "code",
   "execution_count": 281,
   "metadata": {},
   "outputs": [
    {
     "data": {
      "text/html": [
       "<div>\n",
       "<style scoped>\n",
       "    .dataframe tbody tr th:only-of-type {\n",
       "        vertical-align: middle;\n",
       "    }\n",
       "\n",
       "    .dataframe tbody tr th {\n",
       "        vertical-align: top;\n",
       "    }\n",
       "\n",
       "    .dataframe thead th {\n",
       "        text-align: right;\n",
       "    }\n",
       "</style>\n",
       "<table border=\"1\" class=\"dataframe\">\n",
       "  <thead>\n",
       "    <tr style=\"text-align: right;\">\n",
       "      <th></th>\n",
       "      <th>HEADGEAR__avatar_clone_itemId</th>\n",
       "      <th>HAIR__avatar_clone_itemId</th>\n",
       "      <th>FACE__avatar_clone_itemId</th>\n",
       "      <th>JACKET__avatar_clone_itemId</th>\n",
       "      <th>PANTS__avatar_clone_itemId</th>\n",
       "      <th>SHOES__avatar_clone_itemId</th>\n",
       "      <th>BREAST__avatar_clone_itemId</th>\n",
       "      <th>WAIST__avatar_clone_itemId</th>\n",
       "      <th>SKIN__avatar_clone_itemId</th>\n",
       "      <th>AURORA__avatar_clone_itemId</th>\n",
       "      <th>WEAPON__avatar_clone_itemId</th>\n",
       "      <th>AURA_SKIN__avatar_clone_itemId</th>\n",
       "    </tr>\n",
       "  </thead>\n",
       "  <tbody>\n",
       "    <tr>\n",
       "      <th>0</th>\n",
       "      <td>14d18062b175b136d7ef6f1db407f58d</td>\n",
       "      <td>fd2f37abaeefeeff9337c112e2d97226</td>\n",
       "      <td>c56811381970dbec255f1dc83aae4bf3</td>\n",
       "      <td>2fc4180ebd464da00fe6a343ed9ffcc0</td>\n",
       "      <td>0e9303fa8dfb68974c98fe5cf6c9a426</td>\n",
       "      <td>23189c65099b90cca23fa3be7d52b10a</td>\n",
       "      <td>7fa57b8e81c3ea31b9d2b034d5e5d5e1</td>\n",
       "      <td>6f8464c9fea70b12c47edf2a4f03f2c7</td>\n",
       "      <td>fdb1174f0cd37a49b3a01879c74a862f</td>\n",
       "      <td>e2d3fc083f256d83ff19df610c0dfb14</td>\n",
       "      <td>e5f9d8f370765a3496f0b3ef189a0e7f</td>\n",
       "      <td>d1bb79f2380a3375cb7a473246053ffa</td>\n",
       "    </tr>\n",
       "    <tr>\n",
       "      <th>1</th>\n",
       "      <td>9b676223df861e8932d01fa8be03dd6a</td>\n",
       "      <td>fa1d6b7cda1a44f4282e4819e1e88ef1</td>\n",
       "      <td>9eccc5247d53b8b83e4dda83c79a1d03</td>\n",
       "      <td>4b220ffb39f798513ef1f75ad9e38333</td>\n",
       "      <td>cc0cf7755d7a4b1fa441705d11933471</td>\n",
       "      <td>c20e16325a29aac2bc867b7315b9ac24</td>\n",
       "      <td>1da93a309a07304927f9420f59f7da36</td>\n",
       "      <td>efe7a9cf5a6ba3a6cc92a34a9d754fed</td>\n",
       "      <td>3d62682b71640ee2fb5056da50f95b2d</td>\n",
       "      <td>ba7dbd55e9e0fa422fb5d9be30621bc4</td>\n",
       "      <td>f742d25f8e25513de703149cbd432e65</td>\n",
       "      <td>2fd6865377f6563035def5de26f489b7</td>\n",
       "    </tr>\n",
       "    <tr>\n",
       "      <th>2</th>\n",
       "      <td>89f6c4947ec18a4b0aab705b0e93b3a1</td>\n",
       "      <td>50a8baa6943a62670f22eb6b1c7d9dc8</td>\n",
       "      <td>eeee8fbf5c310b5b9b5ff566a0569716</td>\n",
       "      <td>e75165bb13d53577408957c859eae701</td>\n",
       "      <td>60c788db7e2d427e1902b704907022d6</td>\n",
       "      <td>89b0b6640eb2cd1da65bcc995221d6aa</td>\n",
       "      <td>509cfaf0af8fb42404ce26bd4e588ad5</td>\n",
       "      <td>79bb4df55faae43b12f0b3a12600cdf6</td>\n",
       "      <td>da4ca3d89fdf33accbe9aa34c2e9b910</td>\n",
       "      <td>e2d3fc083f256d83ff19df610c0dfb14</td>\n",
       "      <td>d58731378b57cdcd957614255173424a</td>\n",
       "      <td>3baabfc239dd420d0b6673c7b1426391</td>\n",
       "    </tr>\n",
       "    <tr>\n",
       "      <th>3</th>\n",
       "      <td>995900bb5ded1b28e387a0e709572fae</td>\n",
       "      <td>500e1f7c7155319a6f9cd46c7ebbf20a</td>\n",
       "      <td>d85506f099d2f6f6ece6cf7d3c7e534d</td>\n",
       "      <td>926540a69ff114baed6cd729f15e07e1</td>\n",
       "      <td>9791c803c75d728f80384e617a6cf2ba</td>\n",
       "      <td>a87a002ff247208e9d0fe0903ddd7a6d</td>\n",
       "      <td>b4113b55e3e8f4d8b24bc7194f871426</td>\n",
       "      <td>94cc96c7f585fc99f11fe996e3e7737e</td>\n",
       "      <td>7231e56eae9b306d1574fc0f2be3cad1</td>\n",
       "      <td>e2d3fc083f256d83ff19df610c0dfb14</td>\n",
       "      <td>a6f732dc2f3fa8ef24a420cca2ca5aa2</td>\n",
       "      <td>025ff1f20ce27272539704aedb878ac1</td>\n",
       "    </tr>\n",
       "    <tr>\n",
       "      <th>4</th>\n",
       "      <td>4073653019b52f859d27c96265c0b0a3</td>\n",
       "      <td>75917331913185f511ed164e7b1abb00</td>\n",
       "      <td>14db7065734059b400556d12f78b8321</td>\n",
       "      <td>f8d0d847b7688311578f8776513c603a</td>\n",
       "      <td>e024020c7722774d397a6a6cc2fed204</td>\n",
       "      <td>5a21f6b5083e34e9591388d2bb5b609d</td>\n",
       "      <td>2b31463c137f8e33d6ae1a1ad1990992</td>\n",
       "      <td>d88462ca07d83b15a6c817a884a6ac51</td>\n",
       "      <td>ce3165a7d9f229d94aa06fd3b7fd04c8</td>\n",
       "      <td>e2d3fc083f256d83ff19df610c0dfb14</td>\n",
       "      <td>6723b14653bc97f521e990439b3bad77</td>\n",
       "      <td>f99513274bbef4290a1379c223933338</td>\n",
       "    </tr>\n",
       "    <tr>\n",
       "      <th>...</th>\n",
       "      <td>...</td>\n",
       "      <td>...</td>\n",
       "      <td>...</td>\n",
       "      <td>...</td>\n",
       "      <td>...</td>\n",
       "      <td>...</td>\n",
       "      <td>...</td>\n",
       "      <td>...</td>\n",
       "      <td>...</td>\n",
       "      <td>...</td>\n",
       "      <td>...</td>\n",
       "      <td>...</td>\n",
       "    </tr>\n",
       "    <tr>\n",
       "      <th>90595</th>\n",
       "      <td>53d334dc1641cd3f4605908bcaa89960</td>\n",
       "      <td>0698b11ddb94c50aad007ea82367b374</td>\n",
       "      <td>4a0738d2db62b0e8fcb8b605eb49cc12</td>\n",
       "      <td>b270f3f9c50631e5f9aba87825cef854</td>\n",
       "      <td>d4b022f823fb4b4c84430819544f7ffb</td>\n",
       "      <td>0ee42aea67ee41aa92f063a5cb9dfc73</td>\n",
       "      <td>e40830c9c9e0f59ef8934ae56f410dfc</td>\n",
       "      <td>8e23fbd375d9d847c3909d566be10941</td>\n",
       "      <td>2d073861f40e0e3c668f832befbe76a2</td>\n",
       "      <td>0c85043f055780b4454d9c7c4567f16e</td>\n",
       "      <td>5c94117f7b5b2232b776011cfa42579e</td>\n",
       "      <td>nan</td>\n",
       "    </tr>\n",
       "    <tr>\n",
       "      <th>90596</th>\n",
       "      <td>711ee1f368e0e83f29d33f2b06bd4994</td>\n",
       "      <td>994691cc574b1bf51bd3b3d153f95d0b</td>\n",
       "      <td>163dd46151984888622f479c9b7b9f73</td>\n",
       "      <td>eafba317c7947775cb9fd21939043312</td>\n",
       "      <td>dd3a861efa6edfdd352c992a32c32e36</td>\n",
       "      <td>312bf49aee1ba090c187c0ccf0623b55</td>\n",
       "      <td>af1535c00916bce83d2ddad2e7943dfa</td>\n",
       "      <td>9b815a76c2e87c4ecd1eefb2dff8712e</td>\n",
       "      <td>c072110461d2bb78221b62bdfbd60810</td>\n",
       "      <td>e2d3fc083f256d83ff19df610c0dfb14</td>\n",
       "      <td>ccde39545f0f69b26e9f6b23f41751a0</td>\n",
       "      <td>f99513274bbef4290a1379c223933338</td>\n",
       "    </tr>\n",
       "    <tr>\n",
       "      <th>90597</th>\n",
       "      <td>72747b638f523948042eb783d4704bc2</td>\n",
       "      <td>186cb29b00a51232016afa34a1f61a58</td>\n",
       "      <td>e0afb2fd5a77caa62c47cfd08fe53a02</td>\n",
       "      <td>b583a29bc8e26d8dbb36ec2042e9501c</td>\n",
       "      <td>0c24e524b078ec1fa04e07113c30e904</td>\n",
       "      <td>049ed5ac051fe8656fa54e1233a86cb8</td>\n",
       "      <td>d6b829f6b3cdab7107c2d037b0516259</td>\n",
       "      <td>ab47b17eaf56617e724cc3f8cafaf0a4</td>\n",
       "      <td>f85cac0eb217217e1bb6de8b62e12767</td>\n",
       "      <td>0c85043f055780b4454d9c7c4567f16e</td>\n",
       "      <td>0a67f9043419e9684ca9693a2735cd6f</td>\n",
       "      <td>f99513274bbef4290a1379c223933338</td>\n",
       "    </tr>\n",
       "    <tr>\n",
       "      <th>90598</th>\n",
       "      <td>c5e50a3ea8f71aed447cb461a585c034</td>\n",
       "      <td>94d5cad24807035f1653a2817978d5cb</td>\n",
       "      <td>nan</td>\n",
       "      <td>5eb15f5595f1883e45609161e07405ad</td>\n",
       "      <td>4db2551569a588cef593ac2599e56ac7</td>\n",
       "      <td>f49e11498d94a514b5944afd71d1fb87</td>\n",
       "      <td>549517ba0626c64463c8774f7f4c0dbd</td>\n",
       "      <td>dab715dd9312a07a5193eeba8b1879dc</td>\n",
       "      <td>nan</td>\n",
       "      <td>nan</td>\n",
       "      <td>nan</td>\n",
       "      <td>nan</td>\n",
       "    </tr>\n",
       "    <tr>\n",
       "      <th>90599</th>\n",
       "      <td>5c1ce6ce3322ef6051135ccac6eca7e1</td>\n",
       "      <td>6b0dbc0ab1ba3d73ca47cda9526578b9</td>\n",
       "      <td>e95af1a82db99929f75ea34b8ee411b8</td>\n",
       "      <td>9c8f093eb6d0bacfc93a4e76d12ad27b</td>\n",
       "      <td>e024020c7722774d397a6a6cc2fed204</td>\n",
       "      <td>5dc30a2412ff107f4d39bf51047279c1</td>\n",
       "      <td>9bce0bff9a756f84401e039d8b2901b4</td>\n",
       "      <td>73862fd2b94b37fb737cb2c977391e8d</td>\n",
       "      <td>nan</td>\n",
       "      <td>nan</td>\n",
       "      <td>d7686c7644da98c18e4aeab47634fd1f</td>\n",
       "      <td>nan</td>\n",
       "    </tr>\n",
       "  </tbody>\n",
       "</table>\n",
       "<p>90598 rows × 12 columns</p>\n",
       "</div>"
      ],
      "text/plain": [
       "          HEADGEAR__avatar_clone_itemId         HAIR__avatar_clone_itemId  \\\n",
       "0      14d18062b175b136d7ef6f1db407f58d  fd2f37abaeefeeff9337c112e2d97226   \n",
       "1      9b676223df861e8932d01fa8be03dd6a  fa1d6b7cda1a44f4282e4819e1e88ef1   \n",
       "2      89f6c4947ec18a4b0aab705b0e93b3a1  50a8baa6943a62670f22eb6b1c7d9dc8   \n",
       "3      995900bb5ded1b28e387a0e709572fae  500e1f7c7155319a6f9cd46c7ebbf20a   \n",
       "4      4073653019b52f859d27c96265c0b0a3  75917331913185f511ed164e7b1abb00   \n",
       "...                                 ...                               ...   \n",
       "90595  53d334dc1641cd3f4605908bcaa89960  0698b11ddb94c50aad007ea82367b374   \n",
       "90596  711ee1f368e0e83f29d33f2b06bd4994  994691cc574b1bf51bd3b3d153f95d0b   \n",
       "90597  72747b638f523948042eb783d4704bc2  186cb29b00a51232016afa34a1f61a58   \n",
       "90598  c5e50a3ea8f71aed447cb461a585c034  94d5cad24807035f1653a2817978d5cb   \n",
       "90599  5c1ce6ce3322ef6051135ccac6eca7e1  6b0dbc0ab1ba3d73ca47cda9526578b9   \n",
       "\n",
       "              FACE__avatar_clone_itemId       JACKET__avatar_clone_itemId  \\\n",
       "0      c56811381970dbec255f1dc83aae4bf3  2fc4180ebd464da00fe6a343ed9ffcc0   \n",
       "1      9eccc5247d53b8b83e4dda83c79a1d03  4b220ffb39f798513ef1f75ad9e38333   \n",
       "2      eeee8fbf5c310b5b9b5ff566a0569716  e75165bb13d53577408957c859eae701   \n",
       "3      d85506f099d2f6f6ece6cf7d3c7e534d  926540a69ff114baed6cd729f15e07e1   \n",
       "4      14db7065734059b400556d12f78b8321  f8d0d847b7688311578f8776513c603a   \n",
       "...                                 ...                               ...   \n",
       "90595  4a0738d2db62b0e8fcb8b605eb49cc12  b270f3f9c50631e5f9aba87825cef854   \n",
       "90596  163dd46151984888622f479c9b7b9f73  eafba317c7947775cb9fd21939043312   \n",
       "90597  e0afb2fd5a77caa62c47cfd08fe53a02  b583a29bc8e26d8dbb36ec2042e9501c   \n",
       "90598                               nan  5eb15f5595f1883e45609161e07405ad   \n",
       "90599  e95af1a82db99929f75ea34b8ee411b8  9c8f093eb6d0bacfc93a4e76d12ad27b   \n",
       "\n",
       "             PANTS__avatar_clone_itemId        SHOES__avatar_clone_itemId  \\\n",
       "0      0e9303fa8dfb68974c98fe5cf6c9a426  23189c65099b90cca23fa3be7d52b10a   \n",
       "1      cc0cf7755d7a4b1fa441705d11933471  c20e16325a29aac2bc867b7315b9ac24   \n",
       "2      60c788db7e2d427e1902b704907022d6  89b0b6640eb2cd1da65bcc995221d6aa   \n",
       "3      9791c803c75d728f80384e617a6cf2ba  a87a002ff247208e9d0fe0903ddd7a6d   \n",
       "4      e024020c7722774d397a6a6cc2fed204  5a21f6b5083e34e9591388d2bb5b609d   \n",
       "...                                 ...                               ...   \n",
       "90595  d4b022f823fb4b4c84430819544f7ffb  0ee42aea67ee41aa92f063a5cb9dfc73   \n",
       "90596  dd3a861efa6edfdd352c992a32c32e36  312bf49aee1ba090c187c0ccf0623b55   \n",
       "90597  0c24e524b078ec1fa04e07113c30e904  049ed5ac051fe8656fa54e1233a86cb8   \n",
       "90598  4db2551569a588cef593ac2599e56ac7  f49e11498d94a514b5944afd71d1fb87   \n",
       "90599  e024020c7722774d397a6a6cc2fed204  5dc30a2412ff107f4d39bf51047279c1   \n",
       "\n",
       "            BREAST__avatar_clone_itemId        WAIST__avatar_clone_itemId  \\\n",
       "0      7fa57b8e81c3ea31b9d2b034d5e5d5e1  6f8464c9fea70b12c47edf2a4f03f2c7   \n",
       "1      1da93a309a07304927f9420f59f7da36  efe7a9cf5a6ba3a6cc92a34a9d754fed   \n",
       "2      509cfaf0af8fb42404ce26bd4e588ad5  79bb4df55faae43b12f0b3a12600cdf6   \n",
       "3      b4113b55e3e8f4d8b24bc7194f871426  94cc96c7f585fc99f11fe996e3e7737e   \n",
       "4      2b31463c137f8e33d6ae1a1ad1990992  d88462ca07d83b15a6c817a884a6ac51   \n",
       "...                                 ...                               ...   \n",
       "90595  e40830c9c9e0f59ef8934ae56f410dfc  8e23fbd375d9d847c3909d566be10941   \n",
       "90596  af1535c00916bce83d2ddad2e7943dfa  9b815a76c2e87c4ecd1eefb2dff8712e   \n",
       "90597  d6b829f6b3cdab7107c2d037b0516259  ab47b17eaf56617e724cc3f8cafaf0a4   \n",
       "90598  549517ba0626c64463c8774f7f4c0dbd  dab715dd9312a07a5193eeba8b1879dc   \n",
       "90599  9bce0bff9a756f84401e039d8b2901b4  73862fd2b94b37fb737cb2c977391e8d   \n",
       "\n",
       "              SKIN__avatar_clone_itemId       AURORA__avatar_clone_itemId  \\\n",
       "0      fdb1174f0cd37a49b3a01879c74a862f  e2d3fc083f256d83ff19df610c0dfb14   \n",
       "1      3d62682b71640ee2fb5056da50f95b2d  ba7dbd55e9e0fa422fb5d9be30621bc4   \n",
       "2      da4ca3d89fdf33accbe9aa34c2e9b910  e2d3fc083f256d83ff19df610c0dfb14   \n",
       "3      7231e56eae9b306d1574fc0f2be3cad1  e2d3fc083f256d83ff19df610c0dfb14   \n",
       "4      ce3165a7d9f229d94aa06fd3b7fd04c8  e2d3fc083f256d83ff19df610c0dfb14   \n",
       "...                                 ...                               ...   \n",
       "90595  2d073861f40e0e3c668f832befbe76a2  0c85043f055780b4454d9c7c4567f16e   \n",
       "90596  c072110461d2bb78221b62bdfbd60810  e2d3fc083f256d83ff19df610c0dfb14   \n",
       "90597  f85cac0eb217217e1bb6de8b62e12767  0c85043f055780b4454d9c7c4567f16e   \n",
       "90598                               nan                               nan   \n",
       "90599                               nan                               nan   \n",
       "\n",
       "            WEAPON__avatar_clone_itemId    AURA_SKIN__avatar_clone_itemId  \n",
       "0      e5f9d8f370765a3496f0b3ef189a0e7f  d1bb79f2380a3375cb7a473246053ffa  \n",
       "1      f742d25f8e25513de703149cbd432e65  2fd6865377f6563035def5de26f489b7  \n",
       "2      d58731378b57cdcd957614255173424a  3baabfc239dd420d0b6673c7b1426391  \n",
       "3      a6f732dc2f3fa8ef24a420cca2ca5aa2  025ff1f20ce27272539704aedb878ac1  \n",
       "4      6723b14653bc97f521e990439b3bad77  f99513274bbef4290a1379c223933338  \n",
       "...                                 ...                               ...  \n",
       "90595  5c94117f7b5b2232b776011cfa42579e                               nan  \n",
       "90596  ccde39545f0f69b26e9f6b23f41751a0  f99513274bbef4290a1379c223933338  \n",
       "90597  0a67f9043419e9684ca9693a2735cd6f  f99513274bbef4290a1379c223933338  \n",
       "90598                               nan                               nan  \n",
       "90599  d7686c7644da98c18e4aeab47634fd1f                               nan  \n",
       "\n",
       "[90598 rows x 12 columns]"
      ]
     },
     "execution_count": 281,
     "metadata": {},
     "output_type": "execute_result"
    }
   ],
   "source": [
    "df2= df2[[part + '_clone_itemId' for part in parts] ]\n",
    "df2"
   ]
  },
  {
   "cell_type": "code",
   "execution_count": 296,
   "metadata": {},
   "outputs": [],
   "source": [
    "avatar_list = []\n",
    "for n, col in enumerate(df2.columns):\n",
    "    avatar_list += list(df2[col])"
   ]
  },
  {
   "cell_type": "code",
   "execution_count": 298,
   "metadata": {},
   "outputs": [
    {
     "data": {
      "text/plain": [
       "1087176"
      ]
     },
     "execution_count": 298,
     "metadata": {},
     "output_type": "execute_result"
    }
   ],
   "source": [
    "len(avatar_list)"
   ]
  },
  {
   "cell_type": "code",
   "execution_count": 302,
   "metadata": {},
   "outputs": [
    {
     "data": {
      "text/plain": [
       "'3047cef01a89a4236d221affc427ad0b'"
      ]
     },
     "execution_count": 302,
     "metadata": {},
     "output_type": "execute_result"
    }
   ],
   "source": [
    "avatar_list[5]"
   ]
  },
  {
   "cell_type": "markdown",
   "metadata": {},
   "source": [
    "### 아바타 정보 조회"
   ]
  },
  {
   "cell_type": "code",
   "execution_count": 303,
   "metadata": {},
   "outputs": [],
   "source": [
    "api_key = 'tpdRM9str2wnlCdXYKV8d0asex1OZ3qx'"
   ]
  },
  {
   "cell_type": "code",
   "execution_count": 304,
   "metadata": {},
   "outputs": [],
   "source": [
    "def df_user_avatar(itemId = ''):\n",
    "    url = f'https://api.neople.co.kr/df/items/{itemId}?apikey={api_key}'\n",
    "    return requests.get(url)"
   ]
  },
  {
   "cell_type": "code",
   "execution_count": null,
   "metadata": {},
   "outputs": [],
   "source": [
    "k_api_key = 'tpdRM9str2wnlCdXYKV8d0asex1OZ3qx'\n",
    "s_api_key = 'pbbbgUYYMI62yB5geuYs2fEPyxAi1pmu'\n",
    "apikey = k_api_key\n",
    "for i in range(len(avatar_list)):\n",
    "    "
   ]
  },
  {
   "cell_type": "markdown",
   "metadata": {},
   "source": [
    "### 유저 아바타 데이터 직업별로 나누기"
   ]
  },
  {
   "cell_type": "code",
   "execution_count": null,
   "metadata": {},
   "outputs": [],
   "source": []
  }
 ],
 "metadata": {
  "kernelspec": {
   "display_name": "Python 3",
   "language": "python",
   "name": "python3"
  },
  "language_info": {
   "codemirror_mode": {
    "name": "ipython",
    "version": 3
   },
   "file_extension": ".py",
   "mimetype": "text/x-python",
   "name": "python",
   "nbconvert_exporter": "python",
   "pygments_lexer": "ipython3",
   "version": "3.10.11"
  }
 },
 "nbformat": 4,
 "nbformat_minor": 2
}
